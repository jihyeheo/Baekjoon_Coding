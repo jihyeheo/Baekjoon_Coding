{
 "cells": [
  {
   "cell_type": "markdown",
   "metadata": {},
   "source": [
    "### 1번. 포켓몬 GO [13717]"
   ]
  },
  {
   "cell_type": "code",
   "execution_count": 36,
   "metadata": {},
   "outputs": [
    {
     "name": "stdout",
     "output_type": "stream",
     "text": [
      "7\n",
      "b\n",
      "25 74\n",
      "i\n",
      "100 83\n",
      "c\n",
      "25 116\n",
      "cs\n",
      "100 32\n",
      "s\n",
      "25 1\n",
      "w\n",
      "100 173\n",
      "p\n",
      "50 154\n",
      "11\n",
      "c\n"
     ]
    }
   ],
   "source": [
    "N = int(input()) # 1\n",
    "\n",
    "tmp = []\n",
    "tmp2 = []\n",
    "for i in range(N):\n",
    "    p = input() # 포켓몬 이름\n",
    "    k,m = map(int, input().split()) # 진화에 필요한 사탕 수, 포켓몬의 총 사탕 수\n",
    "    \n",
    "    num = 0\n",
    "    while True:\n",
    "        if k > m :\n",
    "            break\n",
    "        m = m - k \n",
    "        num += 1\n",
    "        m += 2\n",
    "\n",
    "    if num > 0 :\n",
    "        tmp.append(num)\n",
    "        tmp2.append(p)\n",
    "print(sum(tmp))\n",
    "max_num = tmp.index(max(tmp))\n",
    "print(tmp2[max_num])"
   ]
  },
  {
   "cell_type": "markdown",
   "metadata": {},
   "source": [
    "### 2번. D-Day [1308]\n"
   ]
  },
  {
   "cell_type": "code",
   "execution_count": 41,
   "metadata": {},
   "outputs": [
    {
     "name": "stdout",
     "output_type": "stream",
     "text": [
      "2008 12 27\n",
      "2009 1 22\n"
     ]
    }
   ],
   "source": [
    "t_y, t_m, y_d = map(int, input().split()) # 오늘 날짜\n",
    "d_y, d_m, d_d = map(int, input().split()) # 디데이\n",
    "\n",
    "yoon_year = []\n",
    "for i in range(t_y, 10000):\n",
    "    if (i%4 == 0 and i%100 != 0) or i%400 == 0 :\n",
    "        yoon_year.append(i)\n",
    "\n",
    "if t_y in yoon_year:\n",
    "    366 - \n",
    "        \n",
    "        \n",
    "        \n",
    "if ((d_y - t_y) > 1000) or ((d_y - t_y) == 1000 and (d_m - t_m) >= 1) or ((d_y - t_y) == 1000 and (d_m - t_m) == 0 and (d_d - y_d) >= 1) : # 1000년 초과\n",
    "    print(\"gg\")"
   ]
  },
  {
   "cell_type": "code",
   "execution_count": 86,
   "metadata": {},
   "outputs": [
    {
     "name": "stdout",
     "output_type": "stream",
     "text": [
      "2008 12 27\n",
      "3008 12 27\n",
      "gg\n"
     ]
    }
   ],
   "source": [
    "t_y, t_m, y_d = map(int, input().split()) # 오늘 날짜\n",
    "d_y, d_m, d_d = map(int, input().split()) # 디데이\n",
    "\n",
    "from datetime import datetime\n",
    "\n",
    "time1 = datetime(t_y,t_m, y_d)\n",
    "time2 = datetime(d_y,d_m, d_d)\n",
    "time3 = datetime(t_y+1000,t_m,y_d) # 1000년\n",
    "\n",
    "times21 = (time2 - time1).days\n",
    "if (time2-time3).days >= 0:\n",
    "    print(\"gg\")\n",
    "else:\n",
    "    print('D-{}'.format(times21))"
   ]
  },
  {
   "cell_type": "code",
   "execution_count": 84,
   "metadata": {},
   "outputs": [
    {
     "data": {
      "text/plain": [
       "datetime.datetime(3008, 12, 27, 0, 0)"
      ]
     },
     "execution_count": 84,
     "metadata": {},
     "output_type": "execute_result"
    }
   ],
   "source": [
    "time3"
   ]
  },
  {
   "cell_type": "markdown",
   "metadata": {},
   "source": [
    "### 3번. 성지의 생일파티 [1645]\n",
    "\n",
    "\n",
    "하나씩 빼볼 때 반드시 필요한 애 +1 카운트"
   ]
  },
  {
   "cell_type": "code",
   "execution_count": 94,
   "metadata": {
    "scrolled": true
   },
   "outputs": [
    {
     "name": "stdout",
     "output_type": "stream",
     "text": [
      "5\n",
      "3\n",
      "4\n",
      "3\n",
      "3\n",
      "3\n",
      "[]\n",
      "[4]\n",
      "4\n"
     ]
    }
   ],
   "source": [
    "n = int(input()) # 줄\n",
    "\n",
    "tmp  = []\n",
    "for i in range(n):\n",
    "    tmp.append(int(input()))\n",
    "tmp.sort(reverse=True) # 역순서대로\n",
    "\n",
    "\n",
    "result = []\n",
    "for i in range(1,len(tmp)+1):\n",
    "    if tmp[i-1] == len(tmp) - i: # 같은 자리에 있으면\n",
    "        print(result)\n",
    "        result.append(tmp[i-1])\n",
    "a = result.index(min(result))\n",
    "print(result[a]+1)"
   ]
  },
  {
   "cell_type": "markdown",
   "metadata": {},
   "source": [
    "### 4번. 기상청 인턴 신현수 [2435]"
   ]
  },
  {
   "cell_type": "code",
   "execution_count": 109,
   "metadata": {},
   "outputs": [
    {
     "name": "stdout",
     "output_type": "stream",
     "text": [
      "10 2\n",
      "3 -2 -4 -9 0 3 7 13 8 -3\n",
      "21\n"
     ]
    }
   ],
   "source": [
    "n, k = map(int, input().split())\n",
    "tmp = list(map(int, input().split()))\n",
    "\n",
    "tmp2 = []\n",
    "for i in range(n-k+1):\n",
    "    tmp2.append(sum(tmp[i:i+k]))\n",
    "print(max(tmp2))"
   ]
  },
  {
   "cell_type": "markdown",
   "metadata": {},
   "source": [
    "### 5번. 최후의 승자는 누구? [12760]\n",
    "\n",
    "\n",
    "14%에서 계속 막힘\n",
    "\n",
    "-> 카드 중에서 가장 큰 거 내는 문제였음 ㅋㅋㅋ"
   ]
  },
  {
   "cell_type": "code",
   "execution_count": 8,
   "metadata": {
    "scrolled": true
   },
   "outputs": [
    {
     "name": "stdout",
     "output_type": "stream",
     "text": [
      "5 3\n",
      "5 4 3\n",
      "2 5 1\n",
      "3 3 3\n",
      "2 2 2\n",
      "1 1 1\n",
      "1\n"
     ]
    }
   ],
   "source": [
    "n,m = map(int, input().split()) # 플레이어 수, 카드 수\n",
    "\n",
    "tmp = []\n",
    "for i in range(n):\n",
    "    a = list(map(int, input().split()))\n",
    "    tmp.append(sorted(a,reverse=True))\n",
    "# --------------------------    \n",
    "\n",
    "# 행열 바꿔서 게임별로 max인 값 가진 index 추출하기\n",
    "result = [] # 1등한 애의 번호들의 모임\n",
    "for tmp_ in list(zip(*tmp)):\n",
    "    max_ = max(tmp_)\n",
    "    for i in range(len(tmp_)):\n",
    "        if tmp_[i] == max_:\n",
    "            result.append(i+1)\n",
    "\n",
    "# 최대값 추출   \n",
    "tmp3 = []\n",
    "tmp4 = []\n",
    "for i in set(sorted(result)):\n",
    "    b = result.count(i)\n",
    "    tmp3.append(b) # 개수\n",
    "    tmp4.append(i) # ㅂㅎ\n",
    "\n",
    "results = []\n",
    "# 개수가 다 1,1,1,1 또는 2222 이렇게 동일한 개수가 있을 때\n",
    "#if len(set(tmp3)) == 1:\n",
    "#    print(*sorted(result))\n",
    "#else:\n",
    "for i in range(len(tmp3)):\n",
    "    if tmp3[i] == max(tmp3):\n",
    "        results.append(tmp4[i])\n",
    "print(*sorted(results))        \n"
   ]
  },
  {
   "cell_type": "markdown",
   "metadata": {},
   "source": [
    "### 6번. 물건 팔기 [1487]"
   ]
  },
  {
   "cell_type": "code",
   "execution_count": 37,
   "metadata": {},
   "outputs": [
    {
     "name": "stdout",
     "output_type": "stream",
     "text": [
      "5\n",
      "10 1\n",
      "10 5\n",
      "20 11\n",
      "20 15\n",
      "5 0\n",
      "10\n"
     ]
    }
   ],
   "source": [
    "n = int(input())\n",
    "\n",
    "tmp = []\n",
    "for i in range(n):\n",
    "    a = list(map(int, input().split()))\n",
    "    tmp.append(a)\n",
    "\n",
    "# ------------------------\n",
    "tmp = sorted(tmp)\n",
    "\n",
    "# cost에다가 자기 배달비를 빼서 더해줌, ㅈㄱ : cost보다 클 때\n",
    "tmp2 = []\n",
    "for i in range(len(tmp)):\n",
    "    cost = tmp[i][0]\n",
    "    num = 0\n",
    "    for j in range(0,len(tmp)):\n",
    "        if tmp[j][0] >= cost:\n",
    "            a = cost - tmp[j][1]\n",
    "            if a >=0:\n",
    "                num +=  a\n",
    "    tmp2.append(num)\n",
    "if set(tmp2) == {0}:\n",
    "    print(0)\n",
    "else: \n",
    "    print(tmp[tmp2.index(max(tmp2))][0])"
   ]
  },
  {
   "cell_type": "markdown",
   "metadata": {},
   "source": [
    "### 7번. 상범이의 우울 [2811]"
   ]
  },
  {
   "cell_type": "code",
   "execution_count": 108,
   "metadata": {
    "scrolled": true
   },
   "outputs": [
    {
     "name": "stdout",
     "output_type": "stream",
     "text": [
      "15\n",
      "1 2 -1 2 3 4 5 6 1 4 8 3 -1 -2 1\n",
      "8\n"
     ]
    }
   ],
   "source": [
    "n = int(input()) # 기간\n",
    "tmp = list(map(int, input().split())) # 우울한지 아닌지!\n",
    "d=[0]*n\n",
    "tmp2 = []\n",
    "for i in range(len(tmp)):\n",
    "    if tmp[i] < 0:\n",
    "        tmp2.append(1) # 우울기간\n",
    "    else:\n",
    "        tmp2.append(0) # 해피기간\n",
    "\n",
    "num2 = 0\n",
    "tmp3 = []\n",
    "for j in range(len(tmp2)) :\n",
    "    if tmp2[j] == 0:\n",
    "        tmp3.append(num2)\n",
    "        if num2 != 0:\n",
    "            tmp3.append(int(num2*'0')) # 개수 맞춰주기용\n",
    "\n",
    "        num2 = 0\n",
    "    else:\n",
    "        num2 +=1\n",
    "tmp3.append(num2)\n",
    "ss=0\n",
    "t = -1\n",
    "\n",
    "for k in range(tmp3.count(max(tmp3))):\n",
    "    #print(ll)\n",
    "    t = tmp3.index(max(tmp3),t+1) # 최대값 위치 찾기 끝\n",
    "    \n",
    "    for i in range(len(tmp3)):\n",
    "        if tmp3[i] != 0 :\n",
    "            if i == t:\n",
    "                s = 3\n",
    "            else:\n",
    "                s = 2 \n",
    "            for j in range(1,s*tmp3[i]+1):\n",
    "                if i - j < 0:\n",
    "                    break\n",
    "                d[i-j] = 1\n",
    "    if sum(d)>ss:\n",
    "        ss=sum(d)\n",
    "print(ss)"
   ]
  },
  {
   "cell_type": "code",
   "execution_count": 99,
   "metadata": {},
   "outputs": [
    {
     "data": {
      "text/plain": [
       "[0, 1, 0, 0, 0, 1, 0, 1]"
      ]
     },
     "execution_count": 99,
     "metadata": {},
     "output_type": "execute_result"
    }
   ],
   "source": [
    "tmp3"
   ]
  },
  {
   "cell_type": "markdown",
   "metadata": {},
   "source": [
    "### 8번. 이런 반전이 [11947]\n",
    "\n",
    "\n",
    "이차식이니까 점차적으로 증가하다가 단위의 반(50,500 등) 이 된다면 젤 커지고 다시 작아질거임! 그거를 이용해서 푸는 문제~ \n",
    "\n",
    "전체적으로 다 보면 안된다 ㅎㅎ"
   ]
  },
  {
   "cell_type": "code",
   "execution_count": 58,
   "metadata": {},
   "outputs": [
    {
     "name": "stdout",
     "output_type": "stream",
     "text": [
      "2\n",
      "7\n",
      "20\n",
      "100\n",
      "89900\n"
     ]
    }
   ],
   "source": [
    "def f(n):\n",
    "    num = 0\n",
    "    n = str(n)\n",
    "    for i in range(len(n)-1,-1,-1):\n",
    "        num += (9 - int(n[i]))*(10**(len(n)-i-1))\n",
    "    return num\n",
    "\n",
    "t = int(input())\n",
    "for i in range(t):\n",
    "    x = int(input())\n",
    "    tmp2 = []\n",
    "    max_num = 0\n",
    "    \n",
    "    if x > (10**len(str(x)))//2 : \n",
    "        a = (10**len(str(x)))//2\n",
    "        max_num = a * f(a)\n",
    "    else :\n",
    "        max_num = x * f(x)\n",
    "\n",
    "    print(max_num)    "
   ]
  },
  {
   "cell_type": "markdown",
   "metadata": {},
   "source": [
    "### 9번. 회의실 배정 [1931]\n",
    "\n",
    "https://hongcoding.tistory.com/22\n",
    "\n",
    "sort해서 순서대로 만든 다음에 꼬리잡기 하면 됨"
   ]
  },
  {
   "cell_type": "code",
   "execution_count": 6,
   "metadata": {},
   "outputs": [
    {
     "name": "stdout",
     "output_type": "stream",
     "text": [
      "11\n",
      "1 4\n",
      "3 5\n",
      "0 6\n",
      "5 7\n",
      "3 8\n",
      "5 9\n",
      "6 10\n",
      "8 11\n",
      "8 12\n",
      "2 13\n",
      "12 14\n",
      "3\n",
      "7\n",
      "10\n",
      "4\n"
     ]
    }
   ],
   "source": [
    "n = int(input())\n",
    "\n",
    "room = []\n",
    "for i in range(n):\n",
    "    start, end = map(int, input().split())\n",
    "    room.append([start, end])\n",
    "room.sort(key = lambda x:x[0])\n",
    "room.sort(key = lambda x:x[1])\n",
    "\n",
    "cnt = 1\n",
    "end = room[0][1]\n",
    "\n",
    "for i in range(1,n):\n",
    "    if room[i][0]>=end:\n",
    "        cnt +=1\n",
    "        end = room[i][1]\n",
    "print(cnt)"
   ]
  }
 ],
 "metadata": {
  "kernelspec": {
   "display_name": "Python 3",
   "language": "python",
   "name": "python3"
  },
  "language_info": {
   "codemirror_mode": {
    "name": "ipython",
    "version": 3
   },
   "file_extension": ".py",
   "mimetype": "text/x-python",
   "name": "python",
   "nbconvert_exporter": "python",
   "pygments_lexer": "ipython3",
   "version": "3.8.5"
  }
 },
 "nbformat": 4,
 "nbformat_minor": 4
}
