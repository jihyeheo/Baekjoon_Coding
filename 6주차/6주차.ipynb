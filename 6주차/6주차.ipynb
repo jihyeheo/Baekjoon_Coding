{
 "cells": [
  {
   "cell_type": "markdown",
   "metadata": {},
   "source": [
    "### 1번. 짝수를 찾아라 [3058]"
   ]
  },
  {
   "cell_type": "code",
   "execution_count": 9,
   "metadata": {},
   "outputs": [
    {
     "name": "stdout",
     "output_type": "stream",
     "text": [
      "2\n",
      "1 2 3 4 5 6 7\n",
      "12 2\n",
      "13 78 39 42 54 93 86\n",
      "260 42\n"
     ]
    }
   ],
   "source": [
    "t = int(input())\n",
    "\n",
    "num = []\n",
    "for _ in range(t):\n",
    "    num = list(map(int,input().split()))\n",
    "    \n",
    "    results = []\n",
    "    for i in num:\n",
    "        if i%2 == 0:\n",
    "            results.append(i)\n",
    "    results.sort()\n",
    "    \n",
    "    print(sum(results),results[0])"
   ]
  },
  {
   "cell_type": "markdown",
   "metadata": {},
   "source": [
    "### 2번. 루트 [4619]"
   ]
  },
  {
   "cell_type": "code",
   "execution_count": 19,
   "metadata": {},
   "outputs": [
    {
     "name": "stdout",
     "output_type": "stream",
     "text": [
      "4 3\n",
      "1\n",
      "0 0\n"
     ]
    }
   ],
   "source": [
    "import math\n",
    "while True:\n",
    "    b,n =  map(int,input().split())\n",
    "    if b == 0 and n == 0:\n",
    "        break\n",
    "    a = math.floor(b**(1/n))\n",
    "    a1 = abs(b - (a-1)**n) \n",
    "    a2 = abs(b - a**n)\n",
    "    a3 = abs(b- (a+1)**n)\n",
    "    a_find = min(a1,a2,a3)\n",
    "    if a_find == a1:\n",
    "        print(a-1)\n",
    "    elif a_find == a2:\n",
    "        print(a)\n",
    "    else:\n",
    "        print(a+1)"
   ]
  },
  {
   "cell_type": "markdown",
   "metadata": {},
   "source": [
    "### 3번. 다음수 [4880]"
   ]
  },
  {
   "cell_type": "code",
   "execution_count": 26,
   "metadata": {},
   "outputs": [
    {
     "name": "stdout",
     "output_type": "stream",
     "text": [
      "-3 0 3\n",
      "AP 6\n",
      "-9 -3 0\n",
      "GP 0\n",
      "0 0 0\n"
     ]
    }
   ],
   "source": [
    "while True:\n",
    "    a1,a2,a3 = map(int, input().split())\n",
    "    if a1 == 0 and a2 == 0 and a3 == 0:\n",
    "        break\n",
    "    a_ap = [a2-a1, a3-a2]\n",
    "    if len(set(a_ap)) == 1:\n",
    "        print(\"AP\",a3+(a3-a2))\n",
    "    else: \n",
    "        if a1 !=0 and a2 !=0:\n",
    "            a_gp = [a2//a1, a3//a2]\n",
    "        if len(set(a_gp)) == 1:\n",
    "            print(\"GP\",a3*(a3//a2))"
   ]
  },
  {
   "cell_type": "markdown",
   "metadata": {},
   "source": [
    "### 4번. 완전 세제곱 [4690]"
   ]
  },
  {
   "cell_type": "code",
   "execution_count": 44,
   "metadata": {},
   "outputs": [
    {
     "name": "stdout",
     "output_type": "stream",
     "text": [
      "Cube = 6, Triple = (3,4,5)\n",
      "Cube = 12, Triple = (6,8,10)\n",
      "Cube = 18, Triple = (2,12,16)\n",
      "Cube = 18, Triple = (9,12,15)\n",
      "Cube = 19, Triple = (3,10,18)\n",
      "Cube = 20, Triple = (7,14,17)\n",
      "Cube = 24, Triple = (12,16,20)\n",
      "Cube = 25, Triple = (4,17,22)\n",
      "Cube = 27, Triple = (3,18,24)\n",
      "Cube = 28, Triple = (18,19,21)\n",
      "Cube = 29, Triple = (11,15,27)\n",
      "Cube = 30, Triple = (15,20,25)\n",
      "Cube = 36, Triple = (4,24,32)\n",
      "Cube = 36, Triple = (18,24,30)\n",
      "Cube = 38, Triple = (6,20,36)\n",
      "Cube = 40, Triple = (14,28,34)\n",
      "Cube = 41, Triple = (2,17,40)\n",
      "Cube = 41, Triple = (6,32,33)\n",
      "Cube = 42, Triple = (21,28,35)\n",
      "Cube = 44, Triple = (16,23,41)\n",
      "Cube = 45, Triple = (5,30,40)\n",
      "Cube = 46, Triple = (3,36,37)\n",
      "Cube = 46, Triple = (27,30,37)\n",
      "Cube = 48, Triple = (24,32,40)\n",
      "Cube = 50, Triple = (8,34,44)\n",
      "Cube = 53, Triple = (29,34,44)\n",
      "Cube = 54, Triple = (6,36,48)\n",
      "Cube = 54, Triple = (12,19,53)\n",
      "Cube = 54, Triple = (27,36,45)\n",
      "Cube = 56, Triple = (36,38,42)\n",
      "Cube = 57, Triple = (9,30,54)\n",
      "Cube = 58, Triple = (15,42,49)\n",
      "Cube = 58, Triple = (22,30,54)\n",
      "Cube = 60, Triple = (21,42,51)\n",
      "Cube = 60, Triple = (30,40,50)\n",
      "Cube = 63, Triple = (7,42,56)\n",
      "Cube = 66, Triple = (33,44,55)\n",
      "Cube = 67, Triple = (22,51,54)\n",
      "Cube = 69, Triple = (36,38,61)\n",
      "Cube = 70, Triple = (7,54,57)\n",
      "Cube = 71, Triple = (14,23,70)\n",
      "Cube = 72, Triple = (8,48,64)\n",
      "Cube = 72, Triple = (34,39,65)\n",
      "Cube = 72, Triple = (36,48,60)\n",
      "Cube = 75, Triple = (12,51,66)\n",
      "Cube = 75, Triple = (38,43,66)\n",
      "Cube = 76, Triple = (12,40,72)\n",
      "Cube = 76, Triple = (31,33,72)\n",
      "Cube = 78, Triple = (39,52,65)\n",
      "Cube = 80, Triple = (28,56,68)\n",
      "Cube = 81, Triple = (9,54,72)\n",
      "Cube = 81, Triple = (25,48,74)\n",
      "Cube = 82, Triple = (4,34,80)\n",
      "Cube = 82, Triple = (12,64,66)\n",
      "Cube = 82, Triple = (19,60,69)\n",
      "Cube = 84, Triple = (28,53,75)\n",
      "Cube = 84, Triple = (42,56,70)\n",
      "Cube = 84, Triple = (54,57,63)\n",
      "Cube = 85, Triple = (50,61,64)\n",
      "Cube = 87, Triple = (20,54,79)\n",
      "Cube = 87, Triple = (26,55,78)\n",
      "Cube = 87, Triple = (33,45,81)\n",
      "Cube = 87, Triple = (38,48,79)\n",
      "Cube = 88, Triple = (21,43,84)\n",
      "Cube = 88, Triple = (25,31,86)\n",
      "Cube = 88, Triple = (32,46,82)\n",
      "Cube = 89, Triple = (17,40,86)\n",
      "Cube = 90, Triple = (10,60,80)\n",
      "Cube = 90, Triple = (25,38,87)\n",
      "Cube = 90, Triple = (45,60,75)\n",
      "Cube = 90, Triple = (58,59,69)\n",
      "Cube = 92, Triple = (6,72,74)\n",
      "Cube = 92, Triple = (54,60,74)\n",
      "Cube = 93, Triple = (32,54,85)\n",
      "Cube = 95, Triple = (15,50,90)\n",
      "Cube = 96, Triple = (19,53,90)\n",
      "Cube = 96, Triple = (48,64,80)\n",
      "Cube = 97, Triple = (45,69,79)\n",
      "Cube = 99, Triple = (11,66,88)\n",
      "Cube = 100, Triple = (16,68,88)\n",
      "Cube = 100, Triple = (35,70,85)\n"
     ]
    }
   ],
   "source": [
    "for a_ in range(2,101):\n",
    "    for b in range(2,101):\n",
    "        for c in range(b+1,101):\n",
    "            for d in range(c+1,101):\n",
    "                if (a_**3) == (b**3) + (c**3) + (d**3):\n",
    "                        print(\"Cube = %s, Triple = (%s,%s,%s)\" % (a_,b,c,d))"
   ]
  },
  {
   "cell_type": "markdown",
   "metadata": {},
   "source": [
    "### 5번. 얼마? [9325]"
   ]
  },
  {
   "cell_type": "code",
   "execution_count": 47,
   "metadata": {},
   "outputs": [
    {
     "name": "stdout",
     "output_type": "stream",
     "text": [
      "2\n",
      "10000\n",
      "2\n",
      "1 2000\n",
      "3 400\n",
      "13200\n",
      "50000\n",
      "0\n",
      "50000\n"
     ]
    }
   ],
   "source": [
    "t = int(input())\n",
    "\n",
    "\n",
    "for _ in range(t):\n",
    "    s = int(input())\n",
    "    n = int(input())\n",
    "    option = []\n",
    "    for i in range(n):\n",
    "        q,p = map(int, input().split())\n",
    "        option.append(q*p)\n",
    "        \n",
    "    print(s+sum(option))"
   ]
  },
  {
   "cell_type": "markdown",
   "metadata": {},
   "source": [
    "### 6번. 더하기 [10822]"
   ]
  },
  {
   "cell_type": "code",
   "execution_count": 48,
   "metadata": {},
   "outputs": [
    {
     "name": "stdout",
     "output_type": "stream",
     "text": [
      "10,20,30,50,100\n",
      "210\n"
     ]
    }
   ],
   "source": [
    "a = list(map(int, input().split(\",\")))\n",
    "print(sum(a))"
   ]
  },
  {
   "cell_type": "markdown",
   "metadata": {},
   "source": [
    "### 7번. NN [11944]"
   ]
  },
  {
   "cell_type": "code",
   "execution_count": 53,
   "metadata": {},
   "outputs": [
    {
     "name": "stdout",
     "output_type": "stream",
     "text": [
      "20 16\n",
      "2020202020202020\n"
     ]
    }
   ],
   "source": [
    "n, m = map(int, input().split())\n",
    "print((str(n)*n)[:m])"
   ]
  },
  {
   "cell_type": "markdown",
   "metadata": {},
   "source": [
    "### 8번. 닉네임에 갓 붙이기 [13163]"
   ]
  },
  {
   "cell_type": "code",
   "execution_count": 56,
   "metadata": {},
   "outputs": [
    {
     "name": "stdout",
     "output_type": "stream",
     "text": [
      "1\n",
      "beak joon\n",
      "godjoon\n"
     ]
    }
   ],
   "source": [
    "n = int(input())\n",
    "\n",
    "for _ in range(n):\n",
    "    name = list(input().split())\n",
    "    name[0] = 'god'\n",
    "    print(''.join(name))"
   ]
  },
  {
   "cell_type": "markdown",
   "metadata": {},
   "source": [
    "### 9번. 거꾸로 구구단 [13410]"
   ]
  },
  {
   "cell_type": "code",
   "execution_count": 60,
   "metadata": {},
   "outputs": [
    {
     "name": "stdout",
     "output_type": "stream",
     "text": [
      "8 9\n",
      "84\n"
     ]
    }
   ],
   "source": [
    "n,k = map(int, input().split())\n",
    "\n",
    "gugudan = []\n",
    "for j in range(1,k+1,1):\n",
    "    gugudan.append(n*j)\n",
    "max_gugudan = []\n",
    "for i in gugudan:\n",
    "    max_gugudan.append(int(str(i)[::-1]))\n",
    "    \n",
    "print(max(max_gugudan))"
   ]
  },
  {
   "cell_type": "markdown",
   "metadata": {},
   "source": [
    "### 10번. 차량 번호판 1 [16968]"
   ]
  },
  {
   "cell_type": "code",
   "execution_count": 118,
   "metadata": {},
   "outputs": [
    {
     "name": "stdout",
     "output_type": "stream",
     "text": [
      "dddd\n",
      "7290\n"
     ]
    }
   ],
   "source": [
    "car = input()\n",
    "dic = {'d':10, 'c':26}\n",
    "all1 = 10\n",
    "all2 = 26\n",
    "temp2 = 1\n",
    "\n",
    "for i in range(0,len(car),1):\n",
    "    if i == 0:\n",
    "        temp2 *= dic[car[i]]\n",
    "    if i >= 1:\n",
    "        if car[i] == car[i-1]:\n",
    "            if car[i] == 'd':\n",
    "                if all1 == 10:\n",
    "                    all1 -= 1\n",
    "                    temp2 *= (all1)\n",
    "                else :\n",
    "                    temp2 *= 9\n",
    "            if car[i] == 'c':\n",
    "                if all2 == 26:\n",
    "                    all2 -= 1\n",
    "                    temp2 *= (all2)\n",
    "                else :\n",
    "                    temp2 *= 25\n",
    "        \n",
    "        else:\n",
    "            temp2 *= dic[car[i]]\n",
    "print(temp2)"
   ]
  },
  {
   "cell_type": "markdown",
   "metadata": {},
   "source": [
    "연속으로 오는 두 자리만 신경써야 함. 따라서 dddd 연속으로 오면 10*9*9*9 이렇게 곱해져서 7290이 된다."
   ]
  },
  {
   "cell_type": "markdown",
   "metadata": {},
   "source": [
    "### 11번. 막대기 [1094]"
   ]
  },
  {
   "cell_type": "code",
   "execution_count": 115,
   "metadata": {},
   "outputs": [
    {
     "name": "stdout",
     "output_type": "stream",
     "text": [
      "23\n",
      "16\n",
      "4\n",
      "2\n",
      "1\n",
      "4\n"
     ]
    }
   ],
   "source": [
    "x = int(input())\n",
    "\n",
    "stick = [64,32,16,8,4,2,1]\n",
    "cnt = 0\n",
    "\n",
    "for i in range(len(stick)):\n",
    "    if x >= stick[i]:\n",
    "        cnt += 1\n",
    "        x -= stick[i]\n",
    "        \n",
    "    if x == 0:\n",
    "        break\n",
    "        \n",
    "print(cnt)"
   ]
  },
  {
   "cell_type": "markdown",
   "metadata": {},
   "source": [
    "### 12번. 영화감독 숌 [1436]"
   ]
  },
  {
   "cell_type": "markdown",
   "metadata": {},
   "source": [
    "문제 이해가 중요. 666 숫자가 나올 때마다 카운터를 늘리면 된다."
   ]
  },
  {
   "cell_type": "code",
   "execution_count": 67,
   "metadata": {},
   "outputs": [
    {
     "name": "stdout",
     "output_type": "stream",
     "text": [
      "500\n",
      "166699\n"
     ]
    }
   ],
   "source": [
    "num = int(input())\n",
    "n = 0\n",
    "for i in range(665,10000000):\n",
    "    if '666' in str(i):\n",
    "        n += 1   \n",
    "    if num == n :\n",
    "        print(i)\n",
    "        break\n"
   ]
  },
  {
   "cell_type": "markdown",
   "metadata": {},
   "source": [
    "-> 질문. 여기 범위를 다르게 해주거나 while문 쓴 코드 궁금"
   ]
  },
  {
   "cell_type": "markdown",
   "metadata": {},
   "source": [
    "### 13번. 방 번호 [1475]"
   ]
  },
  {
   "cell_type": "markdown",
   "metadata": {},
   "source": [
    "참고 : https://bgspro.tistory.com/62"
   ]
  },
  {
   "cell_type": "code",
   "execution_count": 141,
   "metadata": {
    "scrolled": true
   },
   "outputs": [
    {
     "name": "stdout",
     "output_type": "stream",
     "text": [
      "9966\n",
      "2\n"
     ]
    }
   ],
   "source": [
    "import math\n",
    "n = list(map(str,input()))\n",
    "one_set = [0]*10\n",
    "for i in n:\n",
    "    if i == '9' or i == '6':\n",
    "        one_set[6] += 0.5\n",
    "    else:\n",
    "        one_set[int(i)] += 1\n",
    "\n",
    "one_set[6] = math.ceil(one_set[6])\n",
    "\n",
    "\n",
    "print(max(one_set))"
   ]
  },
  {
   "cell_type": "markdown",
   "metadata": {},
   "source": [
    "-> 이거 왜 안되는지 질문하기"
   ]
  },
  {
   "cell_type": "code",
   "execution_count": 69,
   "metadata": {},
   "outputs": [
    {
     "name": "stdout",
     "output_type": "stream",
     "text": [
      "122\n",
      "2\n"
     ]
    }
   ],
   "source": [
    "word = input()\n",
    "ans = [0] * 10\n",
    "for i in range(len(word)):\n",
    "    num = int(word[i])\n",
    "    if num == 6 or num == 9:\n",
    "        if ans[6] <= ans[9]:\n",
    "            ans[6] += 1\n",
    "        else:\n",
    "            ans[9] += 1\n",
    "    else:\n",
    "        ans[num] += 1\n",
    "\n",
    "print(max(ans))"
   ]
  },
  {
   "cell_type": "markdown",
   "metadata": {},
   "source": [
    "### 14번. 소수 찾기 [1978]"
   ]
  },
  {
   "cell_type": "code",
   "execution_count": 115,
   "metadata": {},
   "outputs": [
    {
     "name": "stdout",
     "output_type": "stream",
     "text": [
      "4\n",
      "1 3 5 7\n",
      "3\n"
     ]
    }
   ],
   "source": [
    "n = int(input())\n",
    "a = list(map(int, input().split()))\n",
    "\n",
    "sosu = []\n",
    "for i in range(2,1001):\n",
    "    term = []\n",
    "    for j in range(i,0,-1):\n",
    "        if i%j == 0:\n",
    "            term.append(j)\n",
    "            if len(term) == 3:\n",
    "                pass\n",
    "    if len(term) == 2:\n",
    "        sosu.append(i)\n",
    "    \n",
    "    \n",
    "    \n",
    "count = 0\n",
    "for a_ in a:\n",
    "    if a_ in sosu:\n",
    "        count += 1\n",
    "        \n",
    "print(count)"
   ]
  },
  {
   "cell_type": "code",
   "execution_count": 119,
   "metadata": {},
   "outputs": [
    {
     "data": {
      "text/plain": [
       "False"
      ]
     },
     "execution_count": 119,
     "metadata": {},
     "output_type": "execute_result"
    }
   ],
   "source": [
    "num = []\n",
    "for i in sosu:\n",
    "    if 60<=i<=100:\n",
    "        num.append(i)\n",
    "result = [min(num),sum(num)]\n",
    "for i in result:\n",
    "    print(i)"
   ]
  },
  {
   "cell_type": "markdown",
   "metadata": {},
   "source": [
    "### 15번. 소수 [2581]"
   ]
  },
  {
   "cell_type": "code",
   "execution_count": 125,
   "metadata": {},
   "outputs": [
    {
     "name": "stdout",
     "output_type": "stream",
     "text": [
      "64\n",
      "65\n",
      "-1\n"
     ]
    }
   ],
   "source": [
    "m = int(input())\n",
    "n = int(input())\n",
    "\n",
    "sosu = []\n",
    "for i in range(2,10001):\n",
    "    term = []\n",
    "    for j in range(i,0,-1):\n",
    "        if i%j == 0:\n",
    "            term.append(j)\n",
    "            if len(term) >= 3:\n",
    "                pass\n",
    "    if len(term) == 2:\n",
    "        sosu.append(i)\n",
    "        \n",
    "num = []\n",
    "for i in sosu:\n",
    "    if m<=i<=n:\n",
    "        num.append(i)\n",
    "if len(num) == 0:\n",
    "    print(-1)\n",
    "else :\n",
    "    result = [sum(num),min(num)]\n",
    "    for i in result:\n",
    "        print(i)\n"
   ]
  },
  {
   "cell_type": "markdown",
   "metadata": {},
   "source": [
    "### 16번. 에라토스테네스의 체 [2960]"
   ]
  },
  {
   "cell_type": "markdown",
   "metadata": {},
   "source": [
    "소수를 찾는 방법. 범위에서 합성수를 지우는 방식으로 소수를 찾는다. "
   ]
  },
  {
   "cell_type": "code",
   "execution_count": 1,
   "metadata": {},
   "outputs": [
    {
     "name": "stdout",
     "output_type": "stream",
     "text": [
      "[2, 3, 5, 7, 11, 13, 17, 19, 23, 29]\n"
     ]
    }
   ],
   "source": [
    "n=30\n",
    "a = [False,False] + [True]*(n-1)\n",
    "primes=[]\n",
    "\n",
    "for i in range(2,n+1):\n",
    "    if a[i]:\n",
    "        primes.append(i)\n",
    "    for j in range(2*i, n+1, i):\n",
    "        a[j] = False\n",
    "print(primes)"
   ]
  },
  {
   "cell_type": "markdown",
   "metadata": {},
   "source": [
    "https://velog.io/@jajubal/%ED%8C%8C%EC%9D%B4%EC%8D%AC%EB%B0%B1%EC%A4%80-2960-%EC%97%90%EB%9D%BC%ED%86%A0%EC%8A%A4%ED%85%8C%EB%84%A4%EC%8A%A4%EC%9D%98-%EC%B2%B4"
   ]
  },
  {
   "cell_type": "code",
   "execution_count": 133,
   "metadata": {},
   "outputs": [
    {
     "name": "stdout",
     "output_type": "stream",
     "text": [
      "10 7\n",
      "9\n"
     ]
    }
   ],
   "source": [
    "n,k = map(int,input().split())\n",
    "temp = 0\n",
    "dis = [True]*(n+1)\n",
    "\n",
    "for i in range(2,n+2):\n",
    "    for j in range(i, n+1, i):\n",
    "        if dis[j] != False:\n",
    "            dis[j] = False\n",
    "            temp += 1\n",
    "            if temp == k:\n",
    "                print(j)\n",
    "                break"
   ]
  },
  {
   "cell_type": "code",
   "execution_count": null,
   "metadata": {},
   "outputs": [],
   "source": [
    "N, K = map(int, input().split())\n",
    "\n",
    "cnt = 0\n",
    "\n",
    "nums = [True] * (N + 1)\n",
    "for i in range(2, len(nums) + 1):\n",
    "    for j in range(i, N+1, i):\n",
    "        if nums[j] == True:\n",
    "            nums[j] = False\n",
    "            cnt = cnt + 1\n",
    "            if cnt == K:\n",
    "                print(j)\n",
    "                break"
   ]
  },
  {
   "cell_type": "markdown",
   "metadata": {},
   "source": [
    "틀린거 찾아줘 ,,,"
   ]
  },
  {
   "cell_type": "markdown",
   "metadata": {},
   "source": [
    "### 17번. 덩치 [7568]"
   ]
  },
  {
   "cell_type": "markdown",
   "metadata": {},
   "source": [
    "자기 자신보다 둘 다 작으면 count 해주기"
   ]
  },
  {
   "cell_type": "code",
   "execution_count": 120,
   "metadata": {},
   "outputs": [
    {
     "name": "stdout",
     "output_type": "stream",
     "text": [
      "5\n",
      "55 185\n",
      "58 183\n",
      "88 186\n",
      "60 175\n",
      "46 155\n",
      "2 2 1 2 5 "
     ]
    }
   ],
   "source": [
    "n = int(input())\n",
    "\n",
    "dungchi = []\n",
    "for _ in range(n) :\n",
    "    dungchi.append(list(map(int,input().split())))\n",
    "\n",
    "for i in dungchi:\n",
    "    rank = 1\n",
    "    for j in dungchi:\n",
    "        if i[0] < j[0] and i[1]<j[1]:\n",
    "            rank += 1\n",
    "    print(rank, end=\" \")"
   ]
  },
  {
   "cell_type": "markdown",
   "metadata": {},
   "source": [
    "### 18번. 올림픽 [8979]"
   ]
  },
  {
   "cell_type": "code",
   "execution_count": 9,
   "metadata": {},
   "outputs": [
    {
     "name": "stdout",
     "output_type": "stream",
     "text": [
      "4 3\n",
      "1 1 2 0\n",
      "2 0 1 0\n",
      "3 0 1 0\n",
      "4 0 0 1\n"
     ]
    }
   ],
   "source": [
    "n,k = map(int,input().split())\n",
    "\n",
    "temp = []\n",
    "ct =[]\n",
    "for _ in range(n):\n",
    "    country = list(map(int,input().split()))\n",
    "    ct.append(country[0])\n",
    "\n",
    "\n",
    "for j in range(len(ct)):\n",
    "    if ct[j][1]"
   ]
  },
  {
   "cell_type": "code",
   "execution_count": 123,
   "metadata": {},
   "outputs": [
    {
     "name": "stdout",
     "output_type": "stream",
     "text": [
      "4 3\n",
      "1 1 2 0\n",
      "2 0 1 0\n",
      "3 0 1 0\n",
      "4 0 0 1\n",
      "2\n"
     ]
    }
   ],
   "source": [
    "N,K=map(int,input().split())\n",
    "l=[]\n",
    "for i in range(N):\n",
    "    l.append(list(map(int,input().split())))\n",
    "L=sorted(l, key=lambda x: (-x[1],-x[2],-x[3])) # 순서대로 정렬됨\n",
    "for i in range(N):\n",
    "    if L[i][0]==K:\n",
    "        rank=i\n",
    "for j in range(N):\n",
    "    if L[rank][1:]==L[j][1:]:\n",
    "        print(j+1)\n",
    "        break"
   ]
  },
  {
   "cell_type": "markdown",
   "metadata": {},
   "source": [
    "### 19번. 오늘도 졌다 [14582]"
   ]
  },
  {
   "cell_type": "code",
   "execution_count": 25,
   "metadata": {
    "scrolled": true
   },
   "outputs": [
    {
     "name": "stdout",
     "output_type": "stream",
     "text": [
      "1 0 0 0 0 0 2 2 1\n",
      "0 0 3 0 0 0 0 1 4\n",
      "YES\n"
     ]
    }
   ],
   "source": [
    "num = []\n",
    "for _ in range(2):\n",
    "    a = list(map(int, input().split()))\n",
    "    num.append(a)\n",
    "     \n",
    "num_a = 0\n",
    "num_b = 0\n",
    "results = []\n",
    "for i in range(9):\n",
    "    num_a += num[0][i]\n",
    "    if num_a > num_b:\n",
    "        results.append(\"Yes\")\n",
    "    num_b += num[1][i]\n",
    "\n",
    "if num_a < num_b and \"Yes\" in set(results) : \n",
    "    print(\"Yes\")\n",
    "else:\n",
    "    print(\"No\")"
   ]
  },
  {
   "cell_type": "markdown",
   "metadata": {},
   "source": [
    "-> 왜 틀렸는지 모르겠음! -> 대소문자 .."
   ]
  },
  {
   "cell_type": "code",
   "execution_count": 29,
   "metadata": {},
   "outputs": [
    {
     "name": "stdout",
     "output_type": "stream",
     "text": [
      "1 0 0 0 0 0 2 2 1\n",
      "0 0 3 0 0 0 0 1 4\n",
      "Yes\n"
     ]
    }
   ],
   "source": [
    "j=list(map(int,input().split()))\n",
    "s=list(map(int, input().split()))\n",
    "jsum=0\n",
    "ssum=0\n",
    "chk=False\n",
    "for i in range(9):\n",
    "    jsum+=j[i]\n",
    "    if jsum>ssum:\n",
    "        chk=True\n",
    "    ssum+=s[i]\n",
    "if jsum<ssum and chk==True:\n",
    "    print('Yes')\n",
    "else:\n",
    "    print('No')"
   ]
  },
  {
   "cell_type": "markdown",
   "metadata": {},
   "source": [
    "### 20번. 세 개의 소수 문제 [11502]"
   ]
  },
  {
   "cell_type": "code",
   "execution_count": null,
   "metadata": {},
   "outputs": [],
   "source": [
    "t = int(input())\n",
    "\n",
    "def isPrime(a):\n",
    "    if(a<2):\n",
    "        return False\n",
    "    for i in range(2,a):\n",
    "        if(a%i==0):\n",
    "            return False\n",
    "        return True\n",
    "    \n",
    "for _ in range(t):\n",
    "    a = int(input())\n",
    "    a_sosu = [2,]\n",
    "    for i in range(3,a+1,1):\n",
    "        if isPrime(i)== True:\n",
    "            a_sosu.append(i)"
   ]
  },
  {
   "cell_type": "code",
   "execution_count": null,
   "metadata": {},
   "outputs": [],
   "source": []
  },
  {
   "cell_type": "code",
   "execution_count": 157,
   "metadata": {
    "scrolled": true
   },
   "outputs": [
    {
     "name": "stdout",
     "output_type": "stream",
     "text": [
      "3\n",
      "7\n",
      "2 2 3\n",
      "11\n",
      "2 2 7\n",
      "25\n",
      "3 3 19\n"
     ]
    }
   ],
   "source": [
    "t = int(input())\n",
    "for _ in range(t):\n",
    "    n = int(input())\n",
    "    a = [False,False] + [True]*(n)\n",
    "    a_sosu=[]\n",
    "\n",
    "    for i in range(2,n+1):\n",
    "        if a[i]:\n",
    "            a_sosu.append(i)\n",
    "        for j in range(2*i, n+1, i):\n",
    "            a[j] = False\n",
    "    \n",
    "    num = []\n",
    "    for a_ in a_sosu:\n",
    "        for b_ in a_sosu:\n",
    "            for c_ in a_sosu:\n",
    "                if n == a_+b_+c_:\n",
    "                    num.append([a_,b_,c_])\n",
    "                \n",
    "                if len(num) == 1:\n",
    "                    break\n",
    "            if len(num) == 1:\n",
    "                    break\n",
    "        if len(num) == 1:\n",
    "                    break\n",
    "                \n",
    "    if not num:\n",
    "        print(0)\n",
    "    else:\n",
    "        print(num[0][0],num[0][1],num[0][2],sep =\" \")              "
   ]
  },
  {
   "cell_type": "markdown",
   "metadata": {},
   "source": [
    "-> 시간초과 ㅠ.ㅠ"
   ]
  },
  {
   "cell_type": "code",
   "execution_count": 2,
   "metadata": {},
   "outputs": [],
   "source": [
    "N=int(input())\n",
    "l=[]\n",
    "for i in range(N):\n",
    "    l.append(int(input()))\n",
    "ll=[]\n",
    "c=2\n",
    "while c != max(l):\n",
    "    lll=[]\n",
    "    for i in range(len(ll)):\n",
    "        lll.append(c%ll[i])\n",
    "    if 0 not in lll :\n",
    "        ll.append(c)\n",
    "    c+=1\n",
    "for s in l:    \n",
    "    for i in ll:\n",
    "        for ii in ll:\n",
    "            for iii in ll:\n",
    "                if s==i+ii+iii:\n",
    "                    ans=[i,ii,iii]\n",
    "                    break\n",
    "                else:\n",
    "                    ans=[0]\n",
    "            if len(ans)==3:\n",
    "                break\n",
    "        if len(ans)==3:\n",
    "            break\n",
    "    print(*ans)"
   ]
  }
 ],
 "metadata": {
  "kernelspec": {
   "display_name": "Python 3",
   "language": "python",
   "name": "python3"
  },
  "language_info": {
   "codemirror_mode": {
    "name": "ipython",
    "version": 3
   },
   "file_extension": ".py",
   "mimetype": "text/x-python",
   "name": "python",
   "nbconvert_exporter": "python",
   "pygments_lexer": "ipython3",
   "version": "3.8.5"
  }
 },
 "nbformat": 4,
 "nbformat_minor": 4
}
