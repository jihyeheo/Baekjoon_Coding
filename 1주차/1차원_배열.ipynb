{
 "cells": [
  {
   "cell_type": "markdown",
   "metadata": {},
   "source": [
    "##### 10818 최소최대"
   ]
  },
  {
   "cell_type": "code",
   "execution_count": 1,
   "metadata": {},
   "outputs": [
    {
     "name": "stdout",
     "output_type": "stream",
     "text": [
      "5\n",
      "20 10 35 30 7\n",
      "7 35\n"
     ]
    }
   ],
   "source": [
    "n = int(input())\n",
    "a = list(map(int,input().split()))\n",
    "\n",
    "print(min(a), max(a))"
   ]
  },
  {
   "cell_type": "markdown",
   "metadata": {},
   "source": [
    "### 2562. 최댓값\n"
   ]
  },
  {
   "cell_type": "code",
   "execution_count": 24,
   "metadata": {},
   "outputs": [
    {
     "name": "stdout",
     "output_type": "stream",
     "text": [
      "10\n",
      "20\n",
      "30\n",
      "40\n",
      "50\n",
      "6\n",
      "70\n",
      "80\n",
      "90\n",
      "90\n",
      "9\n"
     ]
    }
   ],
   "source": [
    "a=[]\n",
    "for i in range(1,10,1):\n",
    "    \n",
    "    b = int(input())\n",
    "    if b <= 100: \n",
    "        a.append(b)\n",
    "    \n",
    "    \n",
    "\n",
    "print(max(a))\n",
    "print(a.index(max(a))+1)"
   ]
  },
  {
   "cell_type": "markdown",
   "metadata": {},
   "source": [
    "#### 문제를 잘 읽자..\n",
    "\n",
    "#### list에서 인덱스를 찾는 방법은 \"list.index(찾고자 하는 값)\" 이다."
   ]
  },
  {
   "cell_type": "markdown",
   "metadata": {},
   "source": [
    "### 2577. 숫자의 개수"
   ]
  },
  {
   "cell_type": "code",
   "execution_count": 38,
   "metadata": {},
   "outputs": [
    {
     "name": "stdout",
     "output_type": "stream",
     "text": [
      "150\n",
      "266\n",
      "427\n",
      "3\n",
      "1\n",
      "0\n",
      "2\n",
      "0\n",
      "0\n",
      "0\n",
      "2\n",
      "0\n",
      "0\n"
     ]
    }
   ],
   "source": [
    "a = []\n",
    "for i in range(3) :\n",
    "    a.append(int(input())) \n",
    "    \n",
    "    \n",
    "answer = str(a[0]*a[1]*a[2])\n",
    "a0 = 0\n",
    "a1 = 0\n",
    "a2 = 0\n",
    "a3 = 0\n",
    "a4 = 0\n",
    "a5 = 0\n",
    "a6 = 0\n",
    "a7 = 0\n",
    "a8 = 0\n",
    "a9 = 0\n",
    "\n",
    "for i in range(len(answer)):\n",
    "    if answer[i] == '1':\n",
    "        a1 += 1\n",
    "    elif answer[i] == '0':\n",
    "        a0 += 1\n",
    "    elif answer[i] == '2':\n",
    "        a2 += 1\n",
    "    elif answer[i] == '3':\n",
    "        a3 += 1\n",
    "    elif answer[i] == '4':\n",
    "        a4 += 1\n",
    "    elif answer[i] == '5':\n",
    "        a5 += 1\n",
    "    elif answer[i] == '6':\n",
    "        a6 += 1\n",
    "    elif answer[i] == '7':\n",
    "        a7 += 1\n",
    "    elif answer[i] == '8':\n",
    "        a8 += 1\n",
    "    else :\n",
    "        a9 +=1\n",
    "\n",
    "print(a0)\n",
    "print(a1)\n",
    "print(a2)\n",
    "print(a3)\n",
    "print(a4)\n",
    "print(a5)\n",
    "print(a6)\n",
    "print(a7)\n",
    "print(a8)\n",
    "print(a9)"
   ]
  },
  {
   "cell_type": "code",
   "execution_count": null,
   "metadata": {},
   "outputs": [],
   "source": [
    "a = int(input())\n",
    "b = int(input())\n",
    "c = int(input())\n",
    "for i in range(0,10):\n",
    "    print(str(a*b*c).count('{}'.format(i)))"
   ]
  },
  {
   "cell_type": "markdown",
   "metadata": {},
   "source": [
    "### 3052. 나머지"
   ]
  },
  {
   "cell_type": "code",
   "execution_count": 47,
   "metadata": {},
   "outputs": [
    {
     "name": "stdout",
     "output_type": "stream",
     "text": [
      "42\n",
      "84\n",
      "42\n",
      "42\n",
      "42\n",
      "42\n",
      "42\n",
      "42\n",
      "42\n",
      "42\n",
      "1\n"
     ]
    }
   ],
   "source": [
    "a = []\n",
    "\n",
    "for i in range(10):\n",
    "    b = int(input())\n",
    "    a.append(b%42)\n",
    "\n",
    "print(len(list(set(a))))"
   ]
  },
  {
   "cell_type": "markdown",
   "metadata": {},
   "source": [
    "#### 중복을 제거하는 방법\n",
    "#### 1) set으로 바꾸어주기  2) for문을 이용하기\n",
    "\n",
    "\n",
    "나는 첫번째 방법을 이용함. set의 특성상 중복이 불가능하기 때문에 먼저 list a를 set으로 바꿔준 후 다시 list화하여 len을 세어주면 된다. "
   ]
  },
  {
   "cell_type": "markdown",
   "metadata": {},
   "source": [
    "### 1546. 평균"
   ]
  },
  {
   "cell_type": "code",
   "execution_count": 54,
   "metadata": {},
   "outputs": [
    {
     "name": "stdout",
     "output_type": "stream",
     "text": [
      "3\n",
      "40 60 80\n",
      "75.0\n"
     ]
    }
   ],
   "source": [
    "n = int(input())\n",
    "\n",
    "if n <= 1000:\n",
    "    a = list(map(int, input().split()))\n",
    "\n",
    "# for i in  range(n):\n",
    "#     if 0<=a[i]<=100:\n",
    "#         continue\n",
    "        \n",
    "print(sum(a)/max(a)*100/n)"
   ]
  },
  {
   "cell_type": "markdown",
   "metadata": {},
   "source": [
    "#### 조건에 있는 범위는 안 표시해도 상관없는듯 표시해도 맞긴 함"
   ]
  },
  {
   "cell_type": "markdown",
   "metadata": {},
   "source": [
    "### 8958. ox퀴즈"
   ]
  },
  {
   "cell_type": "code",
   "execution_count": 12,
   "metadata": {},
   "outputs": [
    {
     "name": "stdout",
     "output_type": "stream",
     "text": [
      "3\n",
      "OOOXXX\n",
      "6\n",
      "OXXXOOO\n",
      "7\n",
      "OOOOOO'\n",
      "21\n"
     ]
    }
   ],
   "source": [
    "n = int(input())\n",
    "for i in range(n):\n",
    "    case = str(input())\n",
    "    score = 0\n",
    "    count = 0\n",
    "    for j in list(case):\n",
    "        if j == \"O\":\n",
    "            count += 1\n",
    "            score += count\n",
    "        elif j == \"X\":\n",
    "            count = 0\n",
    "    print(score)"
   ]
  },
  {
   "cell_type": "markdown",
   "metadata": {},
   "source": [
    "여기서 count를 세어주고 score에 넣은 다음 x가 나오면 0으로 바꿔지게 코딩함"
   ]
  },
  {
   "cell_type": "markdown",
   "metadata": {},
   "source": [
    "https://velog.io/@jsw8050/%EB%B0%B1%EC%A4%80-1%EC%B0%A8%EC%9B%90-%EB%B0%B0%EC%97%B4-8958%EB%B2%88-OX-%ED%80%B4%EC%A6%88-Python"
   ]
  },
  {
   "cell_type": "markdown",
   "metadata": {},
   "source": [
    "### 4344. 평균은 넘겠지"
   ]
  },
  {
   "cell_type": "code",
   "execution_count": 75,
   "metadata": {},
   "outputs": [
    {
     "name": "stdout",
     "output_type": "stream",
     "text": [
      "1\n",
      "5 50 50 70 80 100\n",
      "40.0 %\n"
     ]
    }
   ],
   "source": [
    "n = int(input())\n",
    "\n",
    "for i in range(n):\n",
    "    a = list(map(int, input().split()))\n",
    "\n",
    "b= float((sum(a)-a[0])/a[0])\n",
    "\n",
    "def filtering(x):\n",
    "    return x>b\n",
    "newlist = list(filter(filtering,a))\n",
    "\n",
    "print(round(len(newlist)/(len(a)-1)*100,5) ,\"%\")"
   ]
  },
  {
   "cell_type": "markdown",
   "metadata": {},
   "source": [
    "round 함수의 문제는 다음과 같이 지정을 해도 뒤에 000이 같이 안 나온다는 것이다. 다르게 시도해야햐 한다."
   ]
  },
  {
   "cell_type": "code",
   "execution_count": 82,
   "metadata": {},
   "outputs": [
    {
     "name": "stdout",
     "output_type": "stream",
     "text": [
      "40.000%\n"
     ]
    }
   ],
   "source": [
    "print(\"{:.3f}%\".format(len(newlist)/(len(a)-1)*100,5))"
   ]
  },
  {
   "cell_type": "code",
   "execution_count": 92,
   "metadata": {},
   "outputs": [
    {
     "name": "stdout",
     "output_type": "stream",
     "text": [
      "1\n",
      "5 50 50 70 80 100\n",
      "40.000%\n"
     ]
    }
   ],
   "source": [
    "n = int(input())\n",
    "c=[]\n",
    "for i in range(n):\n",
    "    a = list(map(int, input().split()))\n",
    "\n",
    "    b= float((sum(a)-a[0])/a[0])\n",
    "\n",
    "    def filtering(x):\n",
    "        return x>b\n",
    "    newlist = list(filter(filtering,a[1:]))\n",
    "    c.append(\"{:.3f}%\".format(len(newlist)/(len(a)-1)*100))\n",
    "\n",
    "for i in range(n):\n",
    "    print(c[i])"
   ]
  },
  {
   "cell_type": "markdown",
   "metadata": {},
   "source": [
    "#### 놓친 부분\n",
    "\n",
    "앞 자리에 학생 수가 들어가는데 이도 같이 filter에 넣어서 학생 수가 점수보다 커지는 경우를 생각하지 못함\n",
    "\n",
    "#### 새로안 부분\n",
    "filter 함수를 이용하여 if문이 아니더라도 조건 추출이 가능함"
   ]
  }
 ],
 "metadata": {
  "kernelspec": {
   "display_name": "Python 3",
   "language": "python",
   "name": "python3"
  },
  "language_info": {
   "codemirror_mode": {
    "name": "ipython",
    "version": 3
   },
   "file_extension": ".py",
   "mimetype": "text/x-python",
   "name": "python",
   "nbconvert_exporter": "python",
   "pygments_lexer": "ipython3",
   "version": "3.8.5"
  }
 },
 "nbformat": 4,
 "nbformat_minor": 4
}
