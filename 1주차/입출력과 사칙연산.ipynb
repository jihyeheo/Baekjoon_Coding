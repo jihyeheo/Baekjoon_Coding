{
 "cells": [
  {
   "cell_type": "code",
   "execution_count": null,
   "metadata": {},
   "outputs": [],
   "source": []
  },
  {
   "cell_type": "markdown",
   "metadata": {},
   "source": [
    "### 10926"
   ]
  },
  {
   "cell_type": "code",
   "execution_count": 2,
   "metadata": {},
   "outputs": [
    {
     "name": "stdout",
     "output_type": "stream",
     "text": [
      "input\n",
      "input??!\n"
     ]
    }
   ],
   "source": [
    "a = input()\n",
    "b = a+'??!'\n",
    "\n",
    "print(b)"
   ]
  },
  {
   "cell_type": "markdown",
   "metadata": {},
   "source": [
    "### 18108"
   ]
  },
  {
   "cell_type": "code",
   "execution_count": 7,
   "metadata": {},
   "outputs": [
    {
     "name": "stdout",
     "output_type": "stream",
     "text": [
      "2541\n",
      "1998\n"
     ]
    }
   ],
   "source": [
    "a = int(input())\n",
    "b = a - 543\n",
    "print(b)"
   ]
  },
  {
   "cell_type": "markdown",
   "metadata": {},
   "source": [
    "### 2588"
   ]
  },
  {
   "cell_type": "code",
   "execution_count": 36,
   "metadata": {},
   "outputs": [
    {
     "name": "stdout",
     "output_type": "stream",
     "text": [
      "472\n",
      "385\n",
      "2360\n",
      "3776\n",
      "1416\n",
      "181720\n"
     ]
    }
   ],
   "source": [
    "data = [int(input()) for i in range(2)]\n",
    "\n",
    "b = data[0] * int(str(data[1])[2])\n",
    "c = data[0] * int(str(data[1])[1])\n",
    "d = data[0] * int(str(data[1])[0])\n",
    "e = data[0] * data[1]\n",
    "\n",
    "print(b)\n",
    "print(c)\n",
    "print(d)\n",
    "print(e)\n"
   ]
  },
  {
   "cell_type": "markdown",
   "metadata": {},
   "source": [
    "### 25083"
   ]
  },
  {
   "cell_type": "code",
   "execution_count": 38,
   "metadata": {},
   "outputs": [
    {
     "name": "stdout",
     "output_type": "stream",
     "text": [
      "         ,r'\"7\n",
      "r`-_   ,'  ,/\n",
      " \\. \". L_r'\n",
      "   `~\\/\n",
      "      |\n",
      "      |\n"
     ]
    }
   ],
   "source": [
    "print(\"\"\"         ,r'\"7\n",
    "r`-_   ,'  ,/\n",
    " \\. \". L_r'\n",
    "   `~\\/\n",
    "      |\n",
    "      |\"\"\")"
   ]
  },
  {
   "cell_type": "markdown",
   "metadata": {},
   "source": [
    "## 조건문"
   ]
  },
  {
   "cell_type": "markdown",
   "metadata": {},
   "source": [
    "### 2884"
   ]
  },
  {
   "cell_type": "code",
   "execution_count": 46,
   "metadata": {},
   "outputs": [
    {
     "name": "stdout",
     "output_type": "stream",
     "text": [
      "23 59\n",
      "23 14\n"
     ]
    }
   ],
   "source": [
    "a,b = map(int,input().split(\" \"))\n",
    "if 0<=a<=23 and 0<=b<=59:\n",
    "    if a == 0 and b < 45:\n",
    "        b1 = b - 45\n",
    "        print(23, 60+(b1))\n",
    "    else:\n",
    "        c = (60 * a) +b - 45\n",
    "        print(c//60, c%60)"
   ]
  },
  {
   "cell_type": "markdown",
   "metadata": {},
   "source": [
    "### 2525. 오븐 시계\n",
    "\n",
    "오븐구이가 끝나는 시각"
   ]
  },
  {
   "cell_type": "code",
   "execution_count": 67,
   "metadata": {},
   "outputs": [
    {
     "name": "stdout",
     "output_type": "stream",
     "text": [
      "23 49\n",
      "24\n",
      "0 13\n"
     ]
    }
   ],
   "source": [
    "a,b = map(int,input().split(\" \"))\n",
    "time = int(input()) \n",
    "if 0<=a<=23 and 0<=b<=59:\n",
    "    if a %23==0 and (time+b)//60 >=1:\n",
    "        a1 = 0\n",
    "        b1 = time+b-60\n",
    "        c = (60*a1)+b1\n",
    "        print((c//60 - 24*((c//60)//24)), c%60)\n",
    "    else:\n",
    "        c = (60*a)+b +time\n",
    "        print((c//60 - 24*((c//60)//24)), c%60)"
   ]
  },
  {
   "cell_type": "markdown",
   "metadata": {},
   "source": [
    "노가다 함 ㅋㅋ 이 문제 같은 경우는 c가 23 안에 들어오면 베스트고 24 넘어가면 c//60 - 24*((c//60)//24 를 이용하여 다시 23안으로 들어올 수 있도록 코딩해줌"
   ]
  },
  {
   "cell_type": "markdown",
   "metadata": {},
   "source": [
    "### 2480. 주사위 세개\n"
   ]
  },
  {
   "cell_type": "code",
   "execution_count": 120,
   "metadata": {},
   "outputs": [
    {
     "name": "stdout",
     "output_type": "stream",
     "text": [
      "3 4 6\n",
      "600\n"
     ]
    }
   ],
   "source": [
    "number = list(map(int, input().split()))\n",
    "count = {}\n",
    "for n in number:\n",
    "    try : count[n] +=1\n",
    "    except : count[n] = 1\n",
    "\n",
    "sorted_dict = sorted(count.items(), key=lambda item:item[1], reverse=True)\n",
    "\n",
    "if sorted_dict[0][1] == 3:\n",
    "    print(10000+sorted_dict[0][0]*1000)\n",
    "elif sorted_dict[0][1] == 2:\n",
    "    print(1000+sorted_dict[0][0]*100)\n",
    "else :\n",
    "    sorted_dict = sorted(count.items(), key=lambda item:item[0], reverse=True)\n",
    "    print(sorted_dict[0][0]*100)"
   ]
  }
 ],
 "metadata": {
  "kernelspec": {
   "display_name": "Python 3",
   "language": "python",
   "name": "python3"
  },
  "language_info": {
   "codemirror_mode": {
    "name": "ipython",
    "version": 3
   },
   "file_extension": ".py",
   "mimetype": "text/x-python",
   "name": "python",
   "nbconvert_exporter": "python",
   "pygments_lexer": "ipython3",
   "version": "3.8.5"
  }
 },
 "nbformat": 4,
 "nbformat_minor": 4
}
