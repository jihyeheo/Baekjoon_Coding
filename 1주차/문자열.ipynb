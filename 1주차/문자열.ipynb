{
 "cells": [
  {
   "cell_type": "markdown",
   "metadata": {},
   "source": [
    "### 11654. 아스키코드\n",
    "\n",
    "\n",
    "아스키코드 65 ~ 90은 알파벳 대분자 A-Z, 아스키코드 97 ~ 122는 소문자 a~z를 의미한다. 아스키코드 48 ~ 57은 숫자 0부터 9까지 의미한다."
   ]
  },
  {
   "cell_type": "code",
   "execution_count": 111,
   "metadata": {},
   "outputs": [
    {
     "name": "stdout",
     "output_type": "stream",
     "text": [
      "9\n",
      "57\n"
     ]
    }
   ],
   "source": [
    "string = input() \n",
    "alphabet_upper = \"ABCDEFGHIJKLMNOPQRSTUVWXYZ\"\n",
    "alphabet_lower = \"abcdefghijklmnopqrstuvwxyz\"\n",
    "\n",
    "if string in alphabet_upper:\n",
    "    print(ord(string))\n",
    "elif string in alphabet_lower:\n",
    "    print(ord(string))\n",
    "else : print(ord(chr(int(string)+48)))"
   ]
  },
  {
   "cell_type": "markdown",
   "metadata": {},
   "source": [
    "### 10809. 알파벳 찾기"
   ]
  },
  {
   "cell_type": "code",
   "execution_count": 9,
   "metadata": {},
   "outputs": [
    {
     "name": "stdout",
     "output_type": "stream",
     "text": [
      "avs\n",
      "0 -1 -1 -1 -1 -1 -1 -1 -1 -1 -1 -1 -1 -1 -1 -1 -1 -1 2 -1 -1 1 -1 -1 -1 -1 "
     ]
    }
   ],
   "source": [
    "string = input()\n",
    "alphabet = \"abcdefghijklmnopqrstuvwxyz\"\n",
    "for i in alphabet:\n",
    "    print(string.find(i), end = ' ')"
   ]
  },
  {
   "cell_type": "markdown",
   "metadata": {},
   "source": [
    "#### 놓친 부분\n",
    "\n",
    "find 함수는 문자를 찾게 되면 1을 반환 아니면 -1을 반환함"
   ]
  },
  {
   "cell_type": "markdown",
   "metadata": {},
   "source": [
    "### 2675. 문자열 반복"
   ]
  },
  {
   "cell_type": "code",
   "execution_count": 27,
   "metadata": {},
   "outputs": [
    {
     "name": "stdout",
     "output_type": "stream",
     "text": [
      "2\n",
      "3 abc\n",
      "aaabbbccc\n",
      "5 /htp\n",
      "/////hhhhhtttttppppp\n"
     ]
    }
   ],
   "source": [
    "n = int(input())\n",
    "\n",
    "for i in range(n):\n",
    "    answer = \"\"\n",
    "    string = list(map(str,input().split()))\n",
    "    j = len(string[1])\n",
    "    num = string[0]\n",
    "    for k in range(0,j):\n",
    "        ans = string[1][k]*int(num)\n",
    "        #print(ans)\n",
    "        answer += ans\n",
    "    print(answer)"
   ]
  },
  {
   "cell_type": "markdown",
   "metadata": {},
   "source": [
    "### 1157. 단어공부\n",
    "\n",
    "알파벳 대소문자 단어가 주어지면 가장 많이 사용된 알파벳이 무엇인지 알아내시오."
   ]
  },
  {
   "cell_type": "code",
   "execution_count": 66,
   "metadata": {},
   "outputs": [
    {
     "name": "stdout",
     "output_type": "stream",
     "text": [
      "zZa\n",
      "Z\n"
     ]
    }
   ],
   "source": [
    "from collections import Counter\n",
    "\n",
    "string = str(input()).lower()\n",
    "max_str = Counter(string).most_common()\n",
    "if len(max_str) <= 1 :\n",
    "    print(max_str[0][0].upper())\n",
    "elif len(max_str) >= 2 :    \n",
    "    if  max_str[0][1] == max_str[1][1]:\n",
    "        print(\"?\")\n",
    "    else :\n",
    "        print(max_str[0][0].upper())"
   ]
  },
  {
   "cell_type": "markdown",
   "metadata": {},
   "source": [
    "-> 이거 물어보기 처음에 lower로 바꿔서 풀었는데 다른 풀이가 있는지"
   ]
  },
  {
   "cell_type": "markdown",
   "metadata": {},
   "source": [
    "### 1152. 단어의 개수\n",
    "\n",
    "단어 개수 세는 코딩"
   ]
  },
  {
   "cell_type": "code",
   "execution_count": 78,
   "metadata": {},
   "outputs": [
    {
     "name": "stdout",
     "output_type": "stream",
     "text": [
      "i'm pretty girl\n",
      "3\n"
     ]
    }
   ],
   "source": [
    "a = input().split()\n",
    "if len(a)<=1000000:\n",
    "    print(len(a))"
   ]
  },
  {
   "cell_type": "markdown",
   "metadata": {},
   "source": [
    "### 2908. 상수\n",
    "\n",
    "상수는 사람 이름인데 다른 사람과 다르게 숫자를 거꾸로 읽고 거꾸로 읽은 수 중 더 큰 수를 나타낸다. 두 수가 주어졌을때, 상수처럼 말하는 프로그램은?"
   ]
  },
  {
   "cell_type": "code",
   "execution_count": 74,
   "metadata": {},
   "outputs": [
    {
     "name": "stdout",
     "output_type": "stream",
     "text": [
      "734 893\n",
      "437\n"
     ]
    }
   ],
   "source": [
    "num1, num2 = list(map(str, input().split()))\n",
    "\n",
    "# for k in range(3):\n",
    "#     if int(num1[k]) != 0:\n",
    "#         if int(num2[k]) != 0:\n",
    "#             continue;\n",
    "num1 = num1[2]+num1[1]+num1[0]\n",
    "num1 = int(num1)\n",
    "\n",
    "num2 = num2[2]+num2[1]+num2[0]\n",
    "num2 = int(num2)        \n",
    "    \n",
    "if num1 > num2 :\n",
    "    print(num1)\n",
    "else : print(num2)"
   ]
  },
  {
   "cell_type": "markdown",
   "metadata": {},
   "source": [
    "### 5622. 다이얼\n"
   ]
  },
  {
   "cell_type": "code",
   "execution_count": 89,
   "metadata": {},
   "outputs": [],
   "source": [
    "number = {'ABC':3, 'DEF':4, 'GHI':5, 'JKL' :6, 'MNO':7, 'PQRS':8\n",
    "          ,'TUV':9, 'WXYZ':10}"
   ]
  },
  {
   "cell_type": "code",
   "execution_count": 95,
   "metadata": {},
   "outputs": [
    {
     "name": "stdout",
     "output_type": "stream",
     "text": [
      "UNUCIC\n",
      "36\n"
     ]
    }
   ],
   "source": [
    "string = input()\n",
    "num = 0\n",
    "\n",
    "if (len(string) >= 2) & (len(string) <= 15) :\n",
    "    pass;\n",
    "for i in range(len(string)):\n",
    "    if string[i] in 'ABC':\n",
    "        num  += number['ABC']\n",
    "    elif string[i] in 'DEF':\n",
    "        num += number['DEF']\n",
    "        \n",
    "    elif string[i] in 'GHI':\n",
    "        num += number['GHI']\n",
    "        \n",
    "    elif string[i] in 'JKL':\n",
    "        num += number['JKL']\n",
    "        \n",
    "    elif string[i] in 'MNO':\n",
    "        num += number['MNO']\n",
    "        \n",
    "    elif string[i] in 'PQRS':\n",
    "        num += number['PQRS']\n",
    "        \n",
    "    elif string[i] in 'TUV':\n",
    "        num += number['TUV']\n",
    "        \n",
    "    else: num += number['WXYZ']\n",
    "print(num)"
   ]
  },
  {
   "cell_type": "markdown",
   "metadata": {},
   "source": [
    "### 2941. 크로아티아 알파벳\n",
    "\n",
    "크로아티아 알파벳을 변경해서 입력한다. ljes=njak는 6개의 크로아티아 알파벳으로 이루어져 있다고 한다."
   ]
  },
  {
   "cell_type": "code",
   "execution_count": 13,
   "metadata": {},
   "outputs": [
    {
     "name": "stdout",
     "output_type": "stream",
     "text": [
      "ljes=njak\n",
      "9\n",
      "1\n"
     ]
    }
   ],
   "source": [
    "string = input()\n",
    "cnt = 0\n",
    "print(len(string))\n",
    "for i in range(len(string)):\n",
    "    if \"c=\" in string:\n",
    "        cnt += 1\n",
    "        string = string.replace(\"c=\",\"\")\n",
    "    elif \"c-\" in string:\n",
    "        cnt += 1\n",
    "        string = string.replace(\"c-\",\"\")\n",
    "    elif \"dz=\" in string:\n",
    "        cnt += 1\n",
    "        string = string.replace(\"dz=\",\"\")\n",
    "    elif \"d-\" in string:\n",
    "        cnt += 1\n",
    "        string = string.replace(\"d-\",\"\")\n",
    "    elif \"lj\" in string:\n",
    "        cnt += 1\n",
    "        string = string.replace(\"lj\",\"\")\n",
    "    elif \"nj\" in string:\n",
    "        cnt += 1\n",
    "        string = string.replace(\"nj\",\"\")\n",
    "    elif \"s=\" in string:\n",
    "        cnt += 1\n",
    "        string = string.replace(\"s=\",\"\")\n",
    "    elif \"z=\" in string:\n",
    "        cnt += 1\n",
    "        string = string.replace(\"z=\",\"\")\n",
    "    elif \n",
    "        cnt += len(string)\n",
    "    print(string)\n",
    "    print(cnt)\n",
    "print(cnt)"
   ]
  },
  {
   "cell_type": "code",
   "execution_count": 8,
   "metadata": {},
   "outputs": [
    {
     "data": {
      "text/plain": [
       "1"
      ]
     },
     "execution_count": 8,
     "metadata": {},
     "output_type": "execute_result"
    }
   ],
   "source": [
    "cnt"
   ]
  },
  {
   "cell_type": "markdown",
   "metadata": {},
   "source": [
    "### 1316. 그룹 단어 체커"
   ]
  },
  {
   "cell_type": "code",
   "execution_count": null,
   "metadata": {},
   "outputs": [],
   "source": []
  }
 ],
 "metadata": {
  "kernelspec": {
   "display_name": "Python 3",
   "language": "python",
   "name": "python3"
  },
  "language_info": {
   "codemirror_mode": {
    "name": "ipython",
    "version": 3
   },
   "file_extension": ".py",
   "mimetype": "text/x-python",
   "name": "python",
   "nbconvert_exporter": "python",
   "pygments_lexer": "ipython3",
   "version": "3.8.5"
  }
 },
 "nbformat": 4,
 "nbformat_minor": 4
}
