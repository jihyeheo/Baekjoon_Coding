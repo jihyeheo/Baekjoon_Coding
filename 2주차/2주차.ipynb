{
 "cells": [
  {
   "cell_type": "markdown",
   "metadata": {},
   "source": [
    "### 1번. 분산처리[1009]\n",
    "\n",
    "1번은 1번, 2번은 2번, 3번은 3번... 등등 10번은 10번, 11번은 1번 이런식으로 나옴"
   ]
  },
  {
   "cell_type": "code",
   "execution_count": null,
   "metadata": {},
   "outputs": [],
   "source": [
    "import sys\n",
    "input = sys.stdin.readline\n",
    "n =int(input())\n",
    "\n",
    "for i in range(n):\n",
    "    a,b = map(int, input().split())\n",
    "    if a ==1 or a ==5 or a ==6 :\n",
    "        print(a)\n",
    "    elif computer%10 == 0 :\n",
    "        print(10)\n",
    "    else:\n",
    "        print(computer%10)"
   ]
  },
  {
   "cell_type": "markdown",
   "metadata": {},
   "source": [
    "시간초과뜸\n",
    "\n",
    "답 보기"
   ]
  },
  {
   "cell_type": "code",
   "execution_count": null,
   "metadata": {},
   "outputs": [],
   "source": [
    "T = int(input())\n",
    "\n",
    "for _ in range(T):\n",
    "    a, b = map(int, input().split())\n",
    "    a = a % 10\n",
    "    \n",
    "    if a == 0:\n",
    "        print(10)\n",
    "    elif a == 1 or a == 5 or a == 6:\n",
    "        print(a)\n",
    "    elif a == 4 or a == 9:\n",
    "        b = b % 2\n",
    "        if b == 1:\n",
    "            print(a)\n",
    "        else:\n",
    "            print((a * a) % 10)\n",
    "    else:\n",
    "        b = b % 4\n",
    "        if b == 0:\n",
    "            print((a**4) % 10 % 10 % 10)\n",
    "        else:\n",
    "            print((a**b) % 10 % 10 % 10)"
   ]
  },
  {
   "cell_type": "markdown",
   "metadata": {},
   "source": [
    "### 2번. 지능형 기차[2455]"
   ]
  },
  {
   "cell_type": "code",
   "execution_count": 6,
   "metadata": {},
   "outputs": [
    {
     "name": "stdout",
     "output_type": "stream",
     "text": [
      "May 10, 1981 00:31\n",
      "35.348363774733635\n"
     ]
    }
   ],
   "source": [
    "month,dd,yyyy,time = map(str,input().split())\n",
    "month_all= {'January':0,'March':59,'May':120,'July':181,'August':212,\n",
    "            'October':273,'December':334,\n",
    "           'February':31,'April':90,'June':151,'September':243,'November':304}\n",
    "\n",
    "month_all_jun= {'January':0,'March':60,'May':121,'July':182,'August':213,\n",
    "            'October':274,'December':335,\n",
    "           'February':31,'April':91,'June':152,'September':244,'November':305}\n",
    "\n",
    "yyyy = int(yyyy)\n",
    "if yyyy%4 == 0 : \n",
    "    if yyyy%100 == 0 and yyyy%400 != 0:\n",
    "        today_ = ((month_all[month]-1+int(dd[:-1]))*24*60+\n",
    "              int(time[:2])*60+int(time[3:]))\n",
    "        today_all_day = 365*24*60 \n",
    "        print(today_/today_all_day*100)\n",
    "    else:\n",
    "        today_ = ((month_all_jun[month]-1+int(dd[:-1]))*24*60+\n",
    "          int(time[:2])*60+int(time[3:]))\n",
    "        today_all_day = 366*24*60 \n",
    "        print(today_/today_all_day*100)\n",
    "else:\n",
    "    today_ = ((month_all[month]-1+int(dd[:-1]))*24*60+\n",
    "              int(time[:2])*60+int(time[3:]))\n",
    "    today_all_day = 365*24*60 \n",
    "    print(today_/today_all_day*100)"
   ]
  },
  {
   "cell_type": "markdown",
   "metadata": {},
   "source": [
    "### 3번. 지능형 기차[2455]"
   ]
  },
  {
   "cell_type": "code",
   "execution_count": 7,
   "metadata": {},
   "outputs": [
    {
     "name": "stdout",
     "output_type": "stream",
     "text": [
      "0 32\n",
      "3 13\n",
      "28 25\n",
      "39 0\n",
      "42\n"
     ]
    }
   ],
   "source": [
    "train = []\n",
    "for _ in range(4):\n",
    "    a,b = list(map(int, input().split()))\n",
    "    train.append([a,b])\n",
    "    \n",
    "test=[]\n",
    "for idx,i in enumerate(train):\n",
    "    if i == train[0]:\n",
    "        test.append(i[1])\n",
    "    else:\n",
    "        test.append(test[idx-1]-i[0]+i[1])\n",
    "        \n",
    "print(max(test))"
   ]
  },
  {
   "cell_type": "markdown",
   "metadata": {},
   "source": [
    "### 4번. 지능형 기차2[2460]"
   ]
  },
  {
   "cell_type": "code",
   "execution_count": 2,
   "metadata": {},
   "outputs": [
    {
     "name": "stdout",
     "output_type": "stream",
     "text": [
      "0 32\n",
      "3 13\n",
      "28 25\n",
      "17 5\n",
      "21 20\n",
      "11 0\n",
      "12 12\n",
      "4 2\n",
      "0 8\n",
      "21 0\n",
      "42\n"
     ]
    }
   ],
   "source": [
    "train = []\n",
    "for _ in range(10):\n",
    "    a,b = list(map(int, input().split()))\n",
    "    train.append([a,b])\n",
    "    \n",
    "test=[]\n",
    "for idx,i in enumerate(train):\n",
    "    if idx == 0:\n",
    "        test.append(i[1])\n",
    "    else:\n",
    "        test.append(test[idx-1]-i[0]+i[1])\n",
    "        \n",
    "print(max(test))"
   ]
  },
  {
   "cell_type": "markdown",
   "metadata": {},
   "source": [
    "### 5번. 행렬 덧셈[2738]"
   ]
  },
  {
   "cell_type": "code",
   "execution_count": null,
   "metadata": {},
   "outputs": [
    {
     "name": "stdout",
     "output_type": "stream",
     "text": [
      "3 3\n",
      "1 1 1\n",
      "2 2 2\n",
      "3 3 3\n",
      "4 4 4\n"
     ]
    }
   ],
   "source": [
    "n,m = map(int, input().split())\n",
    "\n",
    "list_1 = []\n",
    "list_2 = []\n",
    "for _ in range(n):\n",
    "    list1 = list(map(str, input().split()))\n",
    "    list_1.append(list1)\n",
    "for _ in range(n):\n",
    "    list2 = list(map(str, input().split()))\n",
    "    list_2.append(list2)   \n",
    "    \n",
    "a=[]\n",
    "for i in range(n):\n",
    "    for j in range(m):\n",
    "        a1 = int(list_1[i][j])+int(list_2[i][j])\n",
    "        a.append(str(a1))\n",
    "num=0\n",
    "for i in range(0,n*m,m):\n",
    "    print(\" \".join(a[i:i+m]))        "
   ]
  },
  {
   "cell_type": "markdown",
   "metadata": {},
   "source": [
    "### 6번. 대회 or 인턴[2875]"
   ]
  },
  {
   "cell_type": "code",
   "execution_count": 9,
   "metadata": {},
   "outputs": [
    {
     "name": "stdout",
     "output_type": "stream",
     "text": [
      "6 3 2\n",
      "2\n"
     ]
    }
   ],
   "source": [
    "n, m, k = map(int, input().split())\n",
    "result = 0\n",
    "\n",
    "while n >= 2 and m >= 1 and n + m >= k + 3:\n",
    "    n -= 2\n",
    "    m -= 1\n",
    "    result += 1\t# 팀 수는 하나씩 더해준다\n",
    "print(result)"
   ]
  },
  {
   "cell_type": "markdown",
   "metadata": {},
   "source": [
    "### 7번. 줄임말 만들기[3181]\n",
    "\n",
    "https://latte-is-horse.tistory.com/200 <- 특정 요소 제거\n",
    "https://wikidocs.net/15559 <- 리스트 문자열 합치기"
   ]
  },
  {
   "cell_type": "code",
   "execution_count": 211,
   "metadata": {},
   "outputs": [
    {
     "name": "stdout",
     "output_type": "stream",
     "text": [
      "ali ja sam i jucer jeo\n",
      "['ali', 'ja', 'sam', 'jucer', 'jeo']\n",
      "AJSJJ\n"
     ]
    }
   ],
   "source": [
    "seq = list(map(str, input().split()))\n",
    "stopping = {'i', 'pa', 'te', 'ni', 'niti', 'a', 'ali', 'nego', 'no', 'ili'}\n",
    "\n",
    "\n",
    "if seq[0] in stopping:\n",
    "    seq_0 = seq[0]\n",
    "    seq = [i for i in seq if i not in stopping]\n",
    "    seq.insert(0,seq_0)\n",
    "else:\n",
    "    seq = [i for i in seq if i not in stopping]   \n",
    "for i in range(len(seq)):\n",
    "    seq[i] = seq[i][0].upper()\n",
    "\n",
    "print(''.join(seq))       "
   ]
  },
  {
   "cell_type": "markdown",
   "metadata": {},
   "source": [
    "### 8번. 탄산 음료[5032]\n",
    "\n",
    "e = 가지고 있는 빈 병 수<br>\n",
    "f = 그 날 발견한 빈 병 수<br>\n",
    "c = 새 병으로 바꾸는데 필요한 빈 병 수<br>\n",
    "\n",
    "\n",
    "\n",
    "\n",
    "* 새 병으로 바꿨는데 다 먹으면 또 빈 병이 된다."
   ]
  },
  {
   "cell_type": "code",
   "execution_count": 5,
   "metadata": {},
   "outputs": [
    {
     "name": "stdout",
     "output_type": "stream",
     "text": [
      "9 0 3\n",
      "4\n"
     ]
    }
   ],
   "source": [
    "e,f,c = map(int, input().split())\n",
    "num = 0\n",
    "bottle_sum = e+f\n",
    "while True:    \n",
    "    new_bottle = bottle_sum//c\n",
    "    num += new_bottle\n",
    "    bin_bottle = bottle_sum%c\n",
    "    if new_bottle+bin_bottle < c:\n",
    "        break\n",
    "    bottle_sum = new_bottle +bin_bottle\n",
    "print(num)"
   ]
  },
  {
   "cell_type": "markdown",
   "metadata": {},
   "source": [
    "### 9번. 길면 기차, 기차는 빨라, 빠른 것은 비행기[9493]\n",
    "\n",
    "\n",
    "시간 = 거리 / 속도\n",
    "\n",
    "https://codeuniv.tistory.com/6 <- 시간 공식\n"
   ]
  },
  {
   "cell_type": "code",
   "execution_count": 139,
   "metadata": {},
   "outputs": [
    {
     "name": "stdout",
     "output_type": "stream",
     "text": [
      "21 70 80\n",
      "0:02:15\n",
      "0 0 0\n"
     ]
    }
   ],
   "source": [
    "while True:\n",
    "    m,a,b = map(int, input().split())\n",
    "    if m ==0 &a ==0 & b ==0:\n",
    "        break\n",
    "    sec = round((m/a - m/b)*3600)\n",
    "    hours = sec//3600\n",
    "    sec = sec - hours*3600\n",
    "    mu = sec//60\n",
    "    sec = sec - mu*60\n",
    "       \n",
    "    print(\"{0:d}:{1:02.0f}:{2:02.0f}\".format(hours, mu, sec))"
   ]
  },
  {
   "cell_type": "code",
   "execution_count": 86,
   "metadata": {},
   "outputs": [
    {
     "data": {
      "text/plain": [
       "134.99999999999991"
      ]
     },
     "execution_count": 86,
     "metadata": {},
     "output_type": "execute_result"
    }
   ],
   "source": [
    "(21/70 - 21/80)*3600"
   ]
  },
  {
   "cell_type": "code",
   "execution_count": 85,
   "metadata": {},
   "outputs": [
    {
     "data": {
      "text/plain": [
       "0.0375"
      ]
     },
     "execution_count": 85,
     "metadata": {},
     "output_type": "execute_result"
    }
   ],
   "source": [
    "135/3600"
   ]
  },
  {
   "cell_type": "markdown",
   "metadata": {},
   "source": [
    "### 10번. Baseball[10214]"
   ]
  },
  {
   "cell_type": "code",
   "execution_count": 63,
   "metadata": {},
   "outputs": [
    {
     "name": "stdout",
     "output_type": "stream",
     "text": [
      "2\n",
      "1 0\n",
      "0 0\n",
      "0 0\n",
      "0 0\n",
      "0 0\n",
      "0 0\n",
      "0 0\n",
      "0 0\n",
      "0 0\n",
      "Yonsei\n",
      "2 0\n",
      "0 2\n",
      "0 2\n",
      "0 2\n",
      "0 2\n",
      "0 2\n",
      "0 2\n",
      "0 2\n",
      "0 2\n",
      "Korea\n"
     ]
    }
   ],
   "source": [
    "T = int(input()) #테스트 케이스의 수\n",
    "for _ in range(T):\n",
    "    score_1 = 0\n",
    "    score_2 = 0\n",
    "    for _ in range(9):\n",
    "        score1, score2 = map(int, input().split())\n",
    "        score_1 += score1\n",
    "        score_2 += score2\n",
    "\n",
    "    if score_1> score_2:\n",
    "        print(\"Yonsei\")\n",
    "    elif score_1 < score_2:\n",
    "        print(\"Korea\")\n",
    "    else:\n",
    "        print(\"Draw\")"
   ]
  },
  {
   "cell_type": "markdown",
   "metadata": {},
   "source": [
    "### 11번. 수빈이와 수열[10539]\n",
    "\n",
    "다시 풀기"
   ]
  },
  {
   "cell_type": "code",
   "execution_count": 37,
   "metadata": {},
   "outputs": [
    {
     "name": "stdout",
     "output_type": "stream",
     "text": [
      "4\n",
      "3 2 3 5\n"
     ]
    }
   ],
   "source": [
    "n = int(input())\n",
    "seq = list(map(int, input().split()))"
   ]
  },
  {
   "cell_type": "code",
   "execution_count": 20,
   "metadata": {},
   "outputs": [
    {
     "name": "stdout",
     "output_type": "stream",
     "text": [
      "[1]\n",
      "[1, 3]\n",
      "[1, 3, 2]\n",
      "[1, 3, 2, 6]\n",
      "[1, 3, 2, 6, 8]\n"
     ]
    }
   ],
   "source": [
    "ans = []\n",
    "for i in range(1,len(seq)+1):\n",
    "    print(seq[:i])\n",
    "    total = sum(seq[:i])\n",
    "    lenseq = len(seq[:i])\n",
    "    a = total/lenseq\n",
    "    ans.append(a)"
   ]
  },
  {
   "cell_type": "code",
   "execution_count": 21,
   "metadata": {},
   "outputs": [
    {
     "data": {
      "text/plain": [
       "[1.0, 2.0, 2.0, 3.0, 4.0]"
      ]
     },
     "execution_count": 21,
     "metadata": {},
     "output_type": "execute_result"
    }
   ],
   "source": [
    "ans"
   ]
  },
  {
   "cell_type": "code",
   "execution_count": 41,
   "metadata": {},
   "outputs": [
    {
     "name": "stdout",
     "output_type": "stream",
     "text": [
      "4\n",
      "3 2 3 5\n",
      "3\n",
      "1\n",
      "5\n",
      "11\n"
     ]
    }
   ],
   "source": [
    "n = int(input())\n",
    "seq = list(map(int, input().split()))\n",
    "a=[0 for i in range(len(seq))]\n",
    "a[0] = seq[0]\n",
    "for i in range(1,n):\n",
    "    a[i] = seq[i]*(i+1)- sum(a)\n",
    "\n",
    "for i in range(0,n):\n",
    "    print(a[i])"
   ]
  },
  {
   "cell_type": "code",
   "execution_count": 39,
   "metadata": {},
   "outputs": [
    {
     "data": {
      "text/plain": [
       "[3, 1, 5, 11]"
      ]
     },
     "execution_count": 39,
     "metadata": {},
     "output_type": "execute_result"
    }
   ],
   "source": [
    "a"
   ]
  },
  {
   "cell_type": "markdown",
   "metadata": {},
   "source": [
    "### 12번. 시험 감독[13458]\n",
    "\n",
    "n : 시험장<br>\n",
    "a : i번째 시험장에 있는 응시자 수\n",
    "\n",
    "총 감독관 b명, 부감독관은 c명\n",
    "\n",
    "# 질문\n",
    "\n",
    "-> "
   ]
  },
  {
   "cell_type": "code",
   "execution_count": 8,
   "metadata": {},
   "outputs": [
    {
     "name": "stdout",
     "output_type": "stream",
     "text": [
      "1\n",
      "1\n",
      "1 1\n",
      "1\n"
     ]
    }
   ],
   "source": [
    "import math\n",
    "n = int(input())\n",
    "a = list(map(int, input().split()))\n",
    "b,c  = map(int, input().split())\n",
    "num2= 0\n",
    "for i in range(n):\n",
    "    if a[i]-b<0:\n",
    "        pass\n",
    "    else:\n",
    "        num = math.ceil((a[i]-b)/c)\n",
    "        num2 += num\n",
    "    \n",
    "print(num2+n)"
   ]
  },
  {
   "cell_type": "markdown",
   "metadata": {},
   "source": [
    "### 13번. 치킨 두 마리[14489]"
   ]
  },
  {
   "cell_type": "code",
   "execution_count": 99,
   "metadata": {},
   "outputs": [
    {
     "name": "stdout",
     "output_type": "stream",
     "text": [
      "40000 0\n",
      "20000\n",
      "0\n"
     ]
    }
   ],
   "source": [
    "a,b  = map(int, input().split())\n",
    "c = int(input())\n",
    "\n",
    "if a+b >= 2*c :\n",
    "    print(a+b-2*c)\n",
    "else:\n",
    "    print(a+b)"
   ]
  },
  {
   "cell_type": "markdown",
   "metadata": {},
   "source": [
    "-> 처음에 틀린 이유는 if 조건에 >=를 안 해줘서 그렇다"
   ]
  },
  {
   "cell_type": "markdown",
   "metadata": {},
   "source": [
    "### 14번. 핸드폰 번호 궁합[17202]"
   ]
  },
  {
   "cell_type": "code",
   "execution_count": 96,
   "metadata": {},
   "outputs": [
    {
     "name": "stdout",
     "output_type": "stream",
     "text": [
      "01234567\n",
      "12345678\n",
      "02\n"
     ]
    }
   ],
   "source": [
    "a = str(input())\n",
    "b = str(input())\n",
    "c =[]\n",
    "for i in range(len(a)):   \n",
    "    c.append(a[i]+b[i])\n",
    "d =\"\".join(c)\n",
    "\n",
    "e = []\n",
    "for i in range(len(d)-1):\n",
    "    if len(str(int(d[i])+int(d[i+1])))==1:\n",
    "        e.append(int(d[i])+int(d[i+1]))\n",
    "    else:\n",
    "        e.append(str(int(d[i])+int(d[i+1]))[1])\n",
    "f=[]\n",
    "for i in range(len(e)-1):\n",
    "    if len(str(int(e[i])+int(e[i+1])))==1:\n",
    "        f.append(int(e[i])+int(e[i+1]))\n",
    "    else:\n",
    "        f.append(int(str(int(e[i])+int(e[i+1]))[1]))\n",
    "        \n",
    "g = []\n",
    "for i in range(len(f)-1):\n",
    "    if len(str(f[i]+f[i+1]))==1:\n",
    "        g.append(f[i]+f[i+1])\n",
    "    else:\n",
    "        g.append(int(str(f[i]+f[i+1])[1]))\n",
    "        \n",
    "h = []\n",
    "for i in range(len(g)-1):\n",
    "    if len(str(g[i]+g[i+1]))==1:\n",
    "        h.append(g[i]+g[i+1])\n",
    "    else:\n",
    "        h.append(int(str(g[i]+g[i+1])[1]))\n",
    "        \n",
    "j = []\n",
    "for i in range(len(h)-1):\n",
    "    if len(str(h[i]+h[i+1]))==1:\n",
    "        j.append(h[i]+h[i+1])\n",
    "    else:\n",
    "        j.append(int(str(h[i]+h[i+1])[1]))\n",
    "        \n",
    "k = []\n",
    "for i in range(len(j)-1):\n",
    "    if len(str(j[i]+j[i+1]))==1:\n",
    "        k.append(j[i]+j[i+1])\n",
    "    else:\n",
    "        k.append(int(str(j[i]+j[i+1])[1]))\n",
    "        \n",
    "l = []\n",
    "for i in range(len(k)-1):\n",
    "    if len(str(k[i]+k[i+1]))==1:\n",
    "        l.append(k[i]+k[i+1])\n",
    "    else:\n",
    "        l.append(int(str(k[i]+k[i+1])[1]))\n",
    "    \n",
    "r = []\n",
    "for i in range(len(l)-1):\n",
    "    if len(str(l[i]+l[i+1]))==1:\n",
    "        r.append(l[i]+l[i+1])\n",
    "    else:\n",
    "        r.append(int(str(l[i]+l[i+1])[1]))    \n",
    "\n",
    "        \n",
    "w = []\n",
    "for i in range(len(r)-1):\n",
    "    if len(str(r[i]+r[i+1]))==1:\n",
    "        w.append(r[i]+r[i+1])\n",
    "    else:\n",
    "        w.append(int(str(r[i]+r[i+1])[1]))  \n",
    "        \n",
    "w1 = []\n",
    "for i in range(len(w)-1):\n",
    "    if len(str(w[i]+w[i+1]))==1:\n",
    "        w1.append(w[i]+w[i+1])\n",
    "    else:\n",
    "        w1.append(int(str(w[i]+w[i+1])[1]))  \n",
    "\n",
    "w2 = []\n",
    "for i in range(len(w1)-1):\n",
    "    if len(str(w1[i]+w1[i+1]))==1:\n",
    "        w2.append(w1[i]+w1[i+1])\n",
    "    else:\n",
    "        w2.append(int(str(w1[i]+w1[i+1])[1])) \n",
    "w3 = []\n",
    "for i in range(len(w2)-1):\n",
    "    if len(str(w2[i]+w2[i+1]))==1:\n",
    "        w3.append(w2[i]+w2[i+1])\n",
    "    else:\n",
    "        w3.append(int(str(w2[i]+w2[i+1])[1])) \n",
    "        \n",
    "w4 = []\n",
    "for i in range(len(w3)-1):\n",
    "    if len(str(w3[i]+w3[i+1]))==1:\n",
    "        w4.append(w3[i]+w3[i+1])\n",
    "    else:\n",
    "        w4.append(int(str(w3[i]+w3[i+1])[1]))\n",
    "        \n",
    "w5 = []\n",
    "for i in range(len(w4)-1):\n",
    "    if len(str(w4[i]+w4[i+1]))==1:\n",
    "        w5.append(w4[i]+w4[i+1])\n",
    "    else:\n",
    "        w5.append(int(str(w4[i]+w4[i+1])[1])) \n",
    "\n",
    "w6=[]\n",
    "for i in w5:\n",
    "    w6.append(str(i))\n",
    "print(\"\".join(w6))"
   ]
  },
  {
   "cell_type": "code",
   "execution_count": null,
   "metadata": {},
   "outputs": [],
   "source": [
    "l=list(input())\n",
    "ll=list(input())\n",
    "lll=[]\n",
    "for i in range(8):\n",
    "    lll.append(int(l[i]))\n",
    "    lll.append(int(ll[i]))  \n",
    "while True:\n",
    "    for i in range(len(lll)-1):\n",
    "        lll[i]=(lll[i]+lll[i+1])%10\n",
    "    del lll[-1]    \n",
    "    if len(lll)==2:\n",
    "        break\n",
    "print('{}{}'.format(lll[0],lll[1]))"
   ]
  },
  {
   "cell_type": "markdown",
   "metadata": {},
   "source": [
    "### 15번. 태보태보 총난타[17249]"
   ]
  },
  {
   "cell_type": "code",
   "execution_count": 10,
   "metadata": {},
   "outputs": [
    {
     "name": "stdout",
     "output_type": "stream",
     "text": [
      "@===@==@=@==(^0^)==@=@===@\n"
     ]
    }
   ],
   "source": [
    "string = str(input())\n",
    "left, right = string.split(\"(^0^)\")\n",
    "print(left.count('@'), right.count('@'))"
   ]
  },
  {
   "cell_type": "code",
   "execution_count": 15,
   "metadata": {},
   "outputs": [
    {
     "data": {
      "text/plain": [
       "4"
      ]
     },
     "execution_count": 15,
     "metadata": {},
     "output_type": "execute_result"
    }
   ],
   "source": [
    "string[:string.find(\"(^0^)\")].count('@')"
   ]
  },
  {
   "cell_type": "markdown",
   "metadata": {},
   "source": [
    "### 16번. 통학의 신[17945]"
   ]
  },
  {
   "cell_type": "code",
   "execution_count": 5,
   "metadata": {},
   "outputs": [
    {
     "name": "stdout",
     "output_type": "stream",
     "text": [
      "1 1\n",
      "-1 "
     ]
    }
   ],
   "source": [
    "a,b = map(int, input().split())\n",
    "\n",
    "for x in range(-1000,1000):\n",
    "    if (x**2)+(2*a*x)+b == 0:\n",
    "        print(x, end=\" \")"
   ]
  },
  {
   "cell_type": "markdown",
   "metadata": {},
   "source": [
    "-> 애매한 점 : 범위?!"
   ]
  },
  {
   "cell_type": "markdown",
   "metadata": {},
   "source": [
    "### 17번. N,M 찍기[18883]"
   ]
  },
  {
   "cell_type": "code",
   "execution_count": 31,
   "metadata": {},
   "outputs": [
    {
     "name": "stdout",
     "output_type": "stream",
     "text": [
      "3 4\n",
      "1 2 3 4\n",
      "5 6 7 8\n",
      "9 10 11 12\n"
     ]
    }
   ],
   "source": [
    "n,m = map(int, input().split())\n",
    "number = list(range(1,n*m+1))\n",
    "\n",
    "num2=[]\n",
    "for i in number:\n",
    "    num2.append(str(i))\n",
    "\n",
    "for i in range(0, n*m, m):\n",
    "    print(\" \".join(num2[i:i+m]))\n",
    "      "
   ]
  },
  {
   "cell_type": "markdown",
   "metadata": {},
   "source": [
    "### 18번. 수학은 비대면강의입니다[19532]"
   ]
  },
  {
   "cell_type": "code",
   "execution_count": 92,
   "metadata": {},
   "outputs": [
    {
     "name": "stdout",
     "output_type": "stream",
     "text": [
      "1 3 -1 4 1 7\n",
      "2 -1\n"
     ]
    }
   ],
   "source": [
    "a,b,c,d,e,f = map(int, input().split())\n",
    "\n",
    "for i in range(-999, 1000):\n",
    "    for j in range(-999, 1000):\n",
    "        if (a*i)+(b*j)==c and (d*i)+(e*j)==f:\n",
    "            print(i,j)"
   ]
  },
  {
   "cell_type": "markdown",
   "metadata": {},
   "source": [
    "내가 푼 풀이"
   ]
  },
  {
   "cell_type": "code",
   "execution_count": 89,
   "metadata": {},
   "outputs": [
    {
     "name": "stdout",
     "output_type": "stream",
     "text": [
      "2  -1\n"
     ]
    }
   ],
   "source": [
    "from sympy import  solve\n",
    "from sympy import symbols\n",
    "a,b,c,d,e,f = map(int, input().split())\n",
    "\n",
    "x, y = symbols('x y')\n",
    "equation1 = a*x + b*y - c\n",
    "equation2 = d*x + e*y - f\n",
    "a = solve((equation1, equation2), dict=True)\n",
    "a1 = list(a[0].values())\n",
    "x1 = a1[0]\n",
    "y1 = a1[1]\n",
    "\n",
    "print(x1, '',y1)"
   ]
  },
  {
   "cell_type": "markdown",
   "metadata": {},
   "source": [
    "### 19번. 백발백준하는 명사수[22938]"
   ]
  },
  {
   "cell_type": "code",
   "execution_count": 31,
   "metadata": {},
   "outputs": [
    {
     "name": "stdout",
     "output_type": "stream",
     "text": [
      "9 9 1\n",
      "8 8 3\n",
      "Yes\n"
     ]
    }
   ],
   "source": [
    "x1, y1, r1 = map(int, input().split())\n",
    "x2, y2, r2 = map(int, input().split())\n",
    "d = (x1-x2)**2+(y1-y2)**2\n",
    "print('YES' if (r1+r2)**2>d else 'NO')"
   ]
  },
  {
   "cell_type": "markdown",
   "metadata": {},
   "source": [
    "### 20번. 영화평가[23278]"
   ]
  },
  {
   "cell_type": "code",
   "execution_count": 23,
   "metadata": {},
   "outputs": [
    {
     "name": "stdout",
     "output_type": "stream",
     "text": [
      "10 2 2\n",
      "1 1 0 0 1 1 0 1 0 2\n",
      "0.6666666666666666\n"
     ]
    }
   ],
   "source": [
    "n, l, h = map(int, input().split())\n",
    "score = list(map(int, input().split()))\n",
    "\n",
    "score = sorted(score)[l:n-h]\n",
    "\n",
    "print(sum(score)/len(score))"
   ]
  }
 ],
 "metadata": {
  "kernelspec": {
   "display_name": "Python 3",
   "language": "python",
   "name": "python3"
  },
  "language_info": {
   "codemirror_mode": {
    "name": "ipython",
    "version": 3
   },
   "file_extension": ".py",
   "mimetype": "text/x-python",
   "name": "python",
   "nbconvert_exporter": "python",
   "pygments_lexer": "ipython3",
   "version": "3.8.5"
  }
 },
 "nbformat": 4,
 "nbformat_minor": 4
}
