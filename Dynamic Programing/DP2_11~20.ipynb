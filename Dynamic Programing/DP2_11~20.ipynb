{
 "cells": [
  {
   "cell_type": "markdown",
   "metadata": {},
   "source": [
    "# [10799] 쇠막대기\n",
    "\n",
    "여러 개의 쇠막대기를 레이저로 절단하려고 한다. 효율적인 작업을 위해서 쇠막대기를 아래에서 위로 겹쳐 놓고, 레이저를 위에서 수직으로 발사하여 쇠막대기들을 자른다. 쇠막대기와 레이저의 배치는 다음 조건을 만족한다.\n",
    "\n",
    "쇠막대기는 자신보다 긴 쇠막대기 위에만 놓일 수 있다. - 쇠막대기를 다른 쇠막대기 위에 놓는 경우 완전히 포함되도록 놓되, 끝점은 겹치지 않도록 놓는다.\n",
    "각 쇠막대기를 자르는 레이저는 적어도 하나 존재한다.\n",
    "레이저는 어떤 쇠막대기의 양 끝점과도 겹치지 않는다. \n",
    "아래 그림은 위 조건을 만족하는 예를 보여준다. 수평으로 그려진 굵은 실선은 쇠막대기이고, 점은 레이저의 위치, 수직으로 그려진 점선 화살표는 레이저의 발사 방향이다.\n",
    "\n",
    "이러한 레이저와 쇠막대기의 배치는 다음과 같이 괄호를 이용하여 왼쪽부터 순서대로 표현할 수 있다.\n",
    "\n",
    "레이저는 여는 괄호와 닫는 괄호의 인접한 쌍 ‘( ) ’ 으로 표현된다. 또한, 모든 ‘( ) ’는 반드시 레이저를 표현한다.\n",
    "쇠막대기의 왼쪽 끝은 여는 괄호 ‘ ( ’ 로, 오른쪽 끝은 닫힌 괄호 ‘) ’ 로 표현된다. \n",
    "위 예의 괄호 표현은 그림 위에 주어져 있다.\n",
    "\n",
    "쇠막대기는 레이저에 의해 몇 개의 조각으로 잘려지는데, 위 예에서 가장 위에 있는 두 개의 쇠막대기는 각각 3개와 2개의 조각으로 잘려지고, 이와 같은 방식으로 주어진 쇠막대기들은 총 17개의 조각으로 잘려진다. \n",
    "\n",
    "쇠막대기와 레이저의 배치를 나타내는 괄호 표현이 주어졌을 때, 잘려진 쇠막대기 조각의 총 개수를 구하는 프로그램을 작성하시오.\n",
    "\n",
    "한 줄에 쇠막대기와 레이저의 배치를 나타내는 괄호 표현이 공백없이 주어진다. 괄호 문자의 개수는 최대 100,000이다. \n",
    "\n",
    "잘려진 조각의 총 개수를 나타내는 정수를 한 줄에 출력한다."
   ]
  },
  {
   "attachments": {
    "image.png": {
     "image/png": "[encoded data removed]"
    }
   },
   "cell_type": "markdown",
   "metadata": {},
   "source": [
    "![image.png](attachment:image.png)"
   ]
  },
  {
   "cell_type": "markdown",
   "metadata": {},
   "source": [
    "생각)\n",
    "\n",
    "1. '('로 시작하고 ')'로 끝나는 애들 중에 '()'의 개수를 찾고\n",
    "2. 개수 +1 을 하면 막대의 개수가 나옴\n",
    "3. \n",
    "\n",
    " 어우 어려워 모라 !!"
   ]
  },
  {
   "cell_type": "code",
   "execution_count": null,
   "metadata": {},
   "outputs": [],
   "source": [
    "lst = input()\n",
    "s= 0 \n",
    "cnt = 0\n",
    "for iin range(ne(lat)):\n",
    "    if ist[i] == '()':\n",
    "        cnt+-1\n",
    "    elif lst"
   ]
  },
  {
   "cell_type": "markdown",
   "metadata": {},
   "source": [
    "# [10845] 큐\n",
    "\n",
    "정수를 저장하는 큐를 구현한 다음, 입력으로 주어지는 명령을 처리하는 프로그램을 작성하시오.\n",
    "\n",
    "명령은 총 여섯 가지이다.\n",
    "\n",
    "push X: 정수 X를 큐에 넣는 연산이다.\n",
    "pop: 큐에서 가장 앞에 있는 정수를 빼고, 그 수를 출력한다. 만약 큐에 들어있는 정수가 없는 경우에는 -1을 출력한다.\n",
    "size: 큐에 들어있는 정수의 개수를 출력한다.\n",
    "empty: 큐가 비어있으면 1, 아니면 0을 출력한다.\n",
    "front: 큐의 가장 앞에 있는 정수를 출력한다. 만약 큐에 들어있는 정수가 없는 경우에는 -1을 출력한다.\n",
    "back: 큐의 가장 뒤에 있는 정수를 출력한다. 만약 큐에 들어있는 정수가 없는 경우에는 -1을 출력한다.\n",
    "\n",
    "첫째 줄에 주어지는 명령의 수 N (1 ≤ N ≤ 10,000)이 주어진다. 둘째 줄부터 N개의 줄에는 명령이 하나씩 주어진다. 주어지는 정수는 1보다 크거나 같고, 100,000보다 작거나 같다. 문제에 나와있지 않은 명령이 주어지는 경우는 없다.\n",
    "\n",
    "출력해야하는 명령이 주어질 때마다, 한 줄에 하나씩 출력한다."
   ]
  },
  {
   "cell_type": "markdown",
   "metadata": {},
   "source": [
    "## 큐(Queue) 자료 구조\n",
    "first in first out 구조를 따르는 자료구조임.\n",
    "삽입하는 쪽과 삭제하는 쪽이 서로 반대에 위치, 삽입 : rear, 삭제 : front 라고 표현\n"
   ]
  },
  {
   "cell_type": "code",
   "execution_count": 41,
   "metadata": {},
   "outputs": [
    {
     "name": "stdout",
     "output_type": "stream",
     "text": [
      "15\n",
      "push 1\n",
      "push 2\n",
      "front\n",
      "1\n",
      "back\n",
      "2\n",
      "size\n",
      "2\n",
      "empty\n",
      "0\n",
      "pop\n",
      "1\n",
      "pop\n",
      "2\n",
      "pop\n",
      "-1\n",
      "size\n",
      "0\n",
      "empty\n",
      "1\n",
      "pop\n",
      "-1\n",
      "push 3\n",
      "empty\n",
      "0\n",
      "front\n",
      "3\n"
     ]
    }
   ],
   "source": [
    "# 시간초과 굳굳 그럴줄 알았어 흑\n",
    "N = int(input())\n",
    "que = []\n",
    "for i in range(N):\n",
    "    a = input().split()\n",
    "    if a[0] == \"push\":\n",
    "        que.append(a[1])\n",
    "    elif a[0] == \"pop\":\n",
    "        if len(que) == 0 :\n",
    "            print(\"-1\")\n",
    "        else : \n",
    "            print(que[0])\n",
    "            del que[0]\n",
    "    elif a[0] == \"front\":\n",
    "        if len(que) == 0 :\n",
    "            print(\"-1\")\n",
    "        else :\n",
    "            print(que[0])\n",
    "    elif a[0] == \"back\":        \n",
    "        if len(que) == 0 :\n",
    "            print(\"-1\")\n",
    "        else :\n",
    "            print(que[len(que)-1])\n",
    "    elif a[0] == \"empty\":\n",
    "        if len(que) == 0 :\n",
    "            print(\"1\")\n",
    "        else : print(\"0\")\n",
    "    elif a[0] == \"size\" :\n",
    "        print(len(que))        "
   ]
  },
  {
   "cell_type": "code",
   "execution_count": 42,
   "metadata": {},
   "outputs": [
    {
     "ename": "ValueError",
     "evalue": "invalid literal for int() with base 10: ''",
     "output_type": "error",
     "traceback": [
      "\u001b[1;31m---------------------------------------------------------------------------\u001b[0m",
      "\u001b[1;31mValueError\u001b[0m                                Traceback (most recent call last)",
      "\u001b[1;32m<ipython-input-42-56f6a3b48669>\u001b[0m in \u001b[0;36m<module>\u001b[1;34m\u001b[0m\n\u001b[0;32m      3\u001b[0m \u001b[1;32mimport\u001b[0m \u001b[0msys\u001b[0m\u001b[1;33m\u001b[0m\u001b[1;33m\u001b[0m\u001b[0m\n\u001b[0;32m      4\u001b[0m \u001b[1;33m\u001b[0m\u001b[0m\n\u001b[1;32m----> 5\u001b[1;33m \u001b[0mN\u001b[0m \u001b[1;33m=\u001b[0m \u001b[0mint\u001b[0m\u001b[1;33m(\u001b[0m\u001b[0msys\u001b[0m\u001b[1;33m.\u001b[0m\u001b[0mstdin\u001b[0m\u001b[1;33m.\u001b[0m\u001b[0mreadline\u001b[0m\u001b[1;33m(\u001b[0m\u001b[1;33m)\u001b[0m\u001b[1;33m)\u001b[0m\u001b[1;33m\u001b[0m\u001b[1;33m\u001b[0m\u001b[0m\n\u001b[0m\u001b[0;32m      6\u001b[0m \u001b[1;33m\u001b[0m\u001b[0m\n\u001b[0;32m      7\u001b[0m \u001b[0mqueue\u001b[0m \u001b[1;33m=\u001b[0m \u001b[1;33m[\u001b[0m\u001b[1;33m]\u001b[0m\u001b[1;33m\u001b[0m\u001b[1;33m\u001b[0m\u001b[0m\n",
      "\u001b[1;31mValueError\u001b[0m: invalid literal for int() with base 10: ''"
     ]
    }
   ],
   "source": [
    "# 출처 : https://hyuna-tech.tistory.com/entry/%EB%B0%B1%EC%A4%80-10845-%ED%81%90-%ED%8C%8C%EC%9D%B4%EC%8D%AC%EC%9C%BC%EB%A1%9C-%EA%B5%AC%ED%98%84%ED%95%98%EA%B8%B0\n",
    "\n",
    "import sys\n",
    "\n",
    "N = int(sys.stdin.readline())\n",
    "\n",
    "queue = []\n",
    "\n",
    "for i in range(N):\n",
    "    cmd = sys.stdin.readline().split()\n",
    "\n",
    "    if cmd[0] == \"push\":\n",
    "        queue.insert(0, cmd[1]) # 삽입\n",
    "        ##print(queue)\n",
    "\n",
    "    elif cmd[0] == \"pop\":\n",
    "        if len(queue) != 0: print(queue.pop()) # 마지막 항목을 삭제하고 돌려줌\n",
    "        else: print(-1)\n",
    "\n",
    "    elif cmd[0] == \"size\":\n",
    "        print(len(queue))\n",
    "\n",
    "    elif cmd[0] == \"empty\":\n",
    "        if len(queue) == 0: print(1)\n",
    "        else : print(0)\n",
    "\n",
    "    elif cmd[0] == \"front\":\n",
    "        if len(queue) == 0: print(-1)\n",
    "        else: print(queue[len(queue) -1])\n",
    "\n",
    "    elif cmd[0] == \"back\":\n",
    "        if len(queue) == 0: print(-1)\n",
    "        else: print(queue[0])\n"
   ]
  },
  {
   "cell_type": "markdown",
   "metadata": {},
   "source": [
    "# [10866] 덱\n",
    "\n",
    "정수를 저장하는 덱(Deque)를 구현한 다음, 입력으로 주어지는 명령을 처리하는 프로그램을 작성하시오.\n",
    "\n",
    "명령은 총 여덟 가지이다.\n",
    "\n",
    "push_front X: 정수 X를 덱의 앞에 넣는다.<br>\n",
    "push_back X: 정수 X를 덱의 뒤에 넣는다.<br>\n",
    "pop_front: 덱의 가장 앞에 있는 수를 빼고, 그 수를 출력한다. 만약, 덱에 들어있는 정수가 없는 경우에는 -1을 출력한다.<br>\n",
    "pop_back: 덱의 가장 뒤에 있는 수를 빼고, 그 수를 출력한다. 만약, 덱에 들어있는 정수가 없는 경우에는 -1을 출력한다.<br>\n",
    "size: 덱에 들어있는 정수의 개수를 출력한다.<br>\n",
    "empty: 덱이 비어있으면 1을, 아니면 0을 출력한다.<br>\n",
    "front: 덱의 가장 앞에 있는 정수를 출력한다. 만약 덱에 들어있는 정수가 없는 경우에는 -1을 출력한다.<br>\n",
    "back: 덱의 가장 뒤에 있는 정수를 출력한다. 만약 덱에 들어있는 정수가 없는 경우에는 -1을 출력한다.<br>\n",
    "\n",
    "첫째 줄에 주어지는 명령의 수 N (1 ≤ N ≤ 10,000)이 주어진다. 둘째 줄부터 N개의 줄에는 명령이 하나씩 주어진다. 주어지는 정수는 1보다 크거나 같고, 100,000보다 작거나 같다. 문제에 나와있지 않은 명령이 주어지는 경우는 없다.\n",
    "\n",
    "출력해야하는 명령이 주어질 때마다, 한 줄에 하나씩 출력한다."
   ]
  },
  {
   "cell_type": "code",
   "execution_count": 52,
   "metadata": {},
   "outputs": [
    {
     "name": "stdout",
     "output_type": "stream",
     "text": [
      "15\n",
      "push_back 1\n",
      "push_front 2\n",
      "front\n",
      "2\n",
      "back\n",
      "1\n",
      "size\n",
      "2\n",
      "empty\n",
      "0\n",
      "pop_front\n",
      "2\n",
      "pop_back\n",
      "1\n",
      "pop_front\n",
      "-1\n",
      "size\n",
      "0\n",
      "empty\n",
      "1\n",
      "pop_back\n",
      "-1\n",
      "push_back 3\n",
      "empty\n",
      "0\n",
      "front\n",
      "3\n"
     ]
    }
   ],
   "source": [
    "# 큐랑 비슷하니 이건 제출 안하고 넘어감 훗\n",
    "N = int(input())\n",
    "Deque = []\n",
    "for i in range(N):\n",
    "    a = input().split()\n",
    "    if a[0] == \"push_front\":\n",
    "        Deque.insert(0,a[1])\n",
    "    elif a[0] == \"push_back\":\n",
    "        Deque.extend(a[1])\n",
    "        \n",
    "    elif a[0] == \"pop_front\":\n",
    "        if len(Deque) == 0 :\n",
    "            print(\"-1\")\n",
    "        else : \n",
    "            print(Deque[0])\n",
    "            del Deque[0]\n",
    "    elif a[0] == \"pop_back\":\n",
    "        if len(Deque) == 0 :\n",
    "            print(\"-1\")\n",
    "        else : \n",
    "            print(Deque[len(Deque)-1])\n",
    "            del Deque[len(Deque)-1]\n",
    "    elif a[0] == \"front\":\n",
    "        if len(Deque) == 0 :\n",
    "            print(\"-1\")\n",
    "        else :\n",
    "            print(Deque[0])\n",
    "    elif a[0] == \"back\":        \n",
    "        if len(Deque) == 0 :\n",
    "            print(\"-1\")\n",
    "        else :\n",
    "            print(Deque[len(Deque)-1])\n",
    "    elif a[0] == \"empty\":\n",
    "        if len(Deque) == 0 :\n",
    "            print(\"1\")\n",
    "        else : print(\"0\")\n",
    "    elif a[0] == \"size\" :\n",
    "        print(len(Deque))        "
   ]
  },
  {
   "cell_type": "markdown",
   "metadata": {},
   "source": [
    "# [10808] 알파벳 개수\n",
    "\n",
    "알파벳 소문자로만 이루어진 단어 S가 주어진다. 각 알파벳이 단어에 몇 개가 포함되어 있는지 구하는 프로그램을 작성하시오.\n",
    "\n",
    "첫째 줄에 단어 S가 주어진다. 단어의 길이는 100을 넘지 않으며, 알파벳 소문자로만 이루어져 있다.\n",
    "\n",
    "단어에 포함되어 있는 a의 개수, b의 개수, …, z의 개수를 공백으로 구분해서 출력한다."
   ]
  },
  {
   "cell_type": "code",
   "execution_count": 103,
   "metadata": {},
   "outputs": [
    {
     "name": "stdout",
     "output_type": "stream",
     "text": [
      "sdasdas\n",
      "2 0 0 2 0 0 0 0 0 0 0 0 0 0 0 0 0 0 3 0 0 0 0 0 0 0\n"
     ]
    }
   ],
   "source": [
    "S = list(input())\n",
    "counter = []\n",
    "counter.append(str(S.count(\"a\")))\n",
    "counter.append(str(S.count(\"b\")))\n",
    "counter.append(str(S.count(\"c\")))\n",
    "counter.append(str(S.count(\"d\")))\n",
    "counter.append(str(S.count(\"e\")))\n",
    "counter.append(str(S.count(\"f\")))\n",
    "counter.append(str(S.count(\"g\")))\n",
    "counter.append(str(S.count(\"h\")))\n",
    "counter.append(str(S.count(\"i\")))\n",
    "counter.append(str(S.count(\"j\")))\n",
    "counter.append(str(S.count(\"k\")))\n",
    "counter.append(str(S.count(\"l\")))\n",
    "counter.append(str(S.count(\"m\")))\n",
    "counter.append(str(S.count(\"n\")))\n",
    "counter.append(str(S.count(\"o\")))\n",
    "counter.append(str(S.count(\"p\")))\n",
    "counter.append(str(S.count(\"q\")))\n",
    "counter.append(str(S.count(\"r\")))\n",
    "counter.append(str(S.count(\"s\")))\n",
    "counter.append(str(S.count(\"t\")))\n",
    "counter.append(str(S.count(\"u\")))\n",
    "counter.append(str(S.count(\"v\")))\n",
    "counter.append(str(S.count(\"w\")))\n",
    "counter.append(str(S.count(\"x\")))\n",
    "counter.append(str(S.count(\"y\")))\n",
    "counter.append(str(S.count(\"z\")))\n",
    "print(' '.join(counter))"
   ]
  },
  {
   "cell_type": "code",
   "execution_count": 104,
   "metadata": {},
   "outputs": [
    {
     "name": "stdout",
     "output_type": "stream",
     "text": [
      "dgaknalf\n",
      "2 0 0 1 0 1 1 0 0 0 1 1 0 1 0 0 0 0 0 0 0 0 0 0 0 0 "
     ]
    }
   ],
   "source": [
    "# 다른풀이)\n",
    "# 아스키 코드 이용\n",
    "cnt = [0]*26\n",
    "for c in input():\n",
    "    cnt[ord(c)-97] += 1\n",
    "    \n",
    "for n in cnt:\n",
    "    print(n, end=\" \")"
   ]
  },
  {
   "cell_type": "markdown",
   "metadata": {},
   "source": [
    "# [10809] 알파벳 찾기\n",
    "\n",
    "알파벳 소문자로만 이루어진 단어 S가 주어진다. 각각의 알파벳에 대해서, 단어에 포함되어 있는 경우에는 처음 등장하는 위치를, 포함되어 있지 않은 경우에는 -1을 출력하는 프로그램을 작성하시오.\n",
    "\n",
    "첫째 줄에 단어 S가 주어진다. 단어의 길이는 100을 넘지 않으며, 알파벳 소문자로만 이루어져 있다.\n",
    "\n",
    "각각의 알파벳에 대해서, a가 처음 등장하는 위치, b가 처음 등장하는 위치, ... z가 처음 등장하는 위치를 공백으로 구분해서 출력한다.\n",
    "\n",
    "만약, 어떤 알파벳이 단어에 포함되어 있지 않다면 -1을 출력한다. 단어의 첫 번째 글자는 0번째 위치이고, 두 번째 글자는 1번째 위치이다.\n",
    "\n"
   ]
  },
  {
   "cell_type": "code",
   "execution_count": 176,
   "metadata": {},
   "outputs": [
    {
     "name": "stdout",
     "output_type": "stream",
     "text": [
      "sdadsad\n",
      "-1\n",
      "-1\n",
      "-1\n",
      "-1\n",
      "-1\n",
      "-1\n",
      "-1\n",
      "-1\n",
      "-1\n",
      "-1\n",
      "-1\n",
      "-1\n",
      "-1\n",
      "-1\n",
      "-1\n",
      "-1\n",
      "-1\n",
      "-1\n",
      "-1\n",
      "-1\n",
      "-1\n",
      "-1\n",
      "-1\n",
      "-1\n",
      "-1\n",
      "-1\n",
      "-1\n",
      "-1\n",
      "-1\n",
      "-1\n",
      "-1\n",
      "-1\n",
      "-1\n",
      "-1\n",
      "-1\n",
      "-1\n",
      "-1\n",
      "-1\n",
      "-1\n",
      "-1\n",
      "-1\n",
      "-1\n",
      "-1\n",
      "-1\n",
      "-1\n",
      "-1\n",
      "-1\n",
      "-1\n",
      "-1\n",
      "-1\n",
      "-1\n",
      "-1\n",
      "-1\n",
      "-1\n",
      "-1\n",
      "-1\n",
      "-1\n",
      "-1\n",
      "-1\n",
      "-1\n",
      "-1\n",
      "-1\n",
      "-1\n",
      "-1\n",
      "-1\n",
      "-1\n",
      "-1\n",
      "-1\n",
      "-1\n",
      "-1\n",
      "-1\n",
      "-1\n",
      "-1\n",
      "-1\n",
      "-1\n",
      "-1\n",
      "-1\n",
      "-1\n",
      "-1\n",
      "-1\n",
      "-1\n",
      "-1\n",
      "-1\n",
      "-1\n",
      "-1\n",
      "-1\n",
      "-1\n",
      "-1\n",
      "-1\n",
      "-1\n",
      "-1\n",
      "-1\n",
      "-1\n",
      "-1\n",
      "-1\n",
      "-1\n",
      "-1\n",
      "-1\n",
      "-1\n",
      "-1\n",
      "-1\n",
      "-1\n",
      "-1\n",
      "-1\n",
      "-1\n",
      "-1\n",
      "-1\n",
      "-1\n",
      "-1\n",
      "-1\n",
      "-1\n",
      "-1\n",
      "-1\n",
      "-1\n",
      "-1\n",
      "-1\n",
      "-1\n",
      "-1\n",
      "-1\n",
      "-1\n",
      "-1\n",
      "-1\n",
      "-1\n",
      "-1\n",
      "-1\n",
      "-1\n",
      "-1\n",
      "-1\n",
      "-1\n",
      "-1\n",
      "-1\n",
      "-1\n",
      "-1\n",
      "-1\n",
      "-1\n",
      "-1\n",
      "-1\n",
      "-1\n",
      "-1\n",
      "-1\n",
      "-1\n",
      "-1\n",
      "-1\n",
      "-1\n",
      "-1\n",
      "-1\n",
      "-1\n",
      "-1\n",
      "-1\n",
      "-1\n",
      "-1\n",
      "-1\n",
      "-1\n",
      "-1\n",
      "-1\n",
      "-1\n",
      "-1\n",
      "-1\n",
      "-1\n",
      "-1\n",
      "-1\n",
      "-1\n",
      "-1\n",
      "-1\n",
      "-1\n",
      "-1\n",
      "-1\n",
      "-1\n",
      "-1\n",
      "-1\n",
      "-1\n",
      "-1\n",
      "-1\n",
      "-1\n",
      "-1\n",
      "-1\n",
      "-1\n",
      "-1\n",
      "-1\n",
      "-1\n",
      "-1\n",
      "-1\n"
     ]
    }
   ],
   "source": [
    "S = str(input())\n",
    "a = ['a','b','c','d','e','f','g','h','i','j','k','l','m','n','o','p','q','r','s','t','u','v','w','x','y','z']\n",
    "for i in range(len(S)):\n",
    "    for j in range(26):\n",
    "        print(S[i].find(\"a[j]\"))"
   ]
  },
  {
   "cell_type": "code",
   "execution_count": 169,
   "metadata": {},
   "outputs": [
    {
     "data": {
      "text/plain": [
       "'b'"
      ]
     },
     "execution_count": 169,
     "metadata": {},
     "output_type": "execute_result"
    }
   ],
   "source": [
    "a[1]"
   ]
  },
  {
   "cell_type": "code",
   "execution_count": null,
   "metadata": {},
   "outputs": [],
   "source": []
  },
  {
   "cell_type": "code",
   "execution_count": null,
   "metadata": {},
   "outputs": [],
   "source": []
  },
  {
   "cell_type": "markdown",
   "metadata": {},
   "source": [
    "# [10820] 문자열 분석\n",
    "\n",
    "문자열 N개가 주어진다. 이때, 문자열에 포함되어 있는 소문자, 대문자, 숫자, 공백의 개수를 구하는 프로그램을 작성하시오.\n",
    "\n",
    "각 문자열은 알파벳 소문자, 대문자, 숫자, 공백으로만 이루어져 있다.\n",
    "\n",
    "첫째 줄부터 N번째 줄까지 문자열이 주어진다. (1 ≤ N ≤ 100) 문자열의 길이는 100을 넘지 않는다.\n",
    "\n",
    "첫째 줄부터 N번째 줄까지 각각의 문자열에 대해서 소문자, 대문자, 숫자, 공백의 개수를 공백으로 구분해 출력한다.\n",
    "\n"
   ]
  },
  {
   "cell_type": "code",
   "execution_count": 114,
   "metadata": {},
   "outputs": [
    {
     "name": "stdout",
     "output_type": "stream",
     "text": [
      "sadsaaas\n",
      "8 0 0 0\n",
      "asdsasadas\n",
      "10 0 0 0\n",
      "fdbabgn113e2   \n",
      "8 0 4 3\n",
      "dasd ,\n",
      "4 0 0 1\n",
      "\n"
     ]
    }
   ],
   "source": [
    "# 종료 조건이 없음, while문으로 해주기\n",
    "# 백준 제출 시 런타임 에러 뜸 훗 !\n",
    "while True :\n",
    "    line = input().rstrip(\"\\n\") # 문자열 오른쪽을 자름\n",
    "    if not line :\n",
    "        break\n",
    "    l,u,d,s = 0,0,0,0\n",
    "    for i in line:\n",
    "        if i.islower():\n",
    "            l += 1\n",
    "        if i.isupper():\n",
    "            u += 1\n",
    "        if i.isdigit(): # 숫자 확인\n",
    "            d += 1\n",
    "        if i.isspace():\n",
    "            s += 1\n",
    "    print(l,u,d,s)               "
   ]
  },
  {
   "cell_type": "markdown",
   "metadata": {},
   "source": [
    "# [2743] 단어 길이 재기\n",
    "\n",
    "알파벳으로만 이루어진 단어를 입력받아, 그 길이를 출력하는 프로그램을 작성하시오.\n",
    "첫째 줄에 영어 소문자와 대문자로만 이루어진 단어가 주어진다. 단어의 길이는 최대 100이다.\n",
    "첫째 줄에 입력으로 주어진 단어의 길이를 출력한다."
   ]
  },
  {
   "cell_type": "code",
   "execution_count": 63,
   "metadata": {},
   "outputs": [
    {
     "name": "stdout",
     "output_type": "stream",
     "text": [
      "sldkasldk\n",
      "9\n"
     ]
    }
   ],
   "source": [
    "alphabet = input()\n",
    "\n",
    "print(len(alphabet))"
   ]
  },
  {
   "cell_type": "markdown",
   "metadata": {},
   "source": [
    "# [11655] ROT13 \n",
    "\n",
    "ROT13은 카이사르 암호의 일종으로 영어 알파벳을 13글자씩 밀어서 만든다.\n",
    "\n",
    "예를 들어, \"Baekjoon Online Judge\"를 ROT13으로 암호화하면 \"Onrxwbba Bayvar Whqtr\"가 된다. ROT13으로 암호화한 내용을 원래 내용으로 바꾸려면 암호화한 문자열을 다시 ROT13하면 된다. 앞에서 암호화한 문자열 \"Onrxwbba Bayvar Whqtr\"에 다시 ROT13을 적용하면 \"Baekjoon Online Judge\"가 된다.\n",
    "\n",
    "ROT13은 알파벳 대문자와 소문자에만 적용할 수 있다. 알파벳이 아닌 글자는 원래 글자 그대로 남아 있어야 한다. 예를 들어, \"One is 1\"을 ROT13으로 암호화하면 \"Bar vf 1\"이 된다.\n",
    "\n",
    "문자열이 주어졌을 때, \"ROT13\"으로 암호화한 다음 출력하는 프로그램을 작성하시오.\n",
    "\n",
    "첫째 줄에 알파벳 대문자, 소문자, 공백, 숫자로만 이루어진 문자열 S가 주어진다. S의 길이는 100을 넘지 않는다.\n",
    "\n",
    "첫째 줄에 S를 ROT13으로 암호화한 내용을 출력한다."
   ]
  },
  {
   "cell_type": "code",
   "execution_count": 1,
   "metadata": {},
   "outputs": [
    {
     "name": "stdout",
     "output_type": "stream",
     "text": [
      "KEFESEFJEFOKP\n",
      "XRSRFRSWRSBXC\n"
     ]
    }
   ],
   "source": [
    "upper = list('ABCDEFGHIJKLMNOPQRSTUVWXYZ')\n",
    "lower = list('abcdefghijklmnopqrstuvwxyz')\n",
    "array = list(input())\n",
    "for i in range(len(array)):\n",
    "    if array[i] in upper:\n",
    "        idx=upper.index(array[i])\n",
    "        idx += 13\n",
    "        if idx > 25:\n",
    "            idx %= 25 + 1\n",
    "        array[i] = upper[idx]\n",
    "    elif array[i] in lower:\n",
    "        idx=lower.index(array[i])\n",
    "        idx += 13\n",
    "        if idx > 25:\n",
    "            idx %= 25 + 1\n",
    "        array[i] = lower[idx]\n",
    "print(\"\".join(array))"
   ]
  },
  {
   "cell_type": "code",
   "execution_count": null,
   "metadata": {},
   "outputs": [],
   "source": []
  },
  {
   "cell_type": "markdown",
   "metadata": {},
   "source": [
    "# [10824] 네 수\n",
    "\n",
    "네 자연수 A, B, C, D가 주어진다. 이때, A와 B를 붙인 수와 C와 D를 붙인 수의 합을 구하는 프로그램을 작성하시오.\n",
    "\n",
    "두 수 A와 B를 합치는 것은 A의 뒤에 B를 붙이는 것을 의미한다. 즉, 20과 30을 붙이면 2030이 된다.\n",
    "\n",
    "첫째 줄에 네 자연수 A, B, C, D가 주어진다. (1 ≤ A, B, C, D ≤ 1,000,000)\n",
    "\n",
    "A와 B를 붙인 수와 C와 D를 붙인 수의 합을 출력한다."
   ]
  },
  {
   "cell_type": "code",
   "execution_count": 125,
   "metadata": {},
   "outputs": [
    {
     "name": "stdout",
     "output_type": "stream",
     "text": [
      "10 20 30 40\n",
      "4060\n"
     ]
    }
   ],
   "source": [
    "# 땡\n",
    "A,B,C,D = map(int, input().split())\n",
    "print(A+C,B+D, sep=\"\")"
   ]
  },
  {
   "cell_type": "code",
   "execution_count": 135,
   "metadata": {},
   "outputs": [
    {
     "name": "stdout",
     "output_type": "stream",
     "text": [
      "10 20 30 40\n",
      "4060\n"
     ]
    }
   ],
   "source": [
    "# 땡\n",
    "A,B,C,D = map(str, input().split())\n",
    "AB = A+B\n",
    "CD = C+D\n",
    "\n",
    "print(int(AB[:len(A)])+int(CD[:len(C)]),int(AB[len(B):])+int(CD[len(D):]), sep=\"\")"
   ]
  },
  {
   "cell_type": "code",
   "execution_count": 137,
   "metadata": {},
   "outputs": [
    {
     "name": "stdout",
     "output_type": "stream",
     "text": [
      "10 20 30 40\n",
      "4060\n"
     ]
    }
   ],
   "source": [
    "# 굳\n",
    "A,B,C,D = map(str, input().split())\n",
    "AB = A+B\n",
    "CD = C+D\n",
    "\n",
    "print(int(AB)+int(CD))"
   ]
  },
  {
   "cell_type": "markdown",
   "metadata": {},
   "source": [
    "# [11656] 접미사 배열\n",
    "\n",
    "접미사 배열은 문자열 S의 모든 접미사를 사전순으로 정렬해 놓은 배열이다.\n",
    "\n",
    "baekjoon의 접미사는 baekjoon, aekjoon, ekjoon, kjoon, joon, oon, on, n 으로 총 8가지가 있고, 이를 사전순으로 정렬하면, aekjoon, baekjoon, ekjoon, joon, kjoon, n, on, oon이 된다.\n",
    "\n",
    "문자열 S가 주어졌을 때, 모든 접미사를 사전순으로 정렬한 다음 출력하는 프로그램을 작성하시오.\n",
    "\n",
    "첫째 줄에 문자열 S가 주어진다. S는 알파벳 소문자로만 이루어져 있고, 길이는 1,000보다 작거나 같다.\n",
    "\n",
    "첫째 줄부터 S의 접미사를 사전순으로 한 줄에 하나씩 출력한다.\n",
    "\n"
   ]
  },
  {
   "cell_type": "code",
   "execution_count": 142,
   "metadata": {},
   "outputs": [
    {
     "name": "stdout",
     "output_type": "stream",
     "text": [
      "sdjaksndakndsk\n"
     ]
    },
    {
     "ename": "TypeError",
     "evalue": "'str' object doesn't support item deletion",
     "output_type": "error",
     "traceback": [
      "\u001b[1;31m---------------------------------------------------------------------------\u001b[0m",
      "\u001b[1;31mTypeError\u001b[0m                                 Traceback (most recent call last)",
      "\u001b[1;32m<ipython-input-142-3eb2f97af284>\u001b[0m in \u001b[0;36m<module>\u001b[1;34m\u001b[0m\n\u001b[0;32m      3\u001b[0m \u001b[1;32mfor\u001b[0m \u001b[0mi\u001b[0m \u001b[1;32min\u001b[0m \u001b[0mrange\u001b[0m\u001b[1;33m(\u001b[0m\u001b[0mlen\u001b[0m\u001b[1;33m(\u001b[0m\u001b[0mS\u001b[0m\u001b[1;33m)\u001b[0m\u001b[1;33m)\u001b[0m\u001b[1;33m:\u001b[0m\u001b[1;33m\u001b[0m\u001b[1;33m\u001b[0m\u001b[0m\n\u001b[0;32m      4\u001b[0m     \u001b[0ma\u001b[0m\u001b[1;33m.\u001b[0m\u001b[0mappend\u001b[0m\u001b[1;33m(\u001b[0m\u001b[0mS\u001b[0m\u001b[1;33m)\u001b[0m\u001b[1;33m\u001b[0m\u001b[1;33m\u001b[0m\u001b[0m\n\u001b[1;32m----> 5\u001b[1;33m     \u001b[1;32mdel\u001b[0m \u001b[0mS\u001b[0m\u001b[1;33m[\u001b[0m\u001b[1;36m0\u001b[0m\u001b[1;33m]\u001b[0m\u001b[1;33m\u001b[0m\u001b[1;33m\u001b[0m\u001b[0m\n\u001b[0m",
      "\u001b[1;31mTypeError\u001b[0m: 'str' object doesn't support item deletion"
     ]
    }
   ],
   "source": [
    "S = str(input())\n",
    "a = []\n",
    "for i in range(len(S)):\n",
    "    a.append(S)\n",
    "    del S[0] # str에서는 del을 사용하지 못한당. 힝.. 어떻게 제거할까용"
   ]
  },
  {
   "cell_type": "code",
   "execution_count": 161,
   "metadata": {},
   "outputs": [
    {
     "name": "stdout",
     "output_type": "stream",
     "text": [
      "baekjoon\n",
      "aekjoon\n",
      "baekjoon\n",
      "ekjoon\n",
      "joon\n",
      "kjoon\n",
      "n\n",
      "on\n",
      "oon\n"
     ]
    }
   ],
   "source": [
    "S = str(input())\n",
    "a = []\n",
    "for i in range(len(S)):\n",
    "    a.append(S)\n",
    "    S = S[1:]\n",
    "    \n",
    "    \n",
    "a= sorted(a)\n",
    "\n",
    "print(\"\\n\".join(a))"
   ]
  }
 ],
 "metadata": {
  "kernelspec": {
   "display_name": "Python 3",
   "language": "python",
   "name": "python3"
  },
  "language_info": {
   "codemirror_mode": {
    "name": "ipython",
    "version": 3
   },
   "file_extension": ".py",
   "mimetype": "text/x-python",
   "name": "python",
   "nbconvert_exporter": "python",
   "pygments_lexer": "ipython3",
   "version": "3.8.5"
  }
 },
 "nbformat": 4,
 "nbformat_minor": 4
}
