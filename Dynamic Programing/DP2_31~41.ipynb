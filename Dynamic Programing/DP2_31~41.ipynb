{
 "cells": [
  {
   "cell_type": "markdown",
   "metadata": {},
   "source": [
    "# [1373] 2진수 8진수\n",
    "2진수가 주어졌을 때, 8진수로 변환하는 프로그램을 작성하시오.\n",
    "\n",
    "첫째 줄에 2진수가 주어진다. 주어지는 수의 길이는 1,000,000을 넘지 않는다.\n",
    "\n",
    "첫째 줄에 주어진 수를 8진수로 변환하여 출력한다."
   ]
  },
  {
   "cell_type": "markdown",
   "metadata": {},
   "source": [
    "## 파이썬 내장 함수 진수 변환\n",
    "\n",
    "\n",
    "1. Python hex (16진수), oct(8진수), bin(2진수), int(x, 진수)<br>\n",
    "\n",
    "근데 이 친구들의 출력 형태는 str 형태이므로 16진수의 int 형태로 바꾸려면 int('0xa',16)로 넣어야 한다."
   ]
  },
  {
   "cell_type": "code",
   "execution_count": 4,
   "metadata": {},
   "outputs": [
    {
     "name": "stdout",
     "output_type": "stream",
     "text": [
      "11001\n",
      "31\n"
     ]
    }
   ],
   "source": [
    "N = print(oct(int(input(), 2))[2:]) \n",
    "# int(a,2)는 2진법으로 바꾸겠다는 의미\n",
    "#[2:]는 저렇게 바꾸면 타입이 앞에 같이 붙여지기 때문에 없애려고 한것"
   ]
  },
  {
   "cell_type": "markdown",
   "metadata": {},
   "source": [
    "# [1212] 8진수 2진수\n",
    "8진수가 주어졌을 때, 2진수로 변환하는 프로그램을 작성하시오.\n",
    "\n",
    "첫째 줄에 8진수가 주어진다. 주어지는 수의 길이는 333,334을 넘지 않는다.\n",
    "\n",
    "첫째 줄에 주어진 수를 2진수로 변환하여 출력한다. 수가 0인 경우를 제외하고는 반드시 1로 시작해야 한다."
   ]
  },
  {
   "cell_type": "code",
   "execution_count": 7,
   "metadata": {},
   "outputs": [
    {
     "name": "stdout",
     "output_type": "stream",
     "text": [
      "314\n",
      "11001100\n"
     ]
    }
   ],
   "source": [
    "N = print(bin(int(input(), 8))[2:])"
   ]
  },
  {
   "cell_type": "markdown",
   "metadata": {},
   "source": [
    "# [2089] -2진수\n",
    "\n",
    "-2진법은 부호 없는 2진수로 표현이 된다. 2진법에서는 20, 21, 22, 23이 표현 되지만 -2진법에서는 (-2)0 = 1, (-2)1 = -2, (-2)2 = 4, (-2)3 = -8을 표현한다. 10진수로 1부터 표현하자면 1, 110, 111, 100, 101, 11010, 11011, 11000, 11001 등이다.\n",
    "\n",
    "10진법의 수를 입력 받아서 -2진수를 출력하는 프로그램을 작성하시오.\n",
    "\n",
    "첫 줄에 10진법으로 표현된 수 N이 주어진다.\n",
    "\n",
    "2진법 수를 출력한다."
   ]
  },
  {
   "cell_type": "code",
   "execution_count": 116,
   "metadata": {},
   "outputs": [
    {
     "name": "stdout",
     "output_type": "stream",
     "text": [
      "-13\n",
      "110111\n"
     ]
    }
   ],
   "source": [
    "N = int(input())\n",
    "num=''\n",
    "if not N:\n",
    "    print('0')\n",
    "    exit()\n",
    "while N :\n",
    "    if N % (-2):\n",
    "        num='1'+num\n",
    "        N = N // -2 +1\n",
    "        \n",
    "    else :\n",
    "        num = '0' + num\n",
    "        N = N // -2\n",
    "print(num)"
   ]
  },
  {
   "cell_type": "markdown",
   "metadata": {},
   "source": [
    "# [11576] Base Conversion\n",
    "\n",
    "타임머신을 개발하는 정이는 오랜 노력 끝에 타임머신을 개발하는데 성공하였다. 미래가 궁금한 정이는 자신이 개발한 타임머신을 이용하여 500년 후의 세계로 여행을 떠나게 되었다. 500년 후의 세계에서도 프로그래밍을 하고 싶었던 정이는 백준 사이트에 접속하여 문제를 풀기로 하였다. 그러나 미래세계는 A진법을 사용하고 있었고, B진법을 사용하던 정이는 문제를 풀 수가 없었다. 뛰어난 프로그래머였던 정이는 A진법으로 나타낸 숫자를 B진법으로 변환시켜주는 프로그램을 작성하기로 하였다. \n",
    "\n",
    "N진법이란, 한 자리에서 숫자를 표현할 때 쓸 수 있는 숫자의 가짓수가 N이라는 뜻이다. 예를 들어 N은 17일 때 한 자릿수에서 사용할 수 있는 수는 0, 1, 2, ... , 16으로 총 17가지가 된다.\n",
    "\n",
    "입력의 첫 줄에는 미래세계에서 사용하는 진법 A와 정이가 사용하는 진법 B가 공백을 구분으로 주어진다. A와 B는 모두 2이상 30이하의 자연수다.\n",
    "\n",
    "입력의 두 번째 줄에는 A진법으로 나타낸 숫자의 자리수의 개수 m(1 ≤ m ≤ 25)이 주어진다. 세 번째 줄에는 A진법을 이루고 있는 숫자 m개가 공백을 구분으로 높은 자릿수부터 차례대로 주어진다. 각 숫자는 0이상 A미만임이 보장된다. 또한 수가 0으로 시작하는 경우는 존재하지 않는다.\n",
    "\n",
    "A진법으로 나타낸 수를 10진법으로 변환하였을 때의 값은 양의 정수이며 220보다 작다.\n",
    "\n",
    "입력으로 주어진 A진법으로 나타낸 수를 B진법으로 변환하여 출력한다."
   ]
  },
  {
   "cell_type": "code",
   "execution_count": null,
   "metadata": {},
   "outputs": [],
   "source": [
    "x,y = map(int, input().split())\n",
    "z = int(input())\n",
    "a = list(map(int, input().split()))\n",
    "ten = 0\n",
    "res = []\n",
    "for i in range(z) :\n",
    "    ten += a[-1] * (x ** i)\n",
    "    a.pop(-1)\n",
    "    \n",
    "while ten :\n",
    "    res.append(str(ten % y))\n",
    "    ten"
   ]
  },
  {
   "cell_type": "markdown",
   "metadata": {},
   "source": [
    "# [1978] 소수 찾기 \n",
    "\n",
    "주어진 수 N개 중에서 소수가 몇 개인지 찾아서 출력하는 프로그램을 작성하시오.\n",
    "\n",
    "첫 줄에 수의 개수 N이 주어진다. N은 100이하이다. 다음으로 N개의 수가 주어지는데 수는 1,000 이하의 자연수이다.\n",
    "\n",
    "주어진 수들 중 소수의 개수를 출력한다."
   ]
  },
  {
   "cell_type": "markdown",
   "metadata": {},
   "source": [
    "## 풀이 )\n",
    "\n",
    "소수는 1과 자기 자신 외 양의 약수가 없는 1보다 큰 자연수를 말한다.\n",
    "다시 말해 2부터 자기 자신보다 1 작은 수들인 수들로 자기 자신을 나누었을때 나머지가 0이 되면 안된다는 의미이다."
   ]
  },
  {
   "cell_type": "code",
   "execution_count": 23,
   "metadata": {},
   "outputs": [
    {
     "name": "stdout",
     "output_type": "stream",
     "text": [
      "4\n",
      "1 3 5 7\n",
      "3\n"
     ]
    }
   ],
   "source": [
    "N = int(input())\n",
    "n = list(map(int,input().split()))\n",
    "\n",
    "def prime_number(number):\n",
    "    if number != 1: # 수가 1이 아닌 것들중에\n",
    "        for f in range(2, number): # 2부터 자기자신-1 까지\n",
    "            if number % f == 0: # 나누었을때 0이 되면 안돼\n",
    "                return False\n",
    "    else:\n",
    "        return False # 수가 1인건 당연히 안돼\n",
    "    return True # 나머지가 소수지!\n",
    "a = [] \n",
    "for i in range(len(n)):\n",
    "    if prime_number(n[i])is True:\n",
    "        a.append(n[i])\n",
    "print(len(a))"
   ]
  },
  {
   "cell_type": "markdown",
   "metadata": {},
   "source": [
    "# [1929] 소수 구하기\n",
    "\n",
    "M이상 N이하의 소수를 모두 출력하는 프로그램을 작성하시오.\n",
    "\n",
    "첫째 줄에 자연수 M과 N이 빈 칸을 사이에 두고 주어진다. (1 ≤ M ≤ N ≤ 1,000,000) M이상 N이하의 소수가 하나 이상 있는 입력만 주어진다.\n",
    "\n",
    "한 줄에 하나씩, 증가하는 순서대로 소수를 출력한다."
   ]
  },
  {
   "cell_type": "code",
   "execution_count": 29,
   "metadata": {},
   "outputs": [
    {
     "name": "stdout",
     "output_type": "stream",
     "text": [
      "3\n",
      "16\n",
      "3\n",
      "5\n",
      "7\n",
      "11\n",
      "13\n"
     ]
    }
   ],
   "source": [
    "# 시간초과\n",
    "M = int(input())\n",
    "N = int(input())\n",
    "\n",
    "def prime_number(number):\n",
    "    if number != 1: # 수가 1이 아닌 것들중에\n",
    "        for f in range(2, number): # 2부터 자기자신-1 까지\n",
    "            if number % f == 0: # 나누었을때 0이 되면 안돼\n",
    "                return False\n",
    "    else:\n",
    "        return False # 수가 1인건 당연히 안돼\n",
    "    return True # 나머지가 소수지!\n",
    "\n",
    "for i in range(M,N+1):\n",
    "    if prime_number(i) is True:\n",
    "        print(i,sep='|n')"
   ]
  },
  {
   "cell_type": "markdown",
   "metadata": {},
   "source": [
    "# [6588] 골드바흐의 추측\n",
    "\n",
    "1742년, 독일의 아마추어 수학가 크리스티안 골드바흐는 레온하르트 오일러에게 다음과 같은 추측을 제안하는 편지를 보냈다.\n",
    "\n",
    "4보다 큰 모든 짝수는 두 홀수 소수의 합으로 나타낼 수 있다.\n",
    "예를 들어 8은 3 + 5로 나타낼 수 있고, 3과 5는 모두 홀수인 소수이다. 또, 20 = 3 + 17 = 7 + 13, 42 = 5 + 37 = 11 + 31 = 13 + 29 = 19 + 23 이다.\n",
    "\n",
    "이 추측은 아직도 해결되지 않은 문제이다.\n",
    "\n",
    "백만 이하의 모든 짝수에 대해서, 이 추측을 검증하는 프로그램을 작성하시오.\n",
    "\n",
    "입력은 하나 또는 그 이상의 테스트 케이스로 이루어져 있다. 테스트 케이스의 개수는 100,000개를 넘지 않는다.\n",
    "\n",
    "각 테스트 케이스는 짝수 정수 n 하나로 이루어져 있다. (6 ≤ n ≤ 1000000)\n",
    "\n",
    "입력의 마지막 줄에는 0이 하나 주어진다.\n",
    "\n",
    "각 테스트 케이스에 대해서, n = a + b 형태로 출력한다. 이때, a와 b는 홀수 소수이다. 숫자와 연산자는 공백 하나로 구분되어져 있다. 만약, n을 만들 수 있는 방법이 여러 가지라면, b-a가 가장 큰 것을 출력한다. 또, 두 홀수 소수의 합으로 n을 나타낼 수 없는 경우에는 \"Goldbach's conjecture is wrong.\"을 출력한다.\n",
    "\n"
   ]
  },
  {
   "cell_type": "code",
   "execution_count": null,
   "metadata": {},
   "outputs": [],
   "source": [
    "# 에라토스테네스의 체\n",
    "# 찾고자 하는 수까지 TRUE로 채운 리스트를 생성한 후 2를 제외한 2의 배수, 3을 제외한\n",
    "# ㄷ3의 배수, ... sqrt(n)의 배수는 모두 False로 바꾼다.\n",
    "# 2~n까지의 숫자들 중 True인 숫자들이 소수가 된다.\n",
    "def prime_list(n):\n",
    "    seive=[True] * n\n",
    "    m = int(n ** 0.5)\n",
    "    for i in range(2, m+1):\n",
    "        if seive[i] == True:\n",
    "            for j in range(i+1,n,i):\n",
    "                serive[j] = False\n",
    "                \n",
    "    return [i for i in range(2,n) if seive[i] == True]\n",
    "\n",
    "def sosu(n):\n",
    "    li = prime_list(n)\n",
    "    idx = max([i for i in range(len(li)) if li[i]<=n/2])\n",
    "    for i in range(idx,-1,-1):\n",
    "        for j in range(1,len(li)):\n",
    "            if li[i]+li[j]==n:\n",
    "                return [li[i],li[j]]\n",
    "            \n",
    "            \n",
    "for _ in range(int(input())):\n",
    "    n=int(input())\n",
    "    print(\" \".join(map(str,sosu(n))))"
   ]
  },
  {
   "cell_type": "code",
   "execution_count": null,
   "metadata": {},
   "outputs": [],
   "source": [
    "# 선배 답\n",
    "from sys import stdin\n",
    "\n",
    "def Goldbach():\n",
    "    check = [False, False] + [True] * 1000000\n",
    "    for i in range(2, 1001):\n",
    "        if check[i] == True:\n",
    "            for j in range(i + i, 1000001, i):\n",
    "                check[j] = False\n",
    "    while True:\n",
    "        n = int(stdin.readline())\n",
    "        if n == 0:\n",
    "            break\n",
    "        A = 0\n",
    "        B = n\n",
    "        for _ in range(1000000):\n",
    "            if check[A] and check[B]:\n",
    "                print(f\"{n} = {A} + {B}\")\n",
    "                break\n",
    "            A += 1\n",
    "            B -= 1\n",
    "        else:\n",
    "            print(\"Goldbach's conjecture is wrong.\")\n",
    "\n",
    "Goldbach()"
   ]
  },
  {
   "cell_type": "markdown",
   "metadata": {},
   "source": [
    "# [11653] 소인수분해\n",
    "\n",
    "정수 N이 주어졌을 때, 소인수분해하는 프로그램을 작성하시오.\n",
    "\n",
    "첫째 줄에 정수 N (1 ≤ N ≤ 10,000,000)이 주어진다.\n",
    "\n",
    "N의 소인수분해 결과를 한 줄에 하나씩 오름차순으로 출력한다. N이 1인 경우 아무것도 출력하지 않는다."
   ]
  },
  {
   "cell_type": "code",
   "execution_count": 118,
   "metadata": {},
   "outputs": [
    {
     "name": "stdout",
     "output_type": "stream",
     "text": [
      "9991\n",
      "97\n",
      "103\n"
     ]
    }
   ],
   "source": [
    "num =int(input())\n",
    "while num != 1:\n",
    "    for i in range(2,num+1):\n",
    "        if (num%i == 0):\n",
    "            print(i)\n",
    "            num = num //i\n",
    "            break\n",
    "            "
   ]
  },
  {
   "cell_type": "markdown",
   "metadata": {},
   "source": [
    "# [10872] 팩토리얼\n",
    "\n",
    "0보다 크거나 같은 정수 N이 주어진다. 이때, N!을 출력하는 프로그램을 작성하시오.\n",
    "\n",
    "첫째 줄에 정수 N(0 ≤ N ≤ 12)가 주어진다.\n",
    "\n",
    "첫째 줄에 N!을 출력한다."
   ]
  },
  {
   "cell_type": "code",
   "execution_count": 38,
   "metadata": {},
   "outputs": [
    {
     "name": "stdout",
     "output_type": "stream",
     "text": [
      "10\n",
      "3628800\n"
     ]
    }
   ],
   "source": [
    "N = int(input())\n",
    "def fact(n):\n",
    "    f = 1\n",
    "    for i in range(1,n+1):\n",
    "        f *=i\n",
    "    return f\n",
    "print(fact(N))"
   ]
  },
  {
   "cell_type": "markdown",
   "metadata": {},
   "source": [
    "# [1676] 팩토리얼 0의 개수\n",
    "\n",
    "\n",
    "N!에서 뒤에서부터 처음 0이 아닌 숫자가 나올 때까지 0의 개수를 구하는 프로그램을 작성하시오,\n",
    "\n",
    "첫째 줄에 N이 주어진다. (0 ≤ N ≤ 500)\n",
    "\n",
    "첫째 줄에 구한 0의 개수를 출력한다"
   ]
  },
  {
   "cell_type": "code",
   "execution_count": 114,
   "metadata": {},
   "outputs": [
    {
     "name": "stdout",
     "output_type": "stream",
     "text": [
      "30\n",
      "7\n"
     ]
    }
   ],
   "source": [
    "N = int(input())\n",
    "print(N//5 + N//25 + N//125) # 5,25,125 때문에 0이 나온다."
   ]
  },
  {
   "cell_type": "markdown",
   "metadata": {},
   "source": [
    "# [2004] 조합 0의 개수\n",
    "\n",
    "\n",
    "(n m)의 끝자리 의 개수를 출력하는 프로그램을 작성하시오.\n",
    "\n",
    "첫째 줄에 정수 m,n  (0<=m<=n<=2,n!=0)이 들어온다.\n",
    "\n",
    "(n m) 끝자리 0의 개수를 출력"
   ]
  },
  {
   "cell_type": "code",
   "execution_count": 109,
   "metadata": {},
   "outputs": [
    {
     "name": "stdout",
     "output_type": "stream",
     "text": [
      "25 12\n",
      "2\n"
     ]
    }
   ],
   "source": [
    "# 시간 초과\n",
    "n,m = list(map(int, input().split()))\n",
    "\n",
    "def fact(n):\n",
    "    f = 1\n",
    "    for i in range(1,n+1):\n",
    "        f *=i\n",
    "    return f\n",
    "\n",
    "jo = fact(abs(n))//(fact(abs(m))*fact(abs(n-m)))\n",
    "count = 0\n",
    "for i in range(len(str(jo))):\n",
    "    if jo % 10 == 0:\n",
    "        count += 1\n",
    "        jo = (jo // 10)\n",
    "        \n",
    "print(count)"
   ]
  },
  {
   "cell_type": "code",
   "execution_count": null,
   "metadata": {},
   "outputs": [],
   "source": []
  }
 ],
 "metadata": {
  "kernelspec": {
   "display_name": "Python 3",
   "language": "python",
   "name": "python3"
  },
  "language_info": {
   "codemirror_mode": {
    "name": "ipython",
    "version": 3
   },
   "file_extension": ".py",
   "mimetype": "text/x-python",
   "name": "python",
   "nbconvert_exporter": "python",
   "pygments_lexer": "ipython3",
   "version": "3.8.5"
  }
 },
 "nbformat": 4,
 "nbformat_minor": 4
}
