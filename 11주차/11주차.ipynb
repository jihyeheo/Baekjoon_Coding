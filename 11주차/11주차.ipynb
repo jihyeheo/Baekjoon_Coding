{
 "cells": [
  {
   "cell_type": "markdown",
   "metadata": {},
   "source": [
    "### 1번. 부분수열의 합 [1128]"
   ]
  },
  {
   "cell_type": "code",
   "execution_count": 1,
   "metadata": {},
   "outputs": [
    {
     "name": "stdout",
     "output_type": "stream",
     "text": [
      "5 0\n",
      "-7 -3 -2 5 8\n"
     ]
    }
   ],
   "source": [
    "import sys\n",
    "from itertools import combinations\n",
    "\n",
    "input = sys.stdin.readline\n",
    "n, s = map(int, input().split())\n",
    "arr = list(map(int, input().split()))\n",
    "cnt = 0\n",
    "for i in range(1, n+1):\n",
    "    comb = combinations(arr, i)\n",
    "\n",
    "    for x in comb:\n",
    "        if sum(x) == s:\n",
    "            cnt += 1\n",
    "\n",
    "print(cnt)"
   ]
  },
  {
   "cell_type": "code",
   "execution_count": 3,
   "metadata": {},
   "outputs": [
    {
     "name": "stdout",
     "output_type": "stream",
     "text": [
      "0b0\n",
      "0b1\n",
      "0b10\n",
      "0b11\n",
      "0b100\n",
      "0b101\n",
      "0b110\n",
      "0b111\n",
      "0b1000\n",
      "0b1001\n",
      "0b1010\n",
      "0b1011\n",
      "0b1100\n",
      "0b1101\n",
      "0b1110\n",
      "0b1111\n",
      "0b10000\n",
      "0b10001\n",
      "0b10010\n",
      "0b10011\n",
      "0b10100\n",
      "0b10101\n",
      "0b10110\n",
      "0b10111\n",
      "0b11000\n",
      "0b11001\n",
      "0b11010\n",
      "0b11011\n",
      "0b11100\n",
      "0b11101\n",
      "0b11110\n",
      "0b11111\n",
      "1\n"
     ]
    }
   ],
   "source": [
    "cnt=0\n",
    "for i in range(2**N):\n",
    "    sum_=0\n",
    "    print(bin(i))\n",
    "    ll=bin(i)[2::][::-1]\n",
    "    for ii in range(len(ll)):\n",
    "        if ll[ii]=='1':\n",
    "            sum_+=l[ii]\n",
    "    if sum_==S:\n",
    "        cnt+=1\n",
    "if S==0:\n",
    "    cnt-=1\n",
    "print(cnt)"
   ]
  },
  {
   "cell_type": "code",
   "execution_count": null,
   "metadata": {},
   "outputs": [],
   "source": []
  },
  {
   "cell_type": "markdown",
   "metadata": {},
   "source": [
    "### 2번. 부재중 전화 [1333]"
   ]
  },
  {
   "cell_type": "code",
   "execution_count": 135,
   "metadata": {},
   "outputs": [
    {
     "name": "stdout",
     "output_type": "stream",
     "text": [
      "6 9 20\n",
      "40\n"
     ]
    }
   ],
   "source": [
    "n,l,d = map(int, input().split()) # 곡, 초, 전화벨\n",
    "\n",
    "tmp = []\n",
    "for i in range(n):\n",
    "    for j in range(l):\n",
    "        tmp.append(1)\n",
    "    if i != n-1:\n",
    "        for k in range(5):\n",
    "            tmp.append(0)\n",
    "# 곡이 들릴때 1, 안들릴때 0\n",
    "# 근데 곡이 끝나면 이제 전화를 받을 수 없대 뒤에는 안들을때가 없는거지\n",
    "\n",
    "answer = 0\n",
    "while answer < len(tmp):\n",
    "    if tmp[answer] == 0:\n",
    "        break\n",
    "    answer += d\n",
    "print(answer)"
   ]
  },
  {
   "cell_type": "code",
   "execution_count": 27,
   "metadata": {},
   "outputs": [
    {
     "name": "stdout",
     "output_type": "stream",
     "text": [
      "1 9 8\n",
      "8\n"
     ]
    }
   ],
   "source": [
    "n,l,d=map(int,input().split())\n",
    "count=0\n",
    "a=[0]*((n*l+5*(n-1))*2)\n",
    "for i in range(n):\n",
    "    b=(l+5)*i\n",
    "    for j in range(b,b+l):\n",
    "        a[j]+=1\n",
    "\n",
    "for i in range(n*2):    \n",
    "    if a[d*i]==0:\n",
    "        break\n",
    "print(d*i)"
   ]
  },
  {
   "cell_type": "markdown",
   "metadata": {},
   "source": [
    "### 3번. 노래 악보 [1392]"
   ]
  },
  {
   "cell_type": "markdown",
   "metadata": {},
   "source": [
    "문제 이해\n",
    "\n",
    "\n",
    "악보의 수 만큼 해당 악보가 차지하는 시간이 주어짐.\n",
    "2 1 3 이렇게 주어지면\n",
    "1번 악보는 2초 2번 악보는 1초 3번 악보는 3초임."
   ]
  },
  {
   "cell_type": "code",
   "execution_count": 26,
   "metadata": {
    "scrolled": true
   },
   "outputs": [
    {
     "name": "stdout",
     "output_type": "stream",
     "text": [
      "3 5\n",
      "2\n",
      "1\n",
      "3\n",
      "2\n",
      "3\n",
      "4\n",
      "0\n",
      "1\n",
      "2\n",
      "3\n",
      "3\n",
      "1\n",
      "1\n"
     ]
    }
   ],
   "source": [
    "n,q = map(int,input().split())\n",
    "\n",
    "tmp = [] # 악보까지의 차지 시간\n",
    "for i in range(1,n+1,1):\n",
    "    i = str(i)\n",
    "    a = int(input())\n",
    "    for j in a*i:\n",
    "        tmp.append(j)\n",
    "    \n",
    "tmp2 = [] # q개의 시간\n",
    "for _ in range(q):\n",
    "    tmp2.append(int(input()))\n",
    "\n",
    "for i in tmp2 :\n",
    "    print(int(tmp[i]))"
   ]
  },
  {
   "cell_type": "markdown",
   "metadata": {},
   "source": [
    "-> 10 넘어가면 str이 1,0 이렇게 들어간다. "
   ]
  },
  {
   "cell_type": "code",
   "execution_count": 20,
   "metadata": {},
   "outputs": [
    {
     "data": {
      "text/plain": [
       "[1, 1, 1]"
      ]
     },
     "execution_count": 20,
     "metadata": {},
     "output_type": "execute_result"
    }
   ],
   "source": [
    "n,q = map(int,input().split())\n",
    "\n",
    "tmp = [] # 악보까지의 차지 시간\n",
    "for i in range(1,n+1,1):\n",
    "    a = int(input())\n",
    "    for j in a*[i]:\n",
    "        tmp.append(int(j))\n",
    "    \n",
    "tmp2 = [] # q개의 시간\n",
    "for _ in range(q):\n",
    "    tmp2.append(int(input()))\n",
    "\n",
    "for i in tmp2 :\n",
    "    print(tmp[i])"
   ]
  },
  {
   "cell_type": "code",
   "execution_count": 15,
   "metadata": {},
   "outputs": [
    {
     "data": {
      "text/plain": [
       "[2, 3, 4, 0, 1]"
      ]
     },
     "execution_count": 15,
     "metadata": {},
     "output_type": "execute_result"
    }
   ],
   "source": [
    "tmp2"
   ]
  },
  {
   "cell_type": "code",
   "execution_count": null,
   "metadata": {},
   "outputs": [],
   "source": [
    "N,Q =map(int,input().split())\n",
    "l=[]\n",
    "for i in range(1,N+1):\n",
    "    l=l+[i]*int(input())\n",
    "for i in range(Q):\n",
    "    print(l[int(input())])"
   ]
  },
  {
   "cell_type": "markdown",
   "metadata": {},
   "source": [
    "### 4번. 영식이와 친구들 [1592]\n",
    "\n",
    "https://velog.io/@alex9792/%EB%B0%B1%EC%A4%80-1592-%EC%98%81%EC%8B%9D%EC%9D%B4%EC%99%80-%EC%B9%9C%EA%B5%AC%EB%93%A4 참고"
   ]
  },
  {
   "cell_type": "code",
   "execution_count": 20,
   "metadata": {},
   "outputs": [
    {
     "name": "stdout",
     "output_type": "stream",
     "text": [
      "5 3 2\n",
      "10\n"
     ]
    }
   ],
   "source": [
    "n,m,l = map(int, input().split()) # 자리, M번, 횟수에 따른 이동 방향\n",
    "\n",
    "num2 = [0 for _ in range(n)]\n",
    "i= 0\n",
    "answer = 0\n",
    "while True :\n",
    "    num2[i] += 1 \n",
    "    if num2[i] == m:\n",
    "        print(answer)\n",
    "        break\n",
    "    elif num2[i]%2 == 1:\n",
    "        i = (i+l)%n\n",
    "    else:\n",
    "        i = (i+(n-l))%n\n",
    "    answer +=1"
   ]
  },
  {
   "cell_type": "markdown",
   "metadata": {},
   "source": [
    "### 5번. 좋은 자동차 번호판 [1871]"
   ]
  },
  {
   "cell_type": "code",
   "execution_count": 16,
   "metadata": {},
   "outputs": [
    {
     "name": "stdout",
     "output_type": "stream",
     "text": [
      "2\n",
      "ABC-0123\n",
      "0\n",
      "26\n",
      "2\n",
      "nice\n",
      "AAA-9999\n",
      "0\n",
      "0\n",
      "0\n",
      "not nice\n"
     ]
    }
   ],
   "source": [
    "n = int(input())\n",
    "\n",
    "dic = {'A':0,'B':1,'C':2,'D':3,'E':4,'F':5,'G':6,'H':7,'I':8,'J':9,'K':10,\n",
    "      'L':11,'M':12,'N':13,'O':14,'P':15,'Q':16,'R':17,'S':18,'T':19,'U':20,'V':21\n",
    "    ,'W':22,'X':23,'Y':24,'Z':25 }\n",
    "\n",
    "tmp = []\n",
    "for _ in range(n):\n",
    "    a = input()\n",
    "    b = a[0:3]\n",
    "    num= 0\n",
    "    for i in range(len(b)):\n",
    "        print(dic[b[i]]*(26**(2-i)))\n",
    "        num += dic[b[i]]*(26**(2-i))\n",
    "    c = int(a[4:])\n",
    "    \n",
    "    result = abs(num - c)\n",
    "    if result <= 100:\n",
    "        print(\"nice\")\n",
    "    else:\n",
    "        print(\"not nice\")"
   ]
  },
  {
   "cell_type": "markdown",
   "metadata": {},
   "source": [
    "### 6번.직사각형 네개의 합집합의 면적 구하기 [2669]\n",
    "\n",
    "10000개의 좌표값을 대신할 수 있는 애를 만들어서\n",
    "각각 좌표값에다가 1을 칠한 후 다 더해줌\n",
    "\n",
    "https://velog.io/@holawan/%EB%B0%B1%EC%A4%80-2669%EC%A7%81%EC%82%AC%EA%B0%81%ED%98%95-%EB%84%A4%EA%B0%9C%EC%9D%98-%ED%95%A9%EC%A7%91%ED%95%A9%EC%9D%98-%EB%A9%B4%EC%A0%81-python"
   ]
  },
  {
   "cell_type": "code",
   "execution_count": 42,
   "metadata": {},
   "outputs": [
    {
     "data": {
      "text/plain": [
       "1378"
      ]
     },
     "execution_count": 42,
     "metadata": {},
     "output_type": "execute_result"
    }
   ],
   "source": [
    "import pprint\n",
    "board = [[0 for j in range(100)] for i in range(100)] # 100 x 100 그리드 만들기 \n",
    "for _ in range(4) : #4개의 직사각형을 돌며 \n",
    "    a, b, c, d = map(int, input().split()) #각 좌표를 a,b,c,d에 저장 \n",
    "    for i in range(a, c) : #i가 직사각형 면적 안에 있게 하기 위해 for문을 돌린다.\n",
    "        for j in range(b, d) : #y좌표를 돌며 값을 입력시킨다.\n",
    "            if board[i][j] == 1 : #만약 값이 입력되어 있으면 \n",
    "                continue          #continue\n",
    "            else :\n",
    "                board[i][j] = 1 #아니면 값을 입력한다. (직사각형이 겹치지 않게 하기 위해서 )\n",
    "\n",
    "ans = 0\n",
    "for i in range(100): #좌표를 돌며 최종적으로 값이 입력되어있으면 더한다. \n",
    "    for j in range(100):\n",
    "        if board[i][j] == 1 :\n",
    "            ans += 1\n",
    "print(ans)"
   ]
  },
  {
   "cell_type": "markdown",
   "metadata": {},
   "source": [
    "### 7번. 행복한 전화 통화 [3863]"
   ]
  },
  {
   "cell_type": "code",
   "execution_count": 37,
   "metadata": {},
   "outputs": [
    {
     "name": "stdout",
     "output_type": "stream",
     "text": [
      "3 2\n",
      "3 4 2 5\n",
      "1 2 0 10\n",
      "6 5 5 8\n",
      "0 6\n",
      "8 2\n"
     ]
    }
   ],
   "source": [
    "n,m = map(int, input().split())\n",
    "tmp = []\n",
    "for i in range(n):\n",
    "    # duration 통화시간을 초로 나타냄, start 발신 시간\n",
    "    a,b,c,d = map(int, input().split())\n",
    "    tmp.append([c,c+d])\n",
    "tmp2 = []\n",
    "for i in range(m):\n",
    "    e1,e2 = map(int, input().split())\n",
    "    tmp2.append([e1,e1+e2])\n"
   ]
  },
  {
   "cell_type": "code",
   "execution_count": null,
   "metadata": {},
   "outputs": [],
   "source": []
  },
  {
   "cell_type": "code",
   "execution_count": null,
   "metadata": {},
   "outputs": [],
   "source": []
  },
  {
   "cell_type": "code",
   "execution_count": null,
   "metadata": {},
   "outputs": [],
   "source": []
  },
  {
   "cell_type": "markdown",
   "metadata": {},
   "source": [
    "### 8번.  조옮김 [4732]\n",
    "\n",
    "https://github.com/daily-boj/RanolP/blob/master/4732/solution.py"
   ]
  },
  {
   "cell_type": "code",
   "execution_count": 219,
   "metadata": {},
   "outputs": [
    {
     "name": "stdout",
     "output_type": "stream",
     "text": [
      "***\n"
     ]
    }
   ],
   "source": [
    "note_sequence = [\"A\", \"A#\", \"B\", \"C\", \"C#\", \"D\", \"D#\", \"E\", \"F\", \"F#\", \"G\", \"G#\"]\n",
    "same_note = {\n",
    "    \"B#\": \"C\",\n",
    "    \"E#\": \"F\",\n",
    "    \"Bb\": \"A#\",\n",
    "    \"Db\": \"C#\",\n",
    "    \"Eb\": \"D#\",\n",
    "    \"Gb\": \"F#\",\n",
    "    \"Ab\": \"G#\",\n",
    "}\n",
    "\n",
    "while 1:\n",
    "    note_list = input().split()\n",
    "    if note_list[0] == \"***\":\n",
    "        break\n",
    "    move = int(input())\n",
    "    result = [\n",
    "        note_sequence[\n",
    "            (note_sequence.index(same_note.get(note, note)) + move) % len(note_sequence)\n",
    "        ]\n",
    "        for note in note_list\n",
    "    ]\n",
    "    print(\" \".join(result))"
   ]
  },
  {
   "cell_type": "markdown",
   "metadata": {},
   "source": [
    "get 함수는 하나의 키를 넣어주면 값으로 반환해주는 함수"
   ]
  },
  {
   "cell_type": "markdown",
   "metadata": {},
   "source": [
    "### 9번. 기념일2 [10426]"
   ]
  },
  {
   "cell_type": "code",
   "execution_count": 235,
   "metadata": {},
   "outputs": [],
   "source": [
    "tmp = []\n",
    "for year in range(1990, 2015,1):\n",
    "    if (year%4 == 0 and year%100 !=0) or year%400 == 0:\n",
    "        tmp.append(year)"
   ]
  },
  {
   "cell_type": "code",
   "execution_count": 236,
   "metadata": {},
   "outputs": [
    {
     "data": {
      "text/plain": [
       "[1992, 1996, 2000, 2004, 2008, 2012]"
      ]
     },
     "execution_count": 236,
     "metadata": {},
     "output_type": "execute_result"
    }
   ],
   "source": [
    "tmp"
   ]
  },
  {
   "cell_type": "code",
   "execution_count": 234,
   "metadata": {},
   "outputs": [
    {
     "name": "stdout",
     "output_type": "stream",
     "text": [
      "2014-04-02 200\n",
      "2014\n",
      "10\n",
      "21\n"
     ]
    }
   ],
   "source": [
    "n, num = map(str, input().split())\n",
    "num = int(num)\n",
    "year = int(n[0:4])\n",
    "month = int(n[5:7])\n",
    "day = int(n[8:])\n",
    "\n",
    "# 년도가 나옴\n",
    "if num >= 365 :\n",
    "    year1 = num//365\n",
    "    num -= year1*365\n",
    "    mm1 = num//30\n",
    "    dd1 = num%30\n",
    "    year += year1\n",
    "    if year in tmp:\n",
    "        month += mm1\n",
    "        if month >= 3:\n",
    "            day += dd1-2\n",
    "            print(year)\n",
    "            print(month)\n",
    "            print(day)\n",
    "    else:\n",
    "        month += mm1\n",
    "        day += dd1-1\n",
    "        print(year)\n",
    "        print(month)\n",
    "        print(day)\n",
    "else :\n",
    "    mm1 = num//30\n",
    "    dd1 = num%30\n",
    "    if year in tmp:\n",
    "        month += mm1\n",
    "        if month >= 3:\n",
    "            day += dd1-\n",
    "            print(year)\n",
    "            print(month)\n",
    "            print(day)\n",
    "    else:\n",
    "        month += mm1\n",
    "        day += dd1-1\n",
    "        print(year)\n",
    "        print(month)\n",
    "        print(day)\n",
    "    "
   ]
  },
  {
   "cell_type": "code",
   "execution_count": 225,
   "metadata": {},
   "outputs": [
    {
     "name": "stdout",
     "output_type": "stream",
     "text": [
      "2014-04-02 1\n",
      "2014-04-02\n"
     ]
    }
   ],
   "source": [
    "import datetime\n",
    "mydate,celebrate=input().split()\n",
    "yy,mm,dd=map(int, mydate.split('-'))\n",
    "celebrate=int(celebrate)-1\n",
    "dday=datetime.datetime(yy,mm,dd)\n",
    "dday=dday+datetime.timedelta(days=celebrate)\n",
    "print(dday.strftime(\"%Y-%m-%d\"))"
   ]
  },
  {
   "cell_type": "markdown",
   "metadata": {},
   "source": [
    "### 10번. 짝수? 홀수? [11815]"
   ]
  },
  {
   "cell_type": "code",
   "execution_count": 267,
   "metadata": {},
   "outputs": [
    {
     "name": "stdout",
     "output_type": "stream",
     "text": [
      "2\n",
      "4 5\n",
      "1 0\n"
     ]
    }
   ],
   "source": [
    "n = int(input()) # 전체 테스트 개수\n",
    "x = list(map(int, input().split())) # 약수의 개수를 판별할 수 있는 X\n",
    "\n",
    "result = []\n",
    "for num in x:\n",
    "    count = 0\n",
    "    for j in range(1, num+1):\n",
    "        if num%j == 0:\n",
    "            count += 1 \n",
    "    if count%2 != 0:\n",
    "        result.append('1')\n",
    "    else:\n",
    "        result.append('0')\n",
    "print(' '.join(result))"
   ]
  },
  {
   "cell_type": "markdown",
   "metadata": {},
   "source": [
    "-> 제곱수는 홀수!"
   ]
  },
  {
   "cell_type": "code",
   "execution_count": 54,
   "metadata": {},
   "outputs": [
    {
     "name": "stdout",
     "output_type": "stream",
     "text": [
      "2\n",
      "4 5\n",
      "1 0\n"
     ]
    }
   ],
   "source": [
    "import math\n",
    "n = int(input()) # 전체 테스트 개수\n",
    "x = list(map(int, input().split())) # 약수의 개수를 판별할 수 있는 X\n",
    "\n",
    "result = []\n",
    "for num in x:\n",
    "    count = 0\n",
    "    if int(math.sqrt(num))**2 == num : \n",
    "        count += 1\n",
    "    if count == 1:\n",
    "        result.append('1')\n",
    "    else:\n",
    "        result.append('0')\n",
    "print(' '.join(result))"
   ]
  }
 ],
 "metadata": {
  "kernelspec": {
   "display_name": "Python 3",
   "language": "python",
   "name": "python3"
  },
  "language_info": {
   "codemirror_mode": {
    "name": "ipython",
    "version": 3
   },
   "file_extension": ".py",
   "mimetype": "text/x-python",
   "name": "python",
   "nbconvert_exporter": "python",
   "pygments_lexer": "ipython3",
   "version": "3.8.5"
  }
 },
 "nbformat": 4,
 "nbformat_minor": 4
}
