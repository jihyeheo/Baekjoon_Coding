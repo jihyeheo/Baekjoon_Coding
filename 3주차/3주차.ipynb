{
 "cells": [
  {
   "cell_type": "markdown",
   "metadata": {},
   "source": [
    "### 1번. 저항 [1076]"
   ]
  },
  {
   "cell_type": "code",
   "execution_count": 6,
   "metadata": {
    "scrolled": true
   },
   "outputs": [
    {
     "name": "stdout",
     "output_type": "stream",
     "text": [
      "yellow\n",
      "violet\n",
      "red\n",
      "4700\n"
     ]
    }
   ],
   "source": [
    "color =[]\n",
    "dic_value = {'black':0,'brown':1, 'red':2, 'orange':3, 'yellow':4, 'green':5,\n",
    "            'blue':6, 'violet':7, 'grey':8, 'white':9}\n",
    "dic_dot = {'black':1,'brown':10, 'red':100, 'orange':1000, 'yellow':10000,\n",
    "           'green':100000, 'blue':1000000, 'violet':10000000,\n",
    "           'grey':100000000, 'white':1000000000}\n",
    "for _ in range(3):\n",
    "    color.append(input())\n",
    "    \n",
    "num1 = dic_value[color[0]] * 10\n",
    "num2 = dic_value[color[1]]\n",
    "num3 = dic_dot[color[2]]\n",
    "\n",
    "print((num1+num2)*num3)"
   ]
  },
  {
   "cell_type": "markdown",
   "metadata": {},
   "source": [
    "### 2번. 성 지키기 [1236]"
   ]
  },
  {
   "cell_type": "code",
   "execution_count": 4,
   "metadata": {},
   "outputs": [
    {
     "name": "stdout",
     "output_type": "stream",
     "text": [
      "4 4\n",
      "....\n",
      "....\n",
      "....\n",
      "....\n",
      "4\n"
     ]
    }
   ],
   "source": [
    "a = list(map(int, input().split()))\n",
    "\n",
    "cal=[]\n",
    "cal_d=[]\n",
    "for i in range(a[0]):\n",
    "    cal.append(list(input()))\n",
    "for s in range(a[0]):\n",
    "    cal_d.append([0 for d in range(a[1])])\n",
    "cal_d_col=[4 for p in range(a[1])]\n",
    "cal_d_row=[4 for q in range(a[0])]\n",
    "    \n",
    "for f in range(len(cal)):\n",
    "    for g in range(a[1]):\n",
    "        if cal[f][g] == \"X\":\n",
    "            cal_d_row[f] -= 1\n",
    "            cal_d_col[g] -= 1\n",
    "        else:\n",
    "            pass\n",
    "row_count=cal_d_row.count(4)\n",
    "col_count=cal_d_col.count(4)\n",
    "print(max(row_count, col_count))"
   ]
  },
  {
   "cell_type": "markdown",
   "metadata": {},
   "source": [
    "### 3번. 진짜 공간 [1350]"
   ]
  },
  {
   "cell_type": "code",
   "execution_count": 1,
   "metadata": {},
   "outputs": [
    {
     "name": "stdout",
     "output_type": "stream",
     "text": [
      "1\n",
      "600\n",
      "512\n",
      "1024\n"
     ]
    }
   ],
   "source": [
    "n = int(input())\n",
    "a = list(map(int,input().split()))\n",
    "cluster = int(input())\n",
    "\n",
    "num = 0\n",
    "for i in range(len(a)):\n",
    "    if a[i] == 0:\n",
    "        num += 0\n",
    "    else:\n",
    "        if a[i]/cluster >= 1:\n",
    "            if a[i]%cluster == 0:\n",
    "                num += cluster*(a[i]//cluster)\n",
    "            else: \n",
    "                num += cluster*(a[i]//cluster+1)\n",
    "        else:\n",
    "            num += cluster\n",
    "\n",
    "        \n",
    "print(num)"
   ]
  },
  {
   "cell_type": "markdown",
   "metadata": {},
   "source": [
    "### 4번. 피시방 알바 [1453]"
   ]
  },
  {
   "cell_type": "code",
   "execution_count": 2,
   "metadata": {},
   "outputs": [
    {
     "name": "stdout",
     "output_type": "stream",
     "text": [
      "3\n",
      "1 2 3\n",
      "0\n"
     ]
    }
   ],
   "source": [
    "n = int(input())\n",
    "a = list(map(int, input().split()))\n",
    "\n",
    "def get_occurrence_count(my_list):\n",
    "    new_list = {}\n",
    "    for i in my_list:\n",
    "        try: new_list[i] += 1\n",
    "        except: new_list[i] = 1\n",
    "    return(new_list)\n",
    "\n",
    "b = sorted(get_occurrence_count(a).items(), reverse=True, key=lambda x:x[1])\n",
    "\n",
    "c = 0\n",
    "for i in range(len(b)):\n",
    "    if b[i][1] >= 2:\n",
    "        c += b[i][1]-1\n",
    "        \n",
    "print(c)"
   ]
  },
  {
   "cell_type": "markdown",
   "metadata": {},
   "source": [
    "### 5번. 나머지와 몫이 같은 수 [1834]"
   ]
  },
  {
   "cell_type": "code",
   "execution_count": 36,
   "metadata": {},
   "outputs": [
    {
     "name": "stdout",
     "output_type": "stream",
     "text": [
      "3999999999999000000\n"
     ]
    }
   ],
   "source": [
    "n = int(input())\n",
    "a1 = 0\n",
    "for i in range(1,n,1):\n",
    "    a = n*i+i\n",
    "    a1 += a\n",
    "\n",
    "print(a1)"
   ]
  },
  {
   "cell_type": "markdown",
   "metadata": {},
   "source": [
    "### 6번. 주사위 네개 [2484]"
   ]
  },
  {
   "cell_type": "code",
   "execution_count": 1,
   "metadata": {},
   "outputs": [
    {
     "name": "stdout",
     "output_type": "stream",
     "text": [
      "3\n",
      "3 3 3 3\n",
      "3 3 2 3\n",
      "3 4 2 5\n",
      "65000\n"
     ]
    }
   ],
   "source": [
    "n = int(input())\n",
    "\n",
    "a=[]\n",
    "for i in range(n):\n",
    "    b = list(map(int, input().split()))\n",
    "    a.append(b)\n",
    "    \n",
    "c = []\n",
    "for list1 in a:\n",
    "    count = {}\n",
    "    for i in list1:\n",
    "        try: count[i] += 1\n",
    "        except: count[i]=1   \n",
    "    b = sorted(count.items(), reverse=True, key=lambda x:x[1])\n",
    "    if b[0][1] == 4:\n",
    "        c.append(50000+b[0][0]*5000)\n",
    "    if b[0][1] == 3:\n",
    "        c.append(10000+b[0][0]*1000)\n",
    "    if b[0][1] == 2 :\n",
    "        if b[1][1] == 2:\n",
    "            c.append((2000+b[0][0]*500)+(b[1][0]*500))\n",
    "        else :\n",
    "            c.append(1000+b[0][0]*100)\n",
    "    if b[0][1] == 1:\n",
    "        d = []\n",
    "        for i in range(len(b)):\n",
    "            d.append(b[i][0])\n",
    "            c.append(max(d)*100)\n",
    "                \n",
    "print(max(c))    "
   ]
  },
  {
   "cell_type": "markdown",
   "metadata": {},
   "source": [
    "### 7번. 트럭 주차 [2979]\n",
    "\n",
    "\n",
    "\n",
    "전체 구간 만들어주고\n",
    "하나씩 채워서\n",
    "+1 해주기"
   ]
  },
  {
   "cell_type": "code",
   "execution_count": null,
   "metadata": {},
   "outputs": [],
   "source": [
    "a = list(map(int, input().split()))\n",
    "l=[0]*101\n",
    "for i in range(3):\n",
    "    b, c = map(int, input().split())\n",
    "    for s in range(b, c):\n",
    "        l[s] += 1\n",
    "count = 0\n",
    "for f in l:\n",
    "    if f == 1:\n",
    "        count += a[0]\n",
    "    elif f == 2:\n",
    "        count += a[1]*2\n",
    "    elif f == 3:\n",
    "        count += a[2]*3\n",
    "    else:\n",
    "        pass\n",
    "print(count)"
   ]
  },
  {
   "cell_type": "markdown",
   "metadata": {},
   "source": [
    "### 8번. 체스판 조각 [3004]"
   ]
  },
  {
   "cell_type": "code",
   "execution_count": 4,
   "metadata": {},
   "outputs": [
    {
     "name": "stdout",
     "output_type": "stream",
     "text": [
      "1\n",
      "2\n"
     ]
    }
   ],
   "source": [
    "n = int(input())\n",
    "if n == 1:\n",
    "    print(2)\n",
    "elif n%2 == 0:\n",
    "    print((n//2+1)*(n//2+1))\n",
    "else :\n",
    "    print(((n//2+1)*(n-n//2+1)))"
   ]
  },
  {
   "cell_type": "markdown",
   "metadata": {},
   "source": [
    "### 9번. 시험 점수 [5596]"
   ]
  },
  {
   "cell_type": "code",
   "execution_count": 3,
   "metadata": {},
   "outputs": [
    {
     "name": "stdout",
     "output_type": "stream",
     "text": [
      "100 80 70 60\n",
      "807060 100\n",
      "807160\n"
     ]
    }
   ],
   "source": [
    "aa = list(map(int, input().split()))\n",
    "b = list(map(int, input().split()))\n",
    "\n",
    "if sum(aa)>= sum(b):\n",
    "    print(sum(aa))\n",
    "else:\n",
    "    print(sum(b))"
   ]
  },
  {
   "cell_type": "markdown",
   "metadata": {},
   "source": [
    "### 10번. 신기한 네자리 숫자 [6679]"
   ]
  },
  {
   "cell_type": "code",
   "execution_count": 4,
   "metadata": {},
   "outputs": [
    {
     "name": "stdout",
     "output_type": "stream",
     "text": [
      "2992\n",
      "2993\n",
      "2994\n",
      "2995\n",
      "2996\n",
      "2997\n",
      "2998\n",
      "2999\n",
      "4470\n",
      "4471\n",
      "4472\n",
      "4473\n",
      "4474\n",
      "4475\n",
      "4970\n",
      "4971\n",
      "4972\n",
      "4973\n",
      "4974\n",
      "4975\n",
      "5460\n",
      "5461\n",
      "5462\n",
      "5463\n",
      "5464\n",
      "5465\n",
      "5466\n",
      "5467\n",
      "5468\n",
      "5469\n",
      "5960\n",
      "5961\n",
      "5962\n",
      "5963\n",
      "6456\n",
      "6457\n",
      "6458\n",
      "6459\n",
      "7440\n",
      "7441\n",
      "7442\n",
      "7443\n",
      "7444\n",
      "7445\n",
      "7446\n",
      "7447\n",
      "7448\n",
      "7449\n",
      "7940\n",
      "7941\n",
      "7942\n",
      "7943\n",
      "8436\n",
      "8437\n",
      "8438\n",
      "8439\n",
      "9424\n",
      "9425\n",
      "9426\n",
      "9427\n",
      "9428\n",
      "9429\n",
      "9924\n",
      "9925\n",
      "9926\n",
      "9927\n",
      "9928\n",
      "9929\n"
     ]
    }
   ],
   "source": [
    "def cal(a, b):\n",
    "    sum = 0\n",
    "    while a > 0:\n",
    "        sum += a % b\n",
    "        a = a // b\n",
    "    return sum\n",
    "for i in range(1000, 10000):\n",
    "    f = cal(i, 10)\n",
    "    s = cal(i, 12)\n",
    "    t = cal(i, 16)\n",
    "    if f == s and f == t:\n",
    "        print(i)"
   ]
  },
  {
   "cell_type": "markdown",
   "metadata": {},
   "source": [
    "### 11번. 니모를 찾아서 [10173]"
   ]
  },
  {
   "cell_type": "code",
   "execution_count": 5,
   "metadata": {},
   "outputs": [
    {
     "name": "stdout",
     "output_type": "stream",
     "text": [
      "Marlin names this last egg Nemo, a name that Coral liked.\n",
      "Found\n",
      "While attempting to save nemo, Marlin meets Dory,\n",
      "Found\n",
      "a good-hearted and optimistic regal blue tang with short-term memory loss. \n",
      "Missing\n",
      "Upon leaving the East Australian Current,(888*%$^&%0928375)Marlin and Dory\n",
      "Missing\n",
      "NEMO leaves for school and Marlin watches NeMo swim away.\n",
      "Found\n",
      "EOI\n"
     ]
    }
   ],
   "source": [
    "while True:\n",
    "    try : \n",
    "        a = str(input())\n",
    "        if a == 'EOI':break\n",
    "        a = a.upper()\n",
    "        if 'NEMO' in a:\n",
    "            print(\"Found\")\n",
    "        else:\n",
    "            print(\"Missing\")\n",
    "    except EOFError: break"
   ]
  },
  {
   "cell_type": "markdown",
   "metadata": {},
   "source": [
    "### 12번. 수도요금 [10707]"
   ]
  },
  {
   "cell_type": "code",
   "execution_count": 6,
   "metadata": {},
   "outputs": [
    {
     "name": "stdout",
     "output_type": "stream",
     "text": [
      "9\n",
      "100\n",
      "20\n",
      "3\n",
      "10\n",
      "90\n"
     ]
    }
   ],
   "source": [
    "a = int(input())\n",
    "b = int(input())\n",
    "c = int(input())\n",
    "d = int(input())\n",
    "p = int(input())\n",
    "\n",
    "x = p*a\n",
    "if p <= c:\n",
    "    y = b\n",
    "else:\n",
    "    y = b + (p-c)*d\n",
    "    \n",
    "print(min(x,y))"
   ]
  },
  {
   "cell_type": "markdown",
   "metadata": {},
   "source": [
    "### 13번.  세로읽기 [10798]"
   ]
  },
  {
   "cell_type": "code",
   "execution_count": 119,
   "metadata": {},
   "outputs": [
    {
     "name": "stdout",
     "output_type": "stream",
     "text": [
      "ABCDE\n",
      "abcde\n",
      "01234\n",
      "FGHIJ\n",
      "fghij\n",
      "Aa0FfBb1GgCc2HhDd3IiEe4Jj\n"
     ]
    }
   ],
   "source": [
    "num=[]\n",
    "string = []\n",
    "for i in range(5):\n",
    "    a = list(input())\n",
    "    a1 = len(a)\n",
    "    num.append(a1)\n",
    "    string.append(a)\n",
    "\n",
    "for i in string:\n",
    "    if len(i) != max(num):\n",
    "        diff = max(num)-len(i)\n",
    "        for _ in range(diff):\n",
    "            i.append(\"*\")\n",
    "string2 = list(map(list, zip(*string)))\n",
    "string3 = ''.join(sum(string2, []))\n",
    "\n",
    "string3 = string3.replace(\"*\",\"\")\n",
    "print(string3)"
   ]
  },
  {
   "cell_type": "markdown",
   "metadata": {},
   "source": [
    "### 14번. 정수의 개수 [10821]"
   ]
  },
  {
   "cell_type": "code",
   "execution_count": 7,
   "metadata": {},
   "outputs": [
    {
     "name": "stdout",
     "output_type": "stream",
     "text": [
      "10,20,30,50,100\n",
      "5\n"
     ]
    }
   ],
   "source": [
    "s = list(map(str,input().split(\",\")))\n",
    "print(len(s))"
   ]
  },
  {
   "cell_type": "markdown",
   "metadata": {},
   "source": [
    "### 15번. 지영 공주님의 마법 거울 [11586]"
   ]
  },
  {
   "cell_type": "code",
   "execution_count": 103,
   "metadata": {},
   "outputs": [
    {
     "name": "stdout",
     "output_type": "stream",
     "text": [
      "3\n",
      "wdsa\n",
      "sdba\n",
      "xfrg\n",
      "2\n",
      "asdw\n",
      "abds\n",
      "grfx\n"
     ]
    }
   ],
   "source": [
    "n = int(input())\n",
    "string = []\n",
    "for _ in range(n):\n",
    "    string.append(input())\n",
    "    \n",
    "k = int(input())\n",
    "\n",
    "if k == 1 :\n",
    "    print('\\n'.join(string))\n",
    "elif k == 2 :\n",
    "    for i in string:\n",
    "        print(''.join(i[::-1]))\n",
    "else:\n",
    "    print('\\n'.join(string[::-1]))"
   ]
  },
  {
   "cell_type": "markdown",
   "metadata": {},
   "source": [
    "### 16번. Do Not Touch Anything [13136]"
   ]
  },
  {
   "cell_type": "code",
   "execution_count": 8,
   "metadata": {},
   "outputs": [
    {
     "name": "stdout",
     "output_type": "stream",
     "text": [
      "7 9 3\n",
      "9\n"
     ]
    }
   ],
   "source": [
    "import math\n",
    "r,c,n = map(int, input().split())\n",
    "print(math.ceil(r/n)*math.ceil(c/n))"
   ]
  },
  {
   "cell_type": "markdown",
   "metadata": {},
   "source": [
    "### 17번. FA [14935]"
   ]
  },
  {
   "cell_type": "code",
   "execution_count": 85,
   "metadata": {},
   "outputs": [
    {
     "name": "stdout",
     "output_type": "stream",
     "text": [
      "932\n",
      "FA\n"
     ]
    }
   ],
   "source": [
    "def f(x):\n",
    "    x = str(x)\n",
    "    return int(x[0])*int(len(x))\n",
    "\n",
    "x = int(input())\n",
    "num = []\n",
    "counting = []\n",
    "for i in range(10000):\n",
    "    x = f(x)\n",
    "    num.append(x)\n",
    "    for j in num:\n",
    "        counting.append(num.count(j))\n",
    "                        \n",
    "    if 2 in counting :        \n",
    "        print(\"FA\")\n",
    "        break\n",
    "if set(counting) == 1 :\n",
    "    print(\"NFA\")"
   ]
  },
  {
   "cell_type": "markdown",
   "metadata": {},
   "source": [
    "### 18번. 이칙연산 [15726]"
   ]
  },
  {
   "cell_type": "code",
   "execution_count": 9,
   "metadata": {},
   "outputs": [
    {
     "name": "stdout",
     "output_type": "stream",
     "text": [
      "32 16 8\n",
      "64\n"
     ]
    }
   ],
   "source": [
    "a,b,c = map(int, input().split())\n",
    "num2 = int(a/b*c)\n",
    "num3 = int(a*b/c)\n",
    "\n",
    "print(max(num2,num3))"
   ]
  },
  {
   "cell_type": "markdown",
   "metadata": {},
   "source": [
    "### 19번. 긴급 회의 [20113]"
   ]
  },
  {
   "cell_type": "code",
   "execution_count": 10,
   "metadata": {},
   "outputs": [
    {
     "name": "stdout",
     "output_type": "stream",
     "text": [
      "5\n",
      "3 1 4 3 0\n",
      "3\n"
     ]
    }
   ],
   "source": [
    "n = int(input())\n",
    "my_list = list(map(int, input().split()))\n",
    "\n",
    "new_list = {}\n",
    "for i in my_list:\n",
    "    try: new_list[i] += 1\n",
    "    except: new_list[i] = 1\n",
    "\n",
    "b = sorted(new_list.items(), reverse=True, key=lambda x:x[1])\n",
    "\n",
    "if b[0][0] == 0 :\n",
    "    if b[1][1] == b[2][1]:\n",
    "        print(\"skipped\")\n",
    "    else:\n",
    "        print(b[1][0])\n",
    "\n",
    "elif b[0][1] == b[1][1] :\n",
    "    print(\"skipped\")\n",
    "else :\n",
    "    print(b[0][0])"
   ]
  },
  {
   "cell_type": "markdown",
   "metadata": {},
   "source": [
    "### 20번. Darius님 한타 안 함? [20499]"
   ]
  },
  {
   "cell_type": "code",
   "execution_count": 11,
   "metadata": {},
   "outputs": [
    {
     "name": "stdout",
     "output_type": "stream",
     "text": [
      "0/5/3\n",
      "hasu\n"
     ]
    }
   ],
   "source": [
    "k,d,a = map(int, input().split(\"/\"))\n",
    "\n",
    "if k+a < d or d ==0:\n",
    "    print(\"hasu\")\n",
    "else : print(\"gosu\")"
   ]
  }
 ],
 "metadata": {
  "kernelspec": {
   "display_name": "Python 3",
   "language": "python",
   "name": "python3"
  },
  "language_info": {
   "codemirror_mode": {
    "name": "ipython",
    "version": 3
   },
   "file_extension": ".py",
   "mimetype": "text/x-python",
   "name": "python",
   "nbconvert_exporter": "python",
   "pygments_lexer": "ipython3",
   "version": "3.8.5"
  }
 },
 "nbformat": 4,
 "nbformat_minor": 4
}
