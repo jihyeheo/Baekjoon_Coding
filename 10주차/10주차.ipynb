{
 "cells": [
  {
   "cell_type": "markdown",
   "metadata": {},
   "source": [
    "### 1번. 마술사 이민혁 [3023]"
   ]
  },
  {
   "cell_type": "code",
   "execution_count": 40,
   "metadata": {},
   "outputs": [
    {
     "name": "stdout",
     "output_type": "stream",
     "text": [
      "2 2\n",
      "#.\n",
      ".#\n",
      "3 3\n",
      "#..#\n",
      ".##.\n",
      ".#..\n",
      "#..#\n"
     ]
    }
   ],
   "source": [
    "r,c = map(int, input().split()) # 행, 열\n",
    "tmp = []\n",
    "for i in range(r):\n",
    "    a1 = input()\n",
    "    a2 = a1[::-1]\n",
    "    a = a1+a2\n",
    "    tmp.append(list(a))\n",
    "for tmp_ in tmp[::-1]:\n",
    "    tmp.append(list(tmp_))\n",
    "    \n",
    "a,b = map(int, input().split()) # 에러 위치\n",
    "\n",
    "if tmp[a-1][b-1] == '#' :\n",
    "    tmp[a-1][b-1] = tmp[a-1][b-1].replace('#','.')\n",
    "else :\n",
    "    tmp[a-1][b-1] = tmp[a-1][b-1].replace('.','#')\n",
    "\n",
    "for i in range(len(tmp)):\n",
    "    print(''.join(tmp[i]))"
   ]
  },
  {
   "cell_type": "markdown",
   "metadata": {},
   "source": [
    "### 2번. 롤 케이크 [3985]\n",
    "\n",
    "L 미터의 롤 케이크를 만든다. N명에게 나누어준다."
   ]
  },
  {
   "cell_type": "code",
   "execution_count": 56,
   "metadata": {},
   "outputs": [
    {
     "name": "stdout",
     "output_type": "stream",
     "text": [
      "10\n",
      "3\n",
      "1 3\n",
      "5 7\n",
      "8 9\n",
      "1\n",
      "1\n"
     ]
    }
   ],
   "source": [
    "l = int(input()) # 롤 케이크 길이\n",
    "lol = [i for i in range(1,l+1,1)]\n",
    "n = int(input()) # 방청객의 수\n",
    "\n",
    "tmp = [] # 롤케잌 범위\n",
    "tmp2 = [] # 범위 개수\n",
    "tmp3 = []\n",
    "for i in range(n):\n",
    "    a = list(map(int,input().split()))\n",
    "    b = a[1] - a[0]\n",
    "    tmp.append(a)\n",
    "    tmp2.append(b)\n",
    "    num = 0\n",
    "    for j in range(a[0],a[1]+1,1):\n",
    "        if j in lol:\n",
    "            lol.remove(j)\n",
    "            num +=1\n",
    "    tmp3.append(num)    \n",
    "\n",
    "\n",
    "print(tmp2.index(max(tmp2))+1) # 기대 방청객 번호\n",
    "print(tmp3.index(max(tmp3))+1) #실제 방청객 번호"
   ]
  },
  {
   "cell_type": "markdown",
   "metadata": {},
   "source": [
    "### 3번. 히든 넘버 [8595]"
   ]
  },
  {
   "cell_type": "code",
   "execution_count": 80,
   "metadata": {},
   "outputs": [
    {
     "name": "stdout",
     "output_type": "stream",
     "text": [
      "14\n",
      "ab13c9d07jeden\n"
     ]
    },
    {
     "ename": "ValueError",
     "evalue": "invalid literal for int() with base 10: '3c9'",
     "output_type": "error",
     "traceback": [
      "\u001b[1;31m---------------------------------------------------------------------------\u001b[0m",
      "\u001b[1;31mValueError\u001b[0m                                Traceback (most recent call last)",
      "\u001b[1;32m<ipython-input-80-20725b7a7ee0>\u001b[0m in \u001b[0;36m<module>\u001b[1;34m\u001b[0m\n\u001b[0;32m      8\u001b[0m         \u001b[0mtmp\u001b[0m\u001b[1;33m.\u001b[0m\u001b[0mappend\u001b[0m\u001b[1;33m(\u001b[0m\u001b[0mi\u001b[0m\u001b[1;33m)\u001b[0m\u001b[1;33m\u001b[0m\u001b[1;33m\u001b[0m\u001b[0m\n\u001b[0;32m      9\u001b[0m \u001b[1;32mfor\u001b[0m \u001b[0mi\u001b[0m \u001b[1;32min\u001b[0m \u001b[0mrange\u001b[0m\u001b[1;33m(\u001b[0m\u001b[1;36m1\u001b[0m\u001b[1;33m,\u001b[0m\u001b[0mlen\u001b[0m\u001b[1;33m(\u001b[0m\u001b[0mtmp\u001b[0m\u001b[1;33m)\u001b[0m\u001b[1;33m-\u001b[0m\u001b[1;36m1\u001b[0m\u001b[1;33m)\u001b[0m\u001b[1;33m:\u001b[0m\u001b[1;33m\u001b[0m\u001b[1;33m\u001b[0m\u001b[0m\n\u001b[1;32m---> 10\u001b[1;33m     \u001b[1;32mif\u001b[0m \u001b[0mint\u001b[0m\u001b[1;33m(\u001b[0m\u001b[0mword\u001b[0m\u001b[1;33m[\u001b[0m\u001b[0mtmp\u001b[0m\u001b[1;33m[\u001b[0m\u001b[0mi\u001b[0m\u001b[1;33m]\u001b[0m\u001b[1;33m:\u001b[0m\u001b[0mtmp\u001b[0m\u001b[1;33m[\u001b[0m\u001b[0mi\u001b[0m\u001b[1;33m+\u001b[0m\u001b[1;36m1\u001b[0m\u001b[1;33m]\u001b[0m\u001b[1;33m+\u001b[0m\u001b[1;36m1\u001b[0m\u001b[1;33m]\u001b[0m\u001b[1;33m)\u001b[0m \u001b[1;32mis\u001b[0m \u001b[1;32mTrue\u001b[0m\u001b[1;33m:\u001b[0m\u001b[1;33m\u001b[0m\u001b[1;33m\u001b[0m\u001b[0m\n\u001b[0m\u001b[0;32m     11\u001b[0m         \u001b[0mnum\u001b[0m \u001b[1;33m+=\u001b[0m \u001b[0mint\u001b[0m\u001b[1;33m(\u001b[0m\u001b[0mword\u001b[0m\u001b[1;33m[\u001b[0m\u001b[0mtmp\u001b[0m\u001b[1;33m[\u001b[0m\u001b[0mi\u001b[0m\u001b[1;33m]\u001b[0m\u001b[1;33m:\u001b[0m\u001b[0mtmp\u001b[0m\u001b[1;33m[\u001b[0m\u001b[0mi\u001b[0m\u001b[1;33m+\u001b[0m\u001b[1;36m1\u001b[0m\u001b[1;33m]\u001b[0m\u001b[1;33m+\u001b[0m\u001b[1;36m1\u001b[0m\u001b[1;33m]\u001b[0m\u001b[1;33m)\u001b[0m\u001b[1;33m\u001b[0m\u001b[1;33m\u001b[0m\u001b[0m\n\u001b[0;32m     12\u001b[0m     \u001b[1;32melse\u001b[0m\u001b[1;33m:\u001b[0m\u001b[1;33m\u001b[0m\u001b[1;33m\u001b[0m\u001b[0m\n",
      "\u001b[1;31mValueError\u001b[0m: invalid literal for int() with base 10: '3c9'"
     ]
    }
   ],
   "source": [
    "n = int(input()) # 단어의 길이\n",
    "word = input() #\n",
    "\n",
    "num = 0\n",
    "tmp=[]\n",
    "for i in range(len(word)):\n",
    "    if word[i] in '1234567890':\n",
    "        tmp.append(i)\n",
    "for i in range(1,len(tmp)-1):\n",
    "    if int(word[tmp[i]:tmp[i+1]+1]) is True: # 이거 표현 ?!\n",
    "        num += int(word[tmp[i]:tmp[i+1]+1])\n",
    "    else:\n",
    "        num += int(word[tmp[i]])\n",
    "print(num)"
   ]
  },
  {
   "cell_type": "code",
   "execution_count": 83,
   "metadata": {},
   "outputs": [
    {
     "name": "stdout",
     "output_type": "stream",
     "text": [
      "14\n",
      "ab13c9d07jeden\n",
      "29\n"
     ]
    }
   ],
   "source": [
    "import re\n",
    "n = int(input()) # 단어의 길이\n",
    "word = input() #\n",
    "\n",
    "numbers = re.findall('\\d+',word)\n",
    "num = 0\n",
    "for i in numbers :\n",
    "    num += int(i)\n",
    "print(num)"
   ]
  },
  {
   "cell_type": "markdown",
   "metadata": {},
   "source": [
    "### 4번. 피타고라스 기댓값 [11070]"
   ]
  },
  {
   "cell_type": "code",
   "execution_count": 56,
   "metadata": {},
   "outputs": [
    {
     "name": "stdout",
     "output_type": "stream",
     "text": [
      "1\n",
      "3 5\n",
      "1 2 3 5\n",
      "1 3 10 1\n",
      "1 2 0 7\n",
      "2 3 9 3\n",
      "3 2 4 5\n",
      "871\n",
      "100\n"
     ]
    }
   ],
   "source": [
    "import math\n",
    "t = int(input()) # 입력 데이터 수\n",
    "        \n",
    "def standard_value(s,a): # s 득점 수 a 실점 수\n",
    "    return (s**2)/((s**2)+(a**2))    \n",
    "    \n",
    "for _ in range(t):\n",
    "    n,m = map(int, input().split()) # 팀의 개수, 전체 경기 수\n",
    "    for i in range(1,n+1):\n",
    "        globals()['tmp_{}'.format(i)] = 0 \n",
    "    for i in range(1,n+1):\n",
    "        globals()['tmp_{}_2'.format(i)] = 0 \n",
    "    \n",
    "    tmp = [] \n",
    "    for m_ in range(m):\n",
    "        # a 팀 -> p 득점, b팀 -> q 득점 경기\n",
    "        a,b,p,q = list(map(int, input().split())) \n",
    "        for i in range(1,n+1):\n",
    "            if a == i:\n",
    "                globals()['tmp_{}'.format(i)] += p\n",
    "                globals()['tmp_{}_2'.format(i)] += q\n",
    "        for i in range(1,n+1):     \n",
    "            if b == i:\n",
    "                globals()['tmp_{}'.format(i)] += q\n",
    "                globals()['tmp_{}_2'.format(i)] += p\n",
    "    for i in range(1,n+1):\n",
    "        value = globals()['tmp_{}'.format(i)]\n",
    "        diff = globals()['tmp_{}_2'.format(i)]\n",
    "        if value == 0 and diff == 0:\n",
    "            tmp.append(0)\n",
    "        else:\n",
    "            tmp.append(standard_value(value, diff)*1000)\n",
    "\n",
    "    print(math.trunc(max(tmp)))\n",
    "    print(math.trunc(min(tmp)))"
   ]
  },
  {
   "cell_type": "markdown",
   "metadata": {},
   "source": [
    "### 5번. 기적의 매매법 [20546]"
   ]
  },
  {
   "cell_type": "code",
   "execution_count": 2,
   "metadata": {},
   "outputs": [
    {
     "name": "stdout",
     "output_type": "stream",
     "text": [
      "100\n",
      "10 20 23 34 55 30 22 19 12 45 23 44 34 38\n",
      "TIMING\n"
     ]
    }
   ],
   "source": [
    "money = int(input())\n",
    "\n",
    "chart = list(map(int, input().split()))\n",
    "\n",
    "# 준현이 주식 계산하기\n",
    "mo = money\n",
    "num = 0 # 주식 수\n",
    "for i in range(len(chart)):\n",
    "    if mo >= chart[i]:\n",
    "        a = mo//chart[i] # 몫\n",
    "        num+=a\n",
    "        b = mo%chart[i] # 나머지\n",
    "        mo = mo - (a*mo+b)\n",
    "    if mo <= 0:\n",
    "        break\n",
    "ass_a = chart[len(chart)-1]*num + b\n",
    "\n",
    "\n",
    "# 성민이 주식 계산하기\n",
    "mo = money # seed\n",
    "num = 0 # 주식 수\n",
    "for i in range(2,len(chart)-1):\n",
    "    print(i)\n",
    "    if mo >= chart[i]:\n",
    "        if chart[i]< chart[i-1]< chart[i-2]:\n",
    "            a = mo//chart[i] # 몫\n",
    "            num+=a\n",
    "            b = mo%chart[i] # 나머지\n",
    "            mo = mo - (a*mo+b)\n",
    "        elif chart[i]> chart[i-1]> chart[i-2]:\n",
    "            mo = a*chart[i]+b\n",
    "            num = 0\n",
    "ass_b = num*chart[len(chart)-1]+b\n",
    "            \n",
    "# 출력 값\n",
    "if ass_a > ass_b :\n",
    "    print(\"BNP\")\n",
    "elif ass_b > ass_a :\n",
    "    print(\"TIMING\")\n",
    "else:\n",
    "    print(\"SAMESAME\")"
   ]
  },
  {
   "cell_type": "code",
   "execution_count": 14,
   "metadata": {},
   "outputs": [
    {
     "data": {
      "text/plain": [
       "[10, 20, 23, 34, 55, 30, 22, 19, 12, 45, 23, 44, 34, 38]"
      ]
     },
     "execution_count": 14,
     "metadata": {},
     "output_type": "execute_result"
    }
   ],
   "source": [
    "input_money = int(input())\n",
    "machine_duck = list(map(int, input().split()))\n",
    " \n",
    "j_cash, s_cash = input_money, input_money    # init current cash\n",
    "j_stock, s_stock = 0, 0    # init current stock\n",
    " \n",
    "for i in machine_duck:    # calculate joonhyun\n",
    "    if j_cash >= i:\n",
    "        j_stock += j_cash // i\n",
    "        j_cash %= i\n",
    " \n",
    "for i in range(len(machine_duck) - 3):    # calculate sungmin\n",
    "    if machine_duck[i] > machine_duck[i+1] > machine_duck[i+2]:    # Decreased compared to the previous day (All buy)\n",
    "        s_stock += s_cash // machine_duck[i+3]\n",
    "        s_cash %= machine_duck[i+3]\n",
    " \n",
    "    elif machine_duck[i] < machine_duck[i+1] < machine_duck[i+2]:    # Increased compared to the previous day (All sell)\n",
    "        s_cash += s_stock * machine_duck[i+3]\n",
    "        s_stock = 0\n",
    " \n",
    "j_asset = [j_cash + (machine_duck[-1] * j_stock)]    # joonhyun profit rate\n",
    "s_asset = [s_cash + (machine_duck[-1] * s_stock)]    # seongmin profit rate\n",
    " \n",
    "if j_asset > s_asset:\n",
    "    print('BNP')\n",
    "elif j_asset < s_asset:\n",
    "    print('TIMING')\n",
    "else:\n",
    "    print('SAMESAME')"
   ]
  },
  {
   "cell_type": "markdown",
   "metadata": {},
   "source": [
    "### 6번. 비밀번호 발음하기 [4659]\n",
    "\n",
    "\n",
    "1. 모음 하나 포함\n",
    "2. 연속된 모음 3개 또는 자음 3개는 안된다.\n",
    "3. 같은 글자가 연속적으로 두 번 x 하지만, ee와 oo는 허용\n"
   ]
  },
  {
   "cell_type": "code",
   "execution_count": 221,
   "metadata": {},
   "outputs": [
    {
     "name": "stdout",
     "output_type": "stream",
     "text": [
      "wiinq\n",
      "<wiinq> is not acceptable.\n",
      "end\n"
     ]
    }
   ],
   "source": [
    "# https://velog.io/@youngcheon/%EB%B0%B1%EC%A4%80-4659-%EB%B9%84%EB%B0%80%EB%B2%88%ED%98%B8-%EB%B0%9C%EC%9D%8C%ED%95%98%EA%B8%B0-Python\n",
    "import re\n",
    "while 1:\n",
    "    s=input()\n",
    "    if s=='end':break\n",
    "    # aeiou검사 코드\n",
    "    case1 = len(re.findall('[aeiou]',s)) != 0\n",
    "    # 모음, 자음 3개 있는지 검사\n",
    "    case2 = len(re.findall('[aeiou]{3}|[^aeiou]{3}',s))==0\n",
    "    # e,o 빼고 한 번 더 반복되는지 확인\n",
    "    case3 = len(re.findall('([a-df-np-z])\\\\1',s))==0\n",
    "    if case1 and case2 and case3:\n",
    "        print(f'<{s}> is acceptable.')\n",
    "    else:\n",
    "        print(f'<{s}> is not acceptable.')"
   ]
  },
  {
   "cell_type": "code",
   "execution_count": 220,
   "metadata": {},
   "outputs": [
    {
     "name": "stdout",
     "output_type": "stream",
     "text": [
      "ㅁ\n",
      "<ㅁ> is not acceptable.\n",
      "zoggax\n",
      "<zoggax> is not acceptable.\n",
      "wiinq\n",
      "<wiinq> is not acceptable.\n",
      "houctub\n",
      "<houctub> is acceptable.\n",
      "end\n"
     ]
    }
   ],
   "source": [
    "# https://seokmin01.tistory.com/12\n",
    "vows = \"aeiou\"\n",
    "\n",
    "while True:\n",
    "    s = input()\n",
    "    if s == \"end\":\n",
    "        break\n",
    "    v = 0\n",
    "    k = 1\n",
    "    for i in range(len(s)):\n",
    "        if s[i] in vows:\n",
    "            v = 1\n",
    "        if i > 0:\n",
    "            if s[i] == s[i-1] and s[i] != 'e' and s[i] != 'o':\n",
    "                k = 0\n",
    "                break\n",
    "        if i > 1:\n",
    "            if s[i] not in vows:\n",
    "                if s[i-1] not in vows:\n",
    "                    if s[i-2] not in vows:\n",
    "                        k = 0\n",
    "                        break\n",
    "            if s[i] in vows:\n",
    "                if s[i-1] in vows:\n",
    "                    if s[i-2] in vows:\n",
    "                        k = 0\n",
    "                        break\n",
    "    if v == 1 and k == 1:\n",
    "        print(\"<\" + s + \"> is acceptable.\")\n",
    "    else:\n",
    "        print(\"<\" + s + \"> is not acceptable.\")"
   ]
  },
  {
   "cell_type": "markdown",
   "metadata": {},
   "source": [
    "### 7번. UCPC는 무엇의 약자일까? [15904]"
   ]
  },
  {
   "cell_type": "code",
   "execution_count": 50,
   "metadata": {},
   "outputs": [
    {
     "name": "stdout",
     "output_type": "stream",
     "text": [
      "UPCUC\n",
      "I hate UCPC\n"
     ]
    }
   ],
   "source": [
    "# https://tooo1.tistory.com/261\n",
    "string = input()\n",
    "ucpc = ['U','C','P','C']\n",
    "\n",
    "for k in string:\n",
    "    if ucpc:\n",
    "        if k==ucpc[0]:\n",
    "            del ucpc[0]\n",
    "            \n",
    "if not(len(ucpc)):\n",
    "    print(\"I love UCPC\")\n",
    "else:\n",
    "    print(\"I hate UCPC\")"
   ]
  },
  {
   "cell_type": "markdown",
   "metadata": {},
   "source": [
    "### 8번. 스네이크버드 [16435]"
   ]
  },
  {
   "cell_type": "code",
   "execution_count": 48,
   "metadata": {},
   "outputs": [
    {
     "name": "stdout",
     "output_type": "stream",
     "text": [
      "9 1\n",
      "9 5 8 1 3 2 7 6 4\n",
      "10\n"
     ]
    }
   ],
   "source": [
    "n,l = map(int, input().split()) # 과일 개수, 스네이크 길이\n",
    "tmp = sorted(list(map(int, input().split()))) # 과일 높이\n",
    "\n",
    "num = 0\n",
    "for i in tmp:\n",
    "    if l>= i:\n",
    "        l+=1\n",
    "        num +=1\n",
    "print(l)"
   ]
  },
  {
   "cell_type": "markdown",
   "metadata": {},
   "source": [
    "### 9번. 링 [3036]"
   ]
  },
  {
   "cell_type": "code",
   "execution_count": 54,
   "metadata": {},
   "outputs": [
    {
     "name": "stdout",
     "output_type": "stream",
     "text": [
      "3\n",
      "8 4 2\n",
      "2/1\n",
      "4/1\n"
     ]
    }
   ],
   "source": [
    "import math \n",
    "n = int(input()) # 링의 개수\n",
    "tmp = list(map(int, input().split())) # 링 반지름\n",
    "\n",
    "first_ring = tmp[0]\n",
    "\n",
    "for i in range(1,len(tmp)):\n",
    "    number = math.gcd(tmp[i],first_ring)\n",
    "    a = first_ring//number\n",
    "    b = tmp[i]//number\n",
    "    print(\"{}/{}\".format(a,b))"
   ]
  }
 ],
 "metadata": {
  "kernelspec": {
   "display_name": "Python 3",
   "language": "python",
   "name": "python3"
  },
  "language_info": {
   "codemirror_mode": {
    "name": "ipython",
    "version": 3
   },
   "file_extension": ".py",
   "mimetype": "text/x-python",
   "name": "python",
   "nbconvert_exporter": "python",
   "pygments_lexer": "ipython3",
   "version": "3.8.5"
  }
 },
 "nbformat": 4,
 "nbformat_minor": 4
}
